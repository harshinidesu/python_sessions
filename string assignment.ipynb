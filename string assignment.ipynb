{
 "cells": [
  {
   "cell_type": "code",
   "execution_count": 1,
   "id": "347495db",
   "metadata": {},
   "outputs": [
    {
     "name": "stdout",
     "output_type": "stream",
     "text": [
      "enter the string:hadfthi\n",
      "number of characters in the stringL 7\n",
      "hadfthi hadfthi hadfthi hadfthi hadfthi hadfthi hadfthi hadfthi hadfthi hadfthi \n",
      "h\n",
      "had\n",
      "thi\n",
      "ihtfdah\n",
      "i\n",
      "adfth\n",
      "HADFTHI\n",
      "hedfthi\n"
     ]
    }
   ],
   "source": [
    "#1. Write a program that asks the user to enter a string. The program should then print the following:\n",
    "#(a) The total number of characters in the string\n",
    "#(b) The string repeated 10 times\n",
    "#(c) The first character of the string (remember that string indices start at 0) (d) The first three\n",
    "#characters of the string\n",
    "#(e) The last three characters of the string\n",
    "#(f) The string backwards\n",
    "#(g) The seventh character of the string if the string is long enough and a message otherwise\n",
    "#(h) The string with its first and last characters removed\n",
    "#(i) The string in all caps\n",
    "#(j) The string with every a replaced with an e\n",
    "\n",
    "str1=input('enter the string:')\n",
    "print('number of characters in the stringL',len(str1))\n",
    "print(10*(str1+' '))\n",
    "print(str1[0])\n",
    "print(str1[:3])\n",
    "print(str1[-3:])\n",
    "print(str1[::-1])\n",
    "if len(str1)>6:\n",
    "    print(str1[6])\n",
    "else:\n",
    "    print('length of the string is not enough')\n",
    "print(str1[1:-1])\n",
    "print(str1.upper())\n",
    "print(str1.replace('a','e'))"
   ]
  },
  {
   "cell_type": "code",
   "execution_count": 3,
   "id": "81afc0f3",
   "metadata": {},
   "outputs": [
    {
     "name": "stdout",
     "output_type": "stream",
     "text": [
      "enter the string:eed dd ff ss g\n",
      "number of words: 5\n"
     ]
    }
   ],
   "source": [
    "#2. A simple way to estimate the number of words in a string is to count the number of spaces in the\n",
    "#string. Write a program that asks the user for a string and returns an estimate of how many words\n",
    "#are in the string.\n",
    "#Tip: You need to count the number of words using spaces\n",
    "\n",
    "str1=input('enter the string:')\n",
    "count=0\n",
    "for  i in str1:\n",
    "    if i==' ':\n",
    "        count+=1\n",
    "if str1[-1]==' ':\n",
    "    count-=1\n",
    "print('number of words:',count+1)"
   ]
  },
  {
   "cell_type": "markdown",
   "id": "0b895e73",
   "metadata": {},
   "source": [
    " 3.Write a program that asks the user to enter a word and prints out whether that word contains any\n",
    "vowels.\n"
   ]
  },
  {
   "cell_type": "code",
   "execution_count": 5,
   "id": "0798f178",
   "metadata": {},
   "outputs": [
    {
     "name": "stdout",
     "output_type": "stream",
     "text": [
      "enter the string:regsrgs\n"
     ]
    }
   ],
   "source": [
    "str1=input('enter the string:')\n",
    "if i in 'aieou':\n",
    "    print('the string contains vowel')"
   ]
  },
  {
   "cell_type": "markdown",
   "id": "b68619d2",
   "metadata": {},
   "source": [
    " 4. Improvise above code by providing unique vowels"
   ]
  },
  {
   "cell_type": "code",
   "execution_count": 6,
   "id": "6c3a6578",
   "metadata": {},
   "outputs": [
    {
     "name": "stdout",
     "output_type": "stream",
     "text": [
      "enter the string:nallagoni omkar is a gud trainer\n",
      "5\n"
     ]
    }
   ],
   "source": [
    "str1=input('enter the string:')\n",
    "unq=''\n",
    "for i in str1:\n",
    "    if i in 'aeiou':\n",
    "        if i in unq:\n",
    "            print(end='')\n",
    "        else:\n",
    "            unq+=i\n",
    "print(len(unq))"
   ]
  },
  {
   "cell_type": "markdown",
   "id": "52ed8b44",
   "metadata": {},
   "source": [
    " 5. Write a program that asks the user to enter a string. The program should create a new string\n",
    " called new_string from the user’s string such that the second character is changed to an asterisk and\n",
    " three exclamation points are attached to the end of the string. Finally, print new_string.\n",
    " Typical output is shown below:\n",
    " Enter your string: Qbert\n",
    " Output: Q*ert!!!"
   ]
  },
  {
   "cell_type": "code",
   "execution_count": 7,
   "id": "fc998d07",
   "metadata": {},
   "outputs": [
    {
     "name": "stdout",
     "output_type": "stream",
     "text": [
      "enter the string:jhfjhvbjyfutfv\n"
     ]
    },
    {
     "data": {
      "text/plain": [
       "'j*fjhvbjyfutfv!!!!'"
      ]
     },
     "execution_count": 7,
     "metadata": {},
     "output_type": "execute_result"
    }
   ],
   "source": [
    "str1=input('enter the string:')\n",
    "str2=str1[0]+'*'+str1[2::]+'!!!!'\n",
    "str2"
   ]
  },
  {
   "cell_type": "markdown",
   "id": "090be560",
   "metadata": {},
   "source": [
    " 6. Write a program that asks the user to enter a word and determines whether the word is a\n",
    "palindrome or not. A palindrome is a word that reads the same backwards as forwards"
   ]
  },
  {
   "cell_type": "code",
   "execution_count": 8,
   "id": "636a84d8",
   "metadata": {},
   "outputs": [
    {
     "name": "stdout",
     "output_type": "stream",
     "text": [
      "enter the string:sir\n",
      "it is not a palindrome\n"
     ]
    }
   ],
   "source": [
    "str1=input('enter the string:')\n",
    "if str1.casefold()==str1[::-1].casefold():\n",
    "    print('it is a palindrome')\n",
    "else:\n",
    "    print('it is not a palindrome')"
   ]
  },
  {
   "cell_type": "markdown",
   "id": "299bda36",
   "metadata": {},
   "source": [
    " 7. At a certain school, student email addresses end with @student.college.edu, while professor\n",
    "email addresses end with @prof.college.edu. Write a program that first asks the user how many\n",
    "email addresses they will be entering, and then has the user enter those addresses. After all the\n",
    "email addresses are entered, the program should print out a message indicating either that all the\n",
    "addresses are student addresses or that there were some professor addresses entered."
   ]
  },
  {
   "cell_type": "code",
   "execution_count": 10,
   "id": "485e2c7c",
   "metadata": {},
   "outputs": [
    {
     "name": "stdout",
     "output_type": "stream",
     "text": [
      "how  many addresses you want to give:0\n",
      "number of students: 0 /nNumber of profeesors: 0\n"
     ]
    }
   ],
   "source": [
    "num=eval(input('how  many addresses you want to give:'))\n",
    "lit=[]\n",
    "student=0\n",
    "pro=0\n",
    "for nu in range(num):\n",
    "    mail=input('enter the email addresses /n for student:@student.college.edu /n for professor:@prof.college.edu')\n",
    "    print('/n')\n",
    "    lit.append(mail)\n",
    "    if '@student.college.edu' in lit[nu]:\n",
    "        student+=1\n",
    "    elif '@prof.college.edu' in lit[nu]:\n",
    "        pro+=1\n",
    "print('number of students:',student,'/nNumber of profeesors:',pro)"
   ]
  },
  {
   "cell_type": "markdown",
   "id": "45a8447b",
   "metadata": {},
   "source": [
    " 8. Write a program that asks the user to enter a string, then prints out each letter of the string\n",
    "doubled and on a separate line. For instance,\n",
    "if the user entered HEY,\n",
    "the output would be\n",
    "HH\n",
    "EE\n",
    "YY"
   ]
  },
  {
   "cell_type": "code",
   "execution_count": 13,
   "id": "d9222862",
   "metadata": {},
   "outputs": [
    {
     "name": "stdout",
     "output_type": "stream",
     "text": [
      "enter the string:hey\n",
      "hh\n",
      "ee\n",
      "yy\n"
     ]
    }
   ],
   "source": [
    "str1=input('enter the string:')\n",
    "for i in str1:\n",
    "    print(i*2)"
   ]
  },
  {
   "cell_type": "markdown",
   "id": "75bafeab",
   "metadata": {},
   "source": [
    " 9.Write a program that asks the user to enter a word that contains the letter a. The program should\n",
    "then print the following two lines: On the first line should be the part of the string up to and\n",
    "including the the first a, and on the second line should be the rest of the string."
   ]
  },
  {
   "cell_type": "code",
   "execution_count": 14,
   "id": "36157727",
   "metadata": {},
   "outputs": [
    {
     "name": "stdout",
     "output_type": "stream",
     "text": [
      "enter the string:harshini\n",
      "ha\n",
      "rshini"
     ]
    }
   ],
   "source": [
    "str1=input('enter the string:')\n",
    "for i in str1:\n",
    "    if i=='a':\n",
    "        print(i)\n",
    "    else:\n",
    "        print(i,end='')"
   ]
  },
  {
   "cell_type": "markdown",
   "id": "d37b5be8",
   "metadata": {},
   "source": [
    " 10. Write a program that asks the user to enter a word and then capitalizes every other letter of that\n",
    "word.\n",
    "So if the user enters rhinoceros,\n",
    "the program should print rHiNoCeRoS."
   ]
  },
  {
   "cell_type": "code",
   "execution_count": 19,
   "id": "87a56b65",
   "metadata": {},
   "outputs": [
    {
     "name": "stdout",
     "output_type": "stream",
     "text": [
      "enter the string:gfjhvhdhfcjg\n",
      "gFjHvHdHfCjG"
     ]
    }
   ],
   "source": [
    "str1=input('enter the string:')\n",
    "for i in range(len(str1)):\n",
    "    if i%2==0:\n",
    "        print(str1[i],end='')\n",
    "    else:\n",
    "        print(str1[i].upper(),end='')"
   ]
  },
  {
   "cell_type": "markdown",
   "id": "d83d6bb5",
   "metadata": {},
   "source": [
    " 11. Write a program that asks the user to enter two strings of the same length. The program should\n",
    "then check to see if the strings are of the same length. If they are not, the program should print an\n",
    "appropriate message and exit. If they are of the same length, the program should alternate the\n",
    "characters of the two strings. For example,\n",
    "if the user enters abcde and ABCDE\n",
    "the program should print out AaBbCcDdEe."
   ]
  },
  {
   "cell_type": "code",
   "execution_count": 18,
   "id": "bc137a1e",
   "metadata": {},
   "outputs": [
    {
     "name": "stdout",
     "output_type": "stream",
     "text": [
      "enter two strings of same length:ABCDE\n",
      "enter two strings of same length:abcde\n",
      "AaBbCcDdEe"
     ]
    }
   ],
   "source": [
    "str1=input('enter two strings of same length:')\n",
    "str2=input('enter two strings of same length:')\n",
    "if len(str1)==len(str2):\n",
    "    for i,j in zip(str1,str2):\n",
    "        print(i+j,end='')"
   ]
  },
  {
   "cell_type": "markdown",
   "id": "26cd7605",
   "metadata": {},
   "source": [
    " 12. Write a program that asks the user to enter their name in lowercase and then capitalizes the first\n",
    "letter of each word of their name."
   ]
  },
  {
   "cell_type": "code",
   "execution_count": 20,
   "id": "67e7128c",
   "metadata": {},
   "outputs": [
    {
     "name": "stdout",
     "output_type": "stream",
     "text": [
      "enter your full name in lowercase:desu harshini\n",
      "Desu Harshini \n"
     ]
    }
   ],
   "source": [
    "str1=input('enter your full name in lowercase:')\n",
    "list1=str1.split()\n",
    "str2=''\n",
    "list2=[]\n",
    "for i in list1:\n",
    "    list2.append(i.capitalize())\n",
    "for j in list2:\n",
    "    str2=str2+j+' '\n",
    "print(str2)"
   ]
  },
  {
   "cell_type": "markdown",
   "id": "e3ad05f6",
   "metadata": {},
   "source": [
    "#13. The goal of this exercise is to see if you can mimic the behavior of the in operator and the count\n",
    "and index methods using only variables, for loops, and if statements.\n",
    "(a) Without using the in operator, write a program that asks the user for a string and a letter\n",
    "and prints out whether or not the letter appears in the string.\n",
    "(b) Without using the count method, write a program that asks the user for a string and a\n",
    "letter and counts how many occurrences there are of the letter in the string.\n",
    "(c) Without using the index method, write a program that asks the user for a string and a\n",
    "letter and prints out the index of the first occurrence of the letter in the string. If the letter is\n",
    "not in the string, the program should say so."
   ]
  },
  {
   "cell_type": "code",
   "execution_count": 3,
   "id": "bd4c42ff",
   "metadata": {},
   "outputs": [
    {
     "name": "stdout",
     "output_type": "stream",
     "text": [
      "enter a string:rsvjyg\n",
      "enter a letter u want to check:r\n",
      "the letter r is not present in the rsvjyg\n"
     ]
    }
   ],
   "source": [
    "str1=input('enter a string:')\n",
    "str2=input('enter a letter u want to check:')\n",
    "i=0\n",
    "j=0\n",
    "while i<len(str1):\n",
    "    if str1[i]==str2:\n",
    "        i+=1\n",
    "        if j==1:\n",
    "            \n",
    "            print(f'the frist occurence index is[{i}]')\n",
    "    i+=1\n",
    "if j>0:\n",
    "    print(f'the letter{str2} is present in the {str1}')\n",
    "    print(f'the no. occurences are{j}')\n",
    "else:\n",
    "    print(f'the letter {str2} is not present in the {str1}')"
   ]
  },
  {
   "cell_type": "markdown",
   "id": "5143d5e2",
   "metadata": {},
   "source": [
    " 15. Write a Python program to add 'ing' at the end of a given string (length should be at least 3). If the\n",
    "given string already ends with 'ing' then add 'ly' instead.\n",
    "If the string length of the given string is less than 3, leave it unchanged.\n",
    "Go to the editor\n",
    "Sample String : 'abc'\n",
    "Expected Result : 'abcing'\n",
    "Sample String : 'string'\n",
    "Expected Result : 'stringly'"
   ]
  },
  {
   "cell_type": "code",
   "execution_count": 4,
   "id": "49206f38",
   "metadata": {},
   "outputs": [
    {
     "name": "stdout",
     "output_type": "stream",
     "text": [
      "enter a string:string\n",
      "stringly\n"
     ]
    }
   ],
   "source": [
    "str1=input('enter a string:')\n",
    "str2=''\n",
    "if len(str1)>2:\n",
    "    if 'ing' in str1[-3:]:\n",
    "        str2=str1+'ly'\n",
    "        print(str2)\n",
    "    else:\n",
    "        str2=str1+'ing'\n",
    "        print(str2)\n",
    "else:\n",
    "    print(str1)"
   ]
  },
  {
   "cell_type": "code",
   "execution_count": 6,
   "id": "e38318a1",
   "metadata": {},
   "outputs": [
    {
     "name": "stdout",
     "output_type": "stream",
     "text": [
      "enter the string:harsha\n",
      "harshaing\n"
     ]
    }
   ],
   "source": [
    "s1=input('enter the string:')\n",
    "s2=''\n",
    "if len(str1)>1:\n",
    "    if 'ing' in s1[-3:]:\n",
    "        s2=s1+'ly'\n",
    "        print(s2)\n",
    "    else:\n",
    "        s2=s1+'ing'\n",
    "        print(s2)\n",
    "else:\n",
    "    print(s1)"
   ]
  },
  {
   "cell_type": "markdown",
   "id": "72e5e650",
   "metadata": {},
   "source": [
    " 16. Take the following Python code that stores a string:‘\n",
    "string = 'X-DSPAM-Confidence: 0.8475'\n",
    "Extract the portion of the string after the colon character and then use the float function to convert\n",
    "the extracted string into a floating point number.\n"
   ]
  },
  {
   "cell_type": "code",
   "execution_count": 7,
   "id": "2c023125",
   "metadata": {},
   "outputs": [
    {
     "name": "stdout",
     "output_type": "stream",
     "text": [
      "0.8475\n"
     ]
    }
   ],
   "source": [
    "string = 'X-DSPAM-Confidence: 0.8475'\n",
    "colon_pos = string.find(':')\n",
    "confidence = float(string[colon_pos + 1:])\n",
    "print(confidence)"
   ]
  },
  {
   "cell_type": "code",
   "execution_count": null,
   "id": "4837e870",
   "metadata": {},
   "outputs": [],
   "source": []
  }
 ],
 "metadata": {
  "kernelspec": {
   "display_name": "Python 3 (ipykernel)",
   "language": "python",
   "name": "python3"
  },
  "language_info": {
   "codemirror_mode": {
    "name": "ipython",
    "version": 3
   },
   "file_extension": ".py",
   "mimetype": "text/x-python",
   "name": "python",
   "nbconvert_exporter": "python",
   "pygments_lexer": "ipython3",
   "version": "3.11.5"
  }
 },
 "nbformat": 4,
 "nbformat_minor": 5
}
