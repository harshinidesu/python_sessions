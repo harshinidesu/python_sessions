{
 "cells": [
  {
   "cell_type": "code",
   "execution_count": null,
   "id": "e428f6df",
   "metadata": {},
   "outputs": [],
   "source": [
    "#strings\n",
    "#list\n",
    "#dictionary\n",
    "#tuple\n",
    "#set"
   ]
  },
  {
   "cell_type": "markdown",
   "id": "a3fb9835",
   "metadata": {},
   "source": [
    "# **how to read the strings**"
   ]
  },
  {
   "cell_type": "code",
   "execution_count": 1,
   "id": "ed5b74c6",
   "metadata": {},
   "outputs": [
    {
     "data": {
      "text/plain": [
       "'python'"
      ]
     },
     "execution_count": 1,
     "metadata": {},
     "output_type": "execute_result"
    }
   ],
   "source": [
    "string1='python'\n",
    "string1             #single qotes"
   ]
  },
  {
   "cell_type": "code",
   "execution_count": 2,
   "id": "731bfb57",
   "metadata": {},
   "outputs": [
    {
     "data": {
      "text/plain": [
       "'python'"
      ]
     },
     "execution_count": 2,
     "metadata": {},
     "output_type": "execute_result"
    }
   ],
   "source": [
    "string2=\"python\"          #double quotes\n",
    "string2"
   ]
  },
  {
   "cell_type": "code",
   "execution_count": null,
   "id": "0834951e",
   "metadata": {},
   "outputs": [],
   "source": [
    "## triple quotes\n",
    "#doc string is used to say some information about your python code"
   ]
  },
  {
   "cell_type": "code",
   "execution_count": null,
   "id": "1b5c71ef",
   "metadata": {},
   "outputs": [],
   "source": [
    "\"\"\"\n",
    "im creating a hello function\n",
    "arguments: none\n",
    "return:   none\n",
    "\"\"\"\n",
    "def hello():\n",
    "    print(\"good morning\")"
   ]
  },
  {
   "cell_type": "code",
   "execution_count": null,
   "id": "8edf8a28",
   "metadata": {},
   "outputs": [],
   "source": [
    "'hello python'     # i want highlite the python"
   ]
  },
  {
   "cell_type": "code",
   "execution_count": 3,
   "id": "056d21a1",
   "metadata": {},
   "outputs": [
    {
     "name": "stdout",
     "output_type": "stream",
     "text": [
      "hello  \"python\"\n"
     ]
    }
   ],
   "source": [
    "string3='hello  \"python\"'\n",
    "print(string3)"
   ]
  },
  {
   "cell_type": "code",
   "execution_count": 4,
   "id": "b901be6e",
   "metadata": {},
   "outputs": [
    {
     "name": "stdout",
     "output_type": "stream",
     "text": [
      "hello  'python'\n"
     ]
    }
   ],
   "source": [
    "string4=\"hello  'python'\"\n",
    "print(string4)"
   ]
  },
  {
   "cell_type": "code",
   "execution_count": null,
   "id": "3c45f65d",
   "metadata": {},
   "outputs": [],
   "source": [
    "-type \n",
    "\n",
    "-len\n",
    "\n",
    "-max\n",
    "\n",
    "-min"
   ]
  },
  {
   "cell_type": "markdown",
   "id": "c9ef1789",
   "metadata": {},
   "source": [
    "**type:**"
   ]
  },
  {
   "cell_type": "code",
   "execution_count": 5,
   "id": "7386825b",
   "metadata": {},
   "outputs": [
    {
     "data": {
      "text/plain": [
       "str"
      ]
     },
     "execution_count": 5,
     "metadata": {},
     "output_type": "execute_result"
    }
   ],
   "source": [
    "type(string1)       #str"
   ]
  },
  {
   "cell_type": "markdown",
   "id": "8e7466f5",
   "metadata": {},
   "source": [
    "**len**"
   ]
  },
  {
   "cell_type": "code",
   "execution_count": 6,
   "id": "237ac9bd",
   "metadata": {},
   "outputs": [
    {
     "data": {
      "text/plain": [
       "6"
      ]
     },
     "execution_count": 6,
     "metadata": {},
     "output_type": "execute_result"
    }
   ],
   "source": [
    "len(string1)"
   ]
  },
  {
   "cell_type": "markdown",
   "id": "656f022f",
   "metadata": {},
   "source": [
    "**max-min**"
   ]
  },
  {
   "cell_type": "code",
   "execution_count": 8,
   "id": "13c105be",
   "metadata": {},
   "outputs": [
    {
     "data": {
      "text/plain": [
       "'p'"
      ]
     },
     "execution_count": 8,
     "metadata": {},
     "output_type": "execute_result"
    }
   ],
   "source": [
    "string1='pP'\n",
    "max(string1)\n",
    "\n",
    "#ASCII\n",
    "#'A'=65      'a'=97"
   ]
  },
  {
   "cell_type": "markdown",
   "id": "b8810ca7",
   "metadata": {},
   "source": [
    "**ord-chr**"
   ]
  },
  {
   "cell_type": "code",
   "execution_count": 9,
   "id": "67c93fe8",
   "metadata": {},
   "outputs": [
    {
     "data": {
      "text/plain": [
       "112"
      ]
     },
     "execution_count": 9,
     "metadata": {},
     "output_type": "execute_result"
    }
   ],
   "source": [
    "ord('p')    #it will provide ascii value of chr"
   ]
  },
  {
   "cell_type": "raw",
   "id": "1d077caf",
   "metadata": {},
   "source": [
    "ord('p')"
   ]
  },
  {
   "cell_type": "code",
   "execution_count": null,
   "id": "b88e3cb6",
   "metadata": {},
   "outputs": [],
   "source": []
  },
  {
   "cell_type": "code",
   "execution_count": null,
   "id": "d0f06792",
   "metadata": {},
   "outputs": [],
   "source": []
  },
  {
   "cell_type": "code",
   "execution_count": 10,
   "id": "2efab4fa",
   "metadata": {},
   "outputs": [
    {
     "data": {
      "text/plain": [
       "(112, 121, 116, 104, 111, 110)"
      ]
     },
     "execution_count": 10,
     "metadata": {},
     "output_type": "execute_result"
    }
   ],
   "source": [
    "ord('p'),ord('y'),ord('t'),ord('h'),ord('o'),ord('n')"
   ]
  },
  {
   "cell_type": "code",
   "execution_count": 11,
   "id": "3f65b207",
   "metadata": {},
   "outputs": [
    {
     "data": {
      "text/plain": [
       "('p', 'y', 't', 'h', 'o', 'n')"
      ]
     },
     "execution_count": 11,
     "metadata": {},
     "output_type": "execute_result"
    }
   ],
   "source": [
    "chr(112),chr(121),chr(116),chr(104),chr(111),chr(110)"
   ]
  },
  {
   "cell_type": "code",
   "execution_count": null,
   "id": "e742d860",
   "metadata": {},
   "outputs": [],
   "source": [
    "for i in range(10) #range ======math\n",
    "eval"
   ]
  },
  {
   "cell_type": "code",
   "execution_count": 12,
   "id": "187a3e01",
   "metadata": {},
   "outputs": [],
   "source": [
    "# i want print p y t h o n"
   ]
  },
  {
   "cell_type": "markdown",
   "id": "7f6d9e9e",
   "metadata": {},
   "source": [
    "**in**"
   ]
  },
  {
   "cell_type": "code",
   "execution_count": 13,
   "id": "111698cc",
   "metadata": {},
   "outputs": [
    {
     "data": {
      "text/plain": [
       "True"
      ]
     },
     "execution_count": 13,
     "metadata": {},
     "output_type": "execute_result"
    }
   ],
   "source": [
    "string1='python'\n",
    "\n",
    "'p' in string1\n",
    "'y' in string1\n",
    "'t' in string1\n",
    "'h' in string1\n",
    "'o' in string1\n",
    "'n' in string1\n",
    "\n",
    "#i in string1"
   ]
  },
  {
   "cell_type": "code",
   "execution_count": 14,
   "id": "90b5e6d9",
   "metadata": {},
   "outputs": [
    {
     "name": "stdout",
     "output_type": "stream",
     "text": [
      "p\n",
      "y\n",
      "t\n",
      "h\n",
      "o\n",
      "n\n"
     ]
    }
   ],
   "source": [
    "for i in  string1:\n",
    "    print(i)"
   ]
  },
  {
   "cell_type": "markdown",
   "id": "a4b96f32",
   "metadata": {},
   "source": [
    "-  range():   you need to provide number inside the range\n",
    "    \n",
    "- in     :  is used only for strings"
   ]
  },
  {
   "cell_type": "code",
   "execution_count": null,
   "id": "35d2f919",
   "metadata": {},
   "outputs": [],
   "source": [
    "if you want print the letters using for loop go for in operator"
   ]
  },
  {
   "cell_type": "code",
   "execution_count": null,
   "id": "f037f4f7",
   "metadata": {},
   "outputs": [],
   "source": [
    "print(ord('p'))\n",
    "print(ord('y'))\n",
    "ord('t')\n",
    "ord('h')\n",
    "ord('o')\n",
    "ord('n')"
   ]
  },
  {
   "cell_type": "code",
   "execution_count": 15,
   "id": "a8d23e5c",
   "metadata": {},
   "outputs": [
    {
     "name": "stdout",
     "output_type": "stream",
     "text": [
      "112\n",
      "121\n",
      "116\n",
      "104\n",
      "111\n",
      "110\n"
     ]
    }
   ],
   "source": [
    "for i in string1:\n",
    "    print(ord(i))\n"
   ]
  },
  {
   "cell_type": "code",
   "execution_count": 17,
   "id": "7ea1a3eb",
   "metadata": {},
   "outputs": [
    {
     "name": "stdout",
     "output_type": "stream",
     "text": [
      "the ascii value of p is112\n",
      "the ascii value of y is121\n",
      "the ascii value of t is116\n",
      "the ascii value of h is104\n",
      "the ascii value of o is111\n",
      "the ascii value of n is110\n"
     ]
    }
   ],
   "source": [
    "for i in string1:\n",
    "    print('the ascii value of {} is{}'.format(i,ord(i)))"
   ]
  },
  {
   "cell_type": "code",
   "execution_count": 20,
   "id": "d29e4723",
   "metadata": {},
   "outputs": [
    {
     "name": "stdout",
     "output_type": "stream",
     "text": [
      "the ascii value A is65\n",
      "the ascii value B is66\n",
      "the ascii value C is67\n",
      "the ascii value D is68\n",
      "the ascii value E is69\n",
      "the ascii value F is70\n",
      "the ascii value G is71\n",
      "the ascii value H is72\n",
      "the ascii value I is73\n",
      "the ascii value J is74\n",
      "the ascii value K is75\n",
      "the ascii value L is76\n",
      "the ascii value M is77\n",
      "the ascii value N is78\n",
      "the ascii value O is79\n",
      "the ascii value P is80\n",
      "the ascii value Q is81\n",
      "the ascii value R is82\n",
      "the ascii value S is83\n",
      "the ascii value T is84\n",
      "the ascii value U is85\n",
      "the ascii value V is86\n",
      "the ascii value W is87\n",
      "the ascii value X is88\n",
      "the ascii value Y is89\n",
      "the ascii value Z is90\n"
     ]
    }
   ],
   "source": [
    "# Ascii value of A to Z\n",
    "for i in 'ABCDEFGHIJKLMNOPQRSTUVWXYZ':\n",
    "    print('the ascii value {} is{}'.format(i,ord(i)))"
   ]
  },
  {
   "cell_type": "code",
   "execution_count": null,
   "id": "271eb63b",
   "metadata": {},
   "outputs": [],
   "source": [
    "#package_name: string\n",
    "import string"
   ]
  },
  {
   "cell_type": "code",
   "execution_count": 21,
   "id": "a961d0c2",
   "metadata": {},
   "outputs": [
    {
     "ename": "NameError",
     "evalue": "name 'string' is not defined",
     "output_type": "error",
     "traceback": [
      "\u001b[1;31m---------------------------------------------------------------------------\u001b[0m",
      "\u001b[1;31mNameError\u001b[0m                                 Traceback (most recent call last)",
      "Cell \u001b[1;32mIn[21], line 1\u001b[0m\n\u001b[1;32m----> 1\u001b[0m \u001b[38;5;28mdir\u001b[39m(string)\n",
      "\u001b[1;31mNameError\u001b[0m: name 'string' is not defined"
     ]
    }
   ],
   "source": [
    "dir(string)"
   ]
  },
  {
   "cell_type": "code",
   "execution_count": 22,
   "id": "ec61e63c",
   "metadata": {},
   "outputs": [
    {
     "name": "stdout",
     "output_type": "stream",
     "text": [
      "the ascii value of A is65\n",
      "the ascii value of B is66\n",
      "the ascii value of C is67\n",
      "the ascii value of D is68\n",
      "the ascii value of E is69\n",
      "the ascii value of F is70\n",
      "the ascii value of G is71\n",
      "the ascii value of H is72\n",
      "the ascii value of I is73\n",
      "the ascii value of J is74\n",
      "the ascii value of K is75\n",
      "the ascii value of L is76\n",
      "the ascii value of M is77\n",
      "the ascii value of N is78\n",
      "the ascii value of O is79\n",
      "the ascii value of P is80\n",
      "the ascii value of Q is81\n",
      "the ascii value of R is82\n",
      "the ascii value of S is83\n",
      "the ascii value of T is84\n",
      "the ascii value of U is85\n",
      "the ascii value of V is86\n",
      "the ascii value of W is87\n",
      "the ascii value of X is88\n",
      "the ascii value of Y is89\n",
      "the ascii value of Z is90\n"
     ]
    }
   ],
   "source": [
    "import string\n",
    "for i in string.ascii_uppercase:\n",
    "    print('the ascii value of {} is{}'.format(i,ord(i)))"
   ]
  },
  {
   "cell_type": "code",
   "execution_count": 23,
   "id": "467359a6",
   "metadata": {},
   "outputs": [
    {
     "name": "stdout",
     "output_type": "stream",
     "text": [
      "the ascii value of a is97\n",
      "the ascii value of b is98\n",
      "the ascii value of c is99\n",
      "the ascii value of d is100\n",
      "the ascii value of e is101\n",
      "the ascii value of f is102\n",
      "the ascii value of g is103\n",
      "the ascii value of h is104\n",
      "the ascii value of i is105\n",
      "the ascii value of j is106\n",
      "the ascii value of k is107\n",
      "the ascii value of l is108\n",
      "the ascii value of m is109\n",
      "the ascii value of n is110\n",
      "the ascii value of o is111\n",
      "the ascii value of p is112\n",
      "the ascii value of q is113\n",
      "the ascii value of r is114\n",
      "the ascii value of s is115\n",
      "the ascii value of t is116\n",
      "the ascii value of u is117\n",
      "the ascii value of v is118\n",
      "the ascii value of w is119\n",
      "the ascii value of x is120\n",
      "the ascii value of y is121\n",
      "the ascii value of z is122\n"
     ]
    }
   ],
   "source": [
    "import string\n",
    "for i in string.ascii_lowercase:\n",
    "    print('the ascii value of {} is{}'.format(i,ord(i)))"
   ]
  },
  {
   "cell_type": "code",
   "execution_count": 24,
   "id": "adbb6b3f",
   "metadata": {},
   "outputs": [
    {
     "name": "stdout",
     "output_type": "stream",
     "text": [
      "1 \u0001\n",
      "2 \u0002\n",
      "3 \u0003\n",
      "4 \u0004\n",
      "5 \u0005\n",
      "6 \u0006\n",
      "7 \u0007\n",
      "8 \b\n",
      "9 \t\n",
      "10 \n",
      "\n",
      "11 \u000b",
      "\n",
      "12 \f",
      "\n",
      "13 \r\n",
      "14 \u000e\n",
      "15 \u000f\n",
      "16 \u0010\n",
      "17 \u0011\n",
      "18 \u0012\n",
      "19 \u0013\n",
      "20 \u0014\n",
      "21 \u0015\n",
      "22 \u0016\n",
      "23 \u0017\n",
      "24 \u0018\n",
      "25 \u0019\n",
      "26 \u001a\n",
      "27 \u001b\n",
      "28 \u001c",
      "\n",
      "29 \u001d",
      "\n",
      "30 \u001e",
      "\n",
      "31 \u001f\n",
      "32  \n",
      "33 !\n",
      "34 \"\n",
      "35 #\n",
      "36 $\n",
      "37 %\n",
      "38 &\n",
      "39 '\n",
      "40 (\n",
      "41 )\n",
      "42 *\n",
      "43 +\n",
      "44 ,\n",
      "45 -\n",
      "46 .\n",
      "47 /\n",
      "48 0\n",
      "49 1\n"
     ]
    }
   ],
   "source": [
    "#what is the start and end of ascii number?\n",
    "\n",
    "for i in range(1,50):\n",
    "    print(i,chr(i))"
   ]
  },
  {
   "cell_type": "code",
   "execution_count": 25,
   "id": "9234d205",
   "metadata": {},
   "outputs": [
    {
     "name": "stdout",
     "output_type": "stream",
     "text": [
      "33 !\n",
      "34 \"\n",
      "35 #\n",
      "36 $\n",
      "37 %\n",
      "38 &\n",
      "39 '\n",
      "40 (\n",
      "41 )\n",
      "42 *\n",
      "43 +\n",
      "44 ,\n",
      "45 -\n",
      "46 .\n",
      "47 /\n",
      "48 0\n",
      "49 1\n",
      "50 2\n",
      "51 3\n",
      "52 4\n",
      "53 5\n",
      "54 6\n",
      "55 7\n",
      "56 8\n",
      "57 9\n",
      "58 :\n",
      "59 ;\n",
      "60 <\n",
      "61 =\n",
      "62 >\n",
      "63 ?\n",
      "64 @\n",
      "65 A\n",
      "66 B\n",
      "67 C\n",
      "68 D\n",
      "69 E\n",
      "70 F\n",
      "71 G\n",
      "72 H\n",
      "73 I\n",
      "74 J\n",
      "75 K\n",
      "76 L\n",
      "77 M\n",
      "78 N\n",
      "79 O\n",
      "80 P\n",
      "81 Q\n",
      "82 R\n",
      "83 S\n",
      "84 T\n",
      "85 U\n",
      "86 V\n",
      "87 W\n",
      "88 X\n",
      "89 Y\n",
      "90 Z\n",
      "91 [\n",
      "92 \\\n",
      "93 ]\n",
      "94 ^\n",
      "95 _\n",
      "96 `\n",
      "97 a\n",
      "98 b\n",
      "99 c\n",
      "100 d\n",
      "101 e\n",
      "102 f\n",
      "103 g\n",
      "104 h\n",
      "105 i\n",
      "106 j\n",
      "107 k\n",
      "108 l\n",
      "109 m\n",
      "110 n\n",
      "111 o\n",
      "112 p\n",
      "113 q\n",
      "114 r\n",
      "115 s\n",
      "116 t\n",
      "117 u\n",
      "118 v\n",
      "119 w\n",
      "120 x\n",
      "121 y\n",
      "122 z\n",
      "123 {\n",
      "124 |\n",
      "125 }\n",
      "126 ~\n"
     ]
    }
   ],
   "source": [
    "for i in range(33,127):\n",
    "    print(i,chr(i))"
   ]
  },
  {
   "cell_type": "code",
   "execution_count": 26,
   "id": "e43918c0",
   "metadata": {},
   "outputs": [
    {
     "data": {
      "text/plain": [
       "'0123456789abcdefghijklmnopqrstuvwxyzABCDEFGHIJKLMNOPQRSTUVWXYZ!\"#$%&\\'()*+,-./:;<=>?@[\\\\]^_`{|}~ \\t\\n\\r\\x0b\\x0c'"
      ]
     },
     "execution_count": 26,
     "metadata": {},
     "output_type": "execute_result"
    }
   ],
   "source": [
    "string.printable"
   ]
  },
  {
   "cell_type": "code",
   "execution_count": null,
   "id": "3813a37e",
   "metadata": {},
   "outputs": [],
   "source": [
    "# wap ask the user find number of 'a' letters in a given string\n",
    "#string='hai how are you and how do you do'\n",
    "#ans:3\n",
    "#print each letter====>i\n",
    "#appily the if conditon i=='a'"
   ]
  },
  {
   "cell_type": "code",
   "execution_count": 27,
   "id": "3cb9b7e1",
   "metadata": {},
   "outputs": [
    {
     "name": "stdout",
     "output_type": "stream",
     "text": [
      "h\n",
      "a\n",
      "i\n",
      " \n",
      "h\n",
      "o\n",
      "w\n",
      " \n",
      "a\n",
      "r\n",
      "e\n",
      " \n",
      "y\n",
      "o\n",
      "u\n",
      " \n",
      "a\n",
      "n\n",
      "d\n",
      " \n",
      "h\n",
      "o\n",
      "w\n",
      " \n",
      "d\n",
      "o\n",
      " \n",
      "y\n",
      "o\n",
      "u\n",
      " \n",
      "d\n",
      "o\n",
      "3\n"
     ]
    }
   ],
   "source": [
    "string='hai how are you and how do you do'\n",
    "count=0\n",
    "for i in string:\n",
    "    print(i)\n",
    "    if i=='a':\n",
    "        count=count+1\n",
    "        \n",
    "print(count)"
   ]
  },
  {
   "cell_type": "code",
   "execution_count": null,
   "id": "c4e13337",
   "metadata": {},
   "outputs": [],
   "source": [
    "#wap count the number of vowels in a given string\n",
    "#string='hai how are you'\n",
    "#7"
   ]
  },
  {
   "cell_type": "code",
   "execution_count": 32,
   "id": "bcfb668e",
   "metadata": {},
   "outputs": [
    {
     "name": "stdout",
     "output_type": "stream",
     "text": [
      "h\n",
      "a\n",
      "i\n",
      " \n",
      "h\n",
      "o\n",
      "w\n",
      " \n",
      "a\n",
      "r\n",
      "e\n",
      " \n",
      "y\n",
      "o\n",
      "u\n",
      "7\n"
     ]
    }
   ],
   "source": [
    "string='hai how are you'\n",
    "count=0\n",
    "for i in string:\n",
    "    print(i)\n",
    "    if i in'aeiou':\n",
    "        count=count+1\n",
    "print(count)"
   ]
  },
  {
   "cell_type": "code",
   "execution_count": 36,
   "id": "a477940f",
   "metadata": {},
   "outputs": [
    {
     "name": "stdout",
     "output_type": "stream",
     "text": [
      "h\n",
      "a\n",
      "i\n",
      " \n",
      "h\n",
      "o\n",
      "w\n",
      " \n",
      "a\n",
      "r\n",
      "e\n",
      " \n",
      "y\n",
      "o\n",
      "u\n",
      "7\n"
     ]
    }
   ],
   "source": [
    "# wap count the number of unique vowels in a given string\n",
    "#ans:5\n",
    "str=''\n",
    "string='hai how are you'\n",
    "\n",
    "count=0\n",
    "for i in string:\n",
    "    print(i)\n",
    "    if i in'aeiou':\n",
    "        count=count+1\n",
    "        string=string+i\n",
    "print(count)\n"
   ]
  },
  {
   "cell_type": "code",
   "execution_count": 37,
   "id": "db3a1a9f",
   "metadata": {},
   "outputs": [
    {
     "name": "stdout",
     "output_type": "stream",
     "text": [
      "python\n"
     ]
    }
   ],
   "source": [
    "string1=''\n",
    "for i in 'python':\n",
    "    string1=string1+i\n",
    "    \n",
    "print(string1)"
   ]
  },
  {
   "cell_type": "code",
   "execution_count": 41,
   "id": "031c7db1",
   "metadata": {},
   "outputs": [],
   "source": [
    "str1='hai'\n",
    "str2='hello'"
   ]
  },
  {
   "cell_type": "code",
   "execution_count": 42,
   "id": "a8b34b1b",
   "metadata": {},
   "outputs": [
    {
     "data": {
      "text/plain": [
       "'haihaihai'"
      ]
     },
     "execution_count": 42,
     "metadata": {},
     "output_type": "execute_result"
    }
   ],
   "source": [
    "3*str1"
   ]
  },
  {
   "cell_type": "markdown",
   "id": "2edc493d",
   "metadata": {},
   "source": [
    "**index**"
   ]
  },
  {
   "cell_type": "code",
   "execution_count": null,
   "id": "b63325d3",
   "metadata": {},
   "outputs": [],
   "source": [
    "string1='python'    #6 letters"
   ]
  },
  {
   "cell_type": "code",
   "execution_count": null,
   "id": "120b3c58",
   "metadata": {},
   "outputs": [],
   "source": [
    "p  y  t   h  o  n\n",
    "0  1  2   3  4  5"
   ]
  },
  {
   "cell_type": "code",
   "execution_count": 45,
   "id": "4770cbf6",
   "metadata": {},
   "outputs": [
    {
     "data": {
      "text/plain": [
       "('p', 'y', 't', 'h', 'o', 'n')"
      ]
     },
     "execution_count": 45,
     "metadata": {},
     "output_type": "execute_result"
    }
   ],
   "source": [
    "string1[0],string1[1],string1[2],string1[3],string1[4],string1[5]"
   ]
  },
  {
   "cell_type": "code",
   "execution_count": 46,
   "id": "9c05d8e5",
   "metadata": {},
   "outputs": [
    {
     "name": "stdout",
     "output_type": "stream",
     "text": [
      "p\n",
      "y\n",
      "t\n",
      "h\n",
      "o\n"
     ]
    }
   ],
   "source": [
    "for i in range(5):\n",
    "    print(string1[i])\n",
    "    \n",
    "# i======  will give index\n",
    "# string[i] ===== letters"
   ]
  },
  {
   "cell_type": "code",
   "execution_count": 1,
   "id": "da008ae1",
   "metadata": {},
   "outputs": [
    {
     "name": "stdout",
     "output_type": "stream",
     "text": [
      "p\n",
      "y\n",
      "t\n",
      "h\n",
      "o\n",
      "n\n",
      "0 p\n",
      "1 y\n",
      "2 t\n",
      "3 h\n",
      "4 o\n",
      "5 n\n"
     ]
    }
   ],
   "source": [
    "string1='python'\n",
    "\n",
    "# i want to print letters using in operator\n",
    "#i want to print letters using range operator\n",
    "\n",
    "for i in string1:\n",
    "    print(i)\n",
    "    \n",
    "    \n",
    "for i in range(len(string1)):\n",
    "    print(i,string1[i])"
   ]
  },
  {
   "cell_type": "markdown",
   "id": "cfd9c1f5",
   "metadata": {},
   "source": [
    "**10-11-2023**"
   ]
  },
  {
   "cell_type": "code",
   "execution_count": 4,
   "id": "8f3ebfdc",
   "metadata": {},
   "outputs": [],
   "source": [
    "string1='python'"
   ]
  },
  {
   "cell_type": "code",
   "execution_count": null,
   "id": "bc523d1c",
   "metadata": {},
   "outputs": [],
   "source": [
    "# i want to print the letters using for loop\n",
    "#in\n",
    "#range"
   ]
  },
  {
   "cell_type": "code",
   "execution_count": 3,
   "id": "a2b2da37",
   "metadata": {},
   "outputs": [
    {
     "name": "stdout",
     "output_type": "stream",
     "text": [
      "p y t h o n "
     ]
    }
   ],
   "source": [
    "for i in string1:         # i means each letter\n",
    "    print(i,end=' ')\n",
    "    \n"
   ]
  },
  {
   "cell_type": "code",
   "execution_count": 5,
   "id": "892503c6",
   "metadata": {},
   "outputs": [
    {
     "name": "stdout",
     "output_type": "stream",
     "text": [
      "0 p\n",
      "1 y\n",
      "2 t\n",
      "3 h\n",
      "4 o\n",
      "5 n\n"
     ]
    }
   ],
   "source": [
    "for i in range(len(string1)):      #i means number:0\n",
    "    print(i,string1[i])             # index operator"
   ]
  },
  {
   "cell_type": "code",
   "execution_count": 7,
   "id": "7bc94230",
   "metadata": {},
   "outputs": [
    {
     "data": {
      "text/plain": [
       "'y'"
      ]
     },
     "execution_count": 7,
     "metadata": {},
     "output_type": "execute_result"
    }
   ],
   "source": [
    "string1[1]"
   ]
  },
  {
   "cell_type": "code",
   "execution_count": 8,
   "id": "e514f3ea",
   "metadata": {},
   "outputs": [
    {
     "name": "stdout",
     "output_type": "stream",
     "text": [
      "the index of p is0\n",
      "the index of y is1\n",
      "the index of t is2\n",
      "the index of h is3\n",
      "the index of o is4\n",
      "the index of n is5\n"
     ]
    }
   ],
   "source": [
    "#the index of p is 0\n",
    "#the index of y is 1\n",
    "\n",
    "for i in range(len(string1)):\n",
    "    print('the index of {} is{}'.format(string1[i],i))\n"
   ]
  },
  {
   "cell_type": "code",
   "execution_count": null,
   "id": "e97fa2e2",
   "metadata": {},
   "outputs": [],
   "source": [
    "-6  -5  -4   -3   -2   -1\n",
    "p    y   t    h    o    n\n",
    "0    1   2    3    4    5======>pos"
   ]
  },
  {
   "cell_type": "code",
   "execution_count": 9,
   "id": "7f6fa5fd",
   "metadata": {},
   "outputs": [
    {
     "data": {
      "text/plain": [
       "'n'"
      ]
     },
     "execution_count": 9,
     "metadata": {},
     "output_type": "execute_result"
    }
   ],
   "source": [
    "string1[-1]"
   ]
  },
  {
   "cell_type": "code",
   "execution_count": null,
   "id": "57eaf7ed",
   "metadata": {},
   "outputs": [],
   "source": [
    "#iterate the for loop on string1\n",
    "#print the letters using neagative index\n",
    "#the idea is frist you need to print the numers between -6 to -1 using for loop"
   ]
  },
  {
   "cell_type": "code",
   "execution_count": null,
   "id": "97d8fa95",
   "metadata": {},
   "outputs": [],
   "source": [
    "string1[-6],string2[-5],string1[-4]"
   ]
  },
  {
   "cell_type": "code",
   "execution_count": 10,
   "id": "599dbcb9",
   "metadata": {},
   "outputs": [
    {
     "name": "stdout",
     "output_type": "stream",
     "text": [
      "-6\n",
      "-5\n",
      "-4\n",
      "-3\n",
      "-2\n",
      "-1\n"
     ]
    }
   ],
   "source": [
    "for i in range(-6,0):\n",
    "    print(i)"
   ]
  },
  {
   "cell_type": "code",
   "execution_count": 11,
   "id": "d6d310cf",
   "metadata": {
    "scrolled": true
   },
   "outputs": [
    {
     "name": "stdout",
     "output_type": "stream",
     "text": [
      "the negative index of p is -6\n",
      "the negative index of y is -5\n",
      "the negative index of t is -4\n",
      "the negative index of h is -3\n",
      "the negative index of o is -2\n",
      "the negative index of n is -1\n"
     ]
    }
   ],
   "source": [
    "for i in range(-6,0):\n",
    "    print('the negative index of {} is {}'.format(string1[i],i))"
   ]
  },
  {
   "cell_type": "code",
   "execution_count": null,
   "id": "a424fc8c",
   "metadata": {},
   "outputs": [],
   "source": [
    "string1=python python\n",
    "for i in range(len(string1,0):"
   ]
  },
  {
   "cell_type": "code",
   "execution_count": 3,
   "id": "f0d19c5a",
   "metadata": {},
   "outputs": [
    {
     "name": "stdout",
     "output_type": "stream",
     "text": [
      "the postive index is 0 and negaitve index is p for -6\n",
      "the postive index is 1 and negaitve index is y for -5\n",
      "the postive index is 2 and negaitve index is t for -4\n",
      "the postive index is 3 and negaitve index is h for -3\n",
      "the postive index is 4 and negaitve index is o for -2\n",
      "the postive index is 5 and negaitve index is n for -1\n"
     ]
    }
   ],
   "source": [
    "#'the postive index is{} and negaitve index is {} for a leeter p\n",
    "string='python'\n",
    "for i in range(len(string)): \n",
    "    print('the postive index is {} and negaitve index is {} for {}'.format(i,string[i],i-6))"
   ]
  },
  {
   "cell_type": "code",
   "execution_count": 5,
   "id": "7f9b39ed",
   "metadata": {},
   "outputs": [
    {
     "name": "stdout",
     "output_type": "stream",
     "text": [
      "the postive index of p is0\n",
      "the postive index of y is1\n",
      "the postive index of t is2\n",
      "the postive index of h is3\n",
      "the postive index of o is4\n",
      "the postive index of n is5\n"
     ]
    }
   ],
   "source": [
    "for i in range(-len(string1),0):\n",
    "    print('the postive index of {} is{}'.format(string1[i],i+6))\n",
    "    "
   ]
  },
  {
   "cell_type": "code",
   "execution_count": 19,
   "id": "87dbd88d",
   "metadata": {},
   "outputs": [
    {
     "name": "stdout",
     "output_type": "stream",
     "text": [
      "the postive index of p is0\n",
      "the postive index of y is1\n",
      "the postive index of t is2\n",
      "the postive index of h is3\n",
      "the postive index of o is4\n",
      "the postive index of n is5\n"
     ]
    }
   ],
   "source": [
    "i=0\n",
    "while i<len(string1):\n",
    "        print('the postive index of {} is{}'.format(string1[i],i))\n",
    "        i=i+1\n",
    "    "
   ]
  },
  {
   "cell_type": "code",
   "execution_count": 20,
   "id": "ed849d82",
   "metadata": {},
   "outputs": [
    {
     "name": "stdout",
     "output_type": "stream",
     "text": [
      "the postive index is0 and negative index is-6 for p\n",
      "the postive index is1 and negative index is-5 for y\n",
      "the postive index is2 and negative index is-4 for t\n",
      "the postive index is3 and negative index is-3 for h\n",
      "the postive index is4 and negative index is-2 for o\n",
      "the postive index is5 and negative index is-1 for n\n"
     ]
    }
   ],
   "source": [
    "i=0\n",
    "while i<len(string1):\n",
    "    print('the postive index is{} and negative index is{} for {}'.format(i,i-6,string1[i]))\n",
    "    i=i+1"
   ]
  },
  {
   "cell_type": "code",
   "execution_count": 23,
   "id": "03b54761",
   "metadata": {},
   "outputs": [
    {
     "name": "stdout",
     "output_type": "stream",
     "text": [
      "3\n"
     ]
    }
   ],
   "source": [
    "string1='hai how are you'\n",
    "count=1\n",
    "for i in string1:\n",
    "    if i=='a':\n",
    "        count+=1\n",
    "print(count)"
   ]
  },
  {
   "cell_type": "code",
   "execution_count": 25,
   "id": "a0dfa67e",
   "metadata": {},
   "outputs": [
    {
     "name": "stdout",
     "output_type": "stream",
     "text": [
      "3\n"
     ]
    }
   ],
   "source": [
    "string1='hai how are you'\n",
    "count=1\n",
    "for i in  range(len(string1)):\n",
    "    if string1[i]=='a':\n",
    "        count+=1\n",
    "print(count)"
   ]
  },
  {
   "cell_type": "markdown",
   "id": "e381ce47",
   "metadata": {},
   "source": [
    "**mutable and immutable concept**"
   ]
  },
  {
   "cell_type": "code",
   "execution_count": null,
   "id": "43c846b2",
   "metadata": {},
   "outputs": [],
   "source": [
    "mutable ==== we can change\n",
    "immutable ===== we can not change the value by using index operations"
   ]
  },
  {
   "cell_type": "code",
   "execution_count": 3,
   "id": "f87dcf3d",
   "metadata": {},
   "outputs": [
    {
     "ename": "TypeError",
     "evalue": "'str' object does not support item assignment",
     "output_type": "error",
     "traceback": [
      "\u001b[1;31m---------------------------------------------------------------------------\u001b[0m",
      "\u001b[1;31mTypeError\u001b[0m                                 Traceback (most recent call last)",
      "Cell \u001b[1;32mIn[3], line 4\u001b[0m\n\u001b[0;32m      1\u001b[0m string1\u001b[38;5;241m=\u001b[39m\u001b[38;5;124m'\u001b[39m\u001b[38;5;124mpython\u001b[39m\u001b[38;5;124m'\u001b[39m\n\u001b[0;32m      2\u001b[0m \u001b[38;5;66;03m# i want change'p' ======'P'\u001b[39;00m\n\u001b[0;32m      3\u001b[0m \u001b[38;5;66;03m#o/p: 'python'\u001b[39;00m\n\u001b[1;32m----> 4\u001b[0m string1[\u001b[38;5;241m0\u001b[39m]\u001b[38;5;241m=\u001b[39m\u001b[38;5;124m'\u001b[39m\u001b[38;5;124mp\u001b[39m\u001b[38;5;124m'\u001b[39m\n",
      "\u001b[1;31mTypeError\u001b[0m: 'str' object does not support item assignment"
     ]
    }
   ],
   "source": [
    "string1='python'\n",
    "# i want change'p' ======'P'\n",
    "#o/p: 'python'\n",
    "string1[0]='p' "
   ]
  },
  {
   "cell_type": "code",
   "execution_count": 27,
   "id": "1046ee68",
   "metadata": {},
   "outputs": [
    {
     "data": {
      "text/plain": [
       "[1000, 200, 300]"
      ]
     },
     "execution_count": 27,
     "metadata": {},
     "output_type": "execute_result"
    }
   ],
   "source": [
    "list1=[100,200,300]\n",
    "list1[0]=1000\n",
    "list1"
   ]
  },
  {
   "cell_type": "markdown",
   "id": "9119da8f",
   "metadata": {},
   "source": [
    "**slice**"
   ]
  },
  {
   "cell_type": "code",
   "execution_count": null,
   "id": "017f7a61",
   "metadata": {},
   "outputs": [],
   "source": [
    "h  a  i  h  o   w    a   r   e   y  o   u\n",
    "0  1  2  3  4   5   6    7   8   9  10   11"
   ]
  },
  {
   "cell_type": "code",
   "execution_count": 28,
   "id": "10ad6a9b",
   "metadata": {},
   "outputs": [
    {
     "data": {
      "text/plain": [
       "'i how ar'"
      ]
     },
     "execution_count": 28,
     "metadata": {},
     "output_type": "execute_result"
    }
   ],
   "source": [
    "string1='hai how are you'\n",
    "string1[2:10]\n"
   ]
  },
  {
   "cell_type": "code",
   "execution_count": 30,
   "id": "207d2633",
   "metadata": {},
   "outputs": [
    {
     "data": {
      "text/plain": [
       "'ioa'"
      ]
     },
     "execution_count": 30,
     "metadata": {},
     "output_type": "execute_result"
    }
   ],
   "source": [
    "string1='hai how are you'\n",
    "string1[2:10:3]"
   ]
  },
  {
   "cell_type": "code",
   "execution_count": null,
   "id": "7e581ec8",
   "metadata": {},
   "outputs": [],
   "source": [
    "string1[2:10:-3]     not works\n",
    "string1[2:10:3]       it works"
   ]
  },
  {
   "cell_type": "code",
   "execution_count": null,
   "id": "57da61cf",
   "metadata": {},
   "outputs": [],
   "source": [
    "#topics\n",
    "-reading methods\n",
    "-single/double/triple(doc string)\n",
    "-type\n",
    "-len\n",
    "-max\n",
    "-min\n",
    "-concatention\n",
    "-\n",
    "-in\n",
    "-index\n",
    "-mutable\n",
    "-slice\n"
   ]
  },
  {
   "cell_type": "code",
   "execution_count": 31,
   "id": "5d9922f3",
   "metadata": {},
   "outputs": [
    {
     "data": {
      "text/plain": [
       "['__add__',\n",
       " '__class__',\n",
       " '__contains__',\n",
       " '__delattr__',\n",
       " '__dir__',\n",
       " '__doc__',\n",
       " '__eq__',\n",
       " '__format__',\n",
       " '__ge__',\n",
       " '__getattribute__',\n",
       " '__getitem__',\n",
       " '__getnewargs__',\n",
       " '__getstate__',\n",
       " '__gt__',\n",
       " '__hash__',\n",
       " '__init__',\n",
       " '__init_subclass__',\n",
       " '__iter__',\n",
       " '__le__',\n",
       " '__len__',\n",
       " '__lt__',\n",
       " '__mod__',\n",
       " '__mul__',\n",
       " '__ne__',\n",
       " '__new__',\n",
       " '__reduce__',\n",
       " '__reduce_ex__',\n",
       " '__repr__',\n",
       " '__rmod__',\n",
       " '__rmul__',\n",
       " '__setattr__',\n",
       " '__sizeof__',\n",
       " '__str__',\n",
       " '__subclasshook__',\n",
       " 'capitalize',\n",
       " 'casefold',\n",
       " 'center',\n",
       " 'count',\n",
       " 'encode',\n",
       " 'endswith',\n",
       " 'expandtabs',\n",
       " 'find',\n",
       " 'format',\n",
       " 'format_map',\n",
       " 'index',\n",
       " 'isalnum',\n",
       " 'isalpha',\n",
       " 'isascii',\n",
       " 'isdecimal',\n",
       " 'isdigit',\n",
       " 'isidentifier',\n",
       " 'islower',\n",
       " 'isnumeric',\n",
       " 'isprintable',\n",
       " 'isspace',\n",
       " 'istitle',\n",
       " 'isupper',\n",
       " 'join',\n",
       " 'ljust',\n",
       " 'lower',\n",
       " 'lstrip',\n",
       " 'maketrans',\n",
       " 'partition',\n",
       " 'removeprefix',\n",
       " 'removesuffix',\n",
       " 'replace',\n",
       " 'rfind',\n",
       " 'rindex',\n",
       " 'rjust',\n",
       " 'rpartition',\n",
       " 'rsplit',\n",
       " 'rstrip',\n",
       " 'split',\n",
       " 'splitlines',\n",
       " 'startswith',\n",
       " 'strip',\n",
       " 'swapcase',\n",
       " 'title',\n",
       " 'translate',\n",
       " 'upper',\n",
       " 'zfill']"
      ]
     },
     "execution_count": 31,
     "metadata": {},
     "output_type": "execute_result"
    }
   ],
   "source": [
    "dir('')"
   ]
  },
  {
   "cell_type": "markdown",
   "id": "e802086d",
   "metadata": {},
   "source": [
    "**capitalize**"
   ]
  },
  {
   "cell_type": "code",
   "execution_count": 34,
   "id": "6a8a55b7",
   "metadata": {},
   "outputs": [
    {
     "data": {
      "text/plain": [
       "'Welcome'"
      ]
     },
     "execution_count": 34,
     "metadata": {},
     "output_type": "execute_result"
    }
   ],
   "source": [
    "string1='welcome'\n",
    "string1.capitalize()"
   ]
  },
  {
   "cell_type": "markdown",
   "id": "a42b9d70",
   "metadata": {},
   "source": [
    "**upper**"
   ]
  },
  {
   "cell_type": "code",
   "execution_count": 35,
   "id": "121734c6",
   "metadata": {},
   "outputs": [
    {
     "data": {
      "text/plain": [
       "'WELCOME'"
      ]
     },
     "execution_count": 35,
     "metadata": {},
     "output_type": "execute_result"
    }
   ],
   "source": [
    "string1.capitalize()"
   ]
  },
  {
   "cell_type": "markdown",
   "id": "e6eeebfc",
   "metadata": {},
   "source": [
    "**lower**"
   ]
  },
  {
   "cell_type": "code",
   "execution_count": 36,
   "id": "b8fdc678",
   "metadata": {},
   "outputs": [
    {
     "data": {
      "text/plain": [
       "'welcome'"
      ]
     },
     "execution_count": 36,
     "metadata": {},
     "output_type": "execute_result"
    }
   ],
   "source": [
    "string1.lower()"
   ]
  },
  {
   "cell_type": "code",
   "execution_count": 37,
   "id": "243a2437",
   "metadata": {},
   "outputs": [
    {
     "name": "stdout",
     "output_type": "stream",
     "text": [
      "Welcome\n",
      "WELCOME\n",
      "welcome\n"
     ]
    }
   ],
   "source": [
    "string1='weLCome'\n",
    "print(string1.capitalize())\n",
    "print(string1.upper())\n",
    "print(string1.lower())"
   ]
  },
  {
   "cell_type": "code",
   "execution_count": 38,
   "id": "961c0a54",
   "metadata": {},
   "outputs": [
    {
     "data": {
      "text/plain": [
       "'weLocme'"
      ]
     },
     "execution_count": 38,
     "metadata": {},
     "output_type": "execute_result"
    }
   ],
   "source": [
    "string1='welocme'\n",
    "#'weLcome'\n",
    "#slice\n",
    "#concatenation\n",
    "#idea: we   come\n",
    "\n",
    "str1=string1[:2]\n",
    "str2=string1[3:]\n",
    "str1+'L'+str2\n"
   ]
  },
  {
   "cell_type": "code",
   "execution_count": 40,
   "id": "68ce8638",
   "metadata": {},
   "outputs": [
    {
     "data": {
      "text/plain": [
       "'welocme'"
      ]
     },
     "execution_count": 40,
     "metadata": {},
     "output_type": "execute_result"
    }
   ],
   "source": [
    "string1.replace('L','l')"
   ]
  },
  {
   "cell_type": "markdown",
   "id": "1b947500",
   "metadata": {},
   "source": [
    "**14-11-2023**"
   ]
  },
  {
   "cell_type": "markdown",
   "id": "a18795ac",
   "metadata": {},
   "source": [
    "**casefold**"
   ]
  },
  {
   "cell_type": "code",
   "execution_count": 1,
   "id": "637144c6",
   "metadata": {},
   "outputs": [
    {
     "data": {
      "text/plain": [
       "'welcome'"
      ]
     },
     "execution_count": 1,
     "metadata": {},
     "output_type": "execute_result"
    }
   ],
   "source": [
    "string1='welcome'\n",
    "string1.casefold()               #casefold is also as a lower case is equal to casefold"
   ]
  },
  {
   "cell_type": "markdown",
   "id": "60a446ec",
   "metadata": {},
   "source": [
    "- capitalize  : frist letter as captical\n",
    "- upper : ALL letters are in upper case\n",
    "- lower : All leters are in lower case\n",
    "-  casefold : case less comparision (lower case)"
   ]
  },
  {
   "cell_type": "code",
   "execution_count": 3,
   "id": "68a91ba2",
   "metadata": {},
   "outputs": [
    {
     "data": {
      "text/plain": [
       "2"
      ]
     },
     "execution_count": 3,
     "metadata": {},
     "output_type": "execute_result"
    }
   ],
   "source": [
    "string1='hai how are you'\n",
    "#how many 'a' are there\n",
    "string1.count('a')"
   ]
  },
  {
   "cell_type": "code",
   "execution_count": 6,
   "id": "5d0791eb",
   "metadata": {},
   "outputs": [
    {
     "name": "stdout",
     "output_type": "stream",
     "text": [
      "2\n",
      "3\n",
      "3\n",
      "0\n"
     ]
    }
   ],
   "source": [
    "string1='ola ola ola'\n",
    "print(string1.count('ola '))\n",
    "print(string1.count('ola'))\n",
    "print(string1.count('ol'))\n",
    "print(string1.count('oa'))"
   ]
  },
  {
   "cell_type": "code",
   "execution_count": 12,
   "id": "48ea81e1",
   "metadata": {},
   "outputs": [
    {
     "name": "stdout",
     "output_type": "stream",
     "text": [
      "2\n",
      "2\n",
      "0\n",
      "1\n",
      "2\n",
      "0\n"
     ]
    }
   ],
   "source": [
    "string1='ola ola ola'\n",
    "print(string1.count('a',4)) # we are counting the number of 'a' from index 4\n",
    "print(string1.count('a',6))\n",
    "print(string1.count('a',4,6))    # 4 and5\n",
    "print(string1.count('a',6,7))     #4 5 6\n",
    "print(string1.count('A'.lower(),4))    #2\n",
    "print(string1.count('a'.upper(),4,7))"
   ]
  },
  {
   "cell_type": "code",
   "execution_count": 13,
   "id": "52bd58dc",
   "metadata": {},
   "outputs": [
    {
     "name": "stdout",
     "output_type": "stream",
     "text": [
      "3\n"
     ]
    }
   ],
   "source": [
    "string1='ola ola ola'\n",
    "count=0\n",
    "for i in string1:\n",
    "    if i==\"a\":\n",
    "        count+=1\n",
    "        \n",
    "print(count)"
   ]
  },
  {
   "cell_type": "code",
   "execution_count": null,
   "id": "5c755b5d",
   "metadata": {},
   "outputs": [],
   "source": [
    "#ow many 'ola' are there \n",
    "#do till now what we completed use that only except count method\n"
   ]
  },
  {
   "cell_type": "code",
   "execution_count": 16,
   "id": "3167a2a3",
   "metadata": {},
   "outputs": [
    {
     "name": "stdout",
     "output_type": "stream",
     "text": [
      "3\n"
     ]
    }
   ],
   "source": [
    "string1='ola ola ola'\n",
    "count=0\n",
    "for i in range(len(string1)):\n",
    "    if string1[i:i+3]==\"ola\":\n",
    "        count+=1\n",
    "        \n",
    "print(count)\n",
    "\n",
    "#i=0  string1[0:3]: 0 1 2 :ola\n",
    "#i=1  string1[1:4]: 1 2 3 :ol"
   ]
  },
  {
   "cell_type": "code",
   "execution_count": 17,
   "id": "b9084774",
   "metadata": {},
   "outputs": [
    {
     "data": {
      "text/plain": [
       "3"
      ]
     },
     "execution_count": 17,
     "metadata": {},
     "output_type": "execute_result"
    }
   ],
   "source": [
    "string1.count('a')  # this as developer\n",
    "string1.count('ola')   #as developer mode"
   ]
  },
  {
   "cell_type": "markdown",
   "id": "ca28078c",
   "metadata": {},
   "source": [
    "**replace**"
   ]
  },
  {
   "cell_type": "code",
   "execution_count": 20,
   "id": "e2e44da5",
   "metadata": {},
   "outputs": [
    {
     "data": {
      "text/plain": [
       "'$estart'"
      ]
     },
     "execution_count": 20,
     "metadata": {},
     "output_type": "execute_result"
    }
   ],
   "source": [
    "string1='restart'\n",
    "#replace 'r' with '$'\n",
    "string1.replace('r','$',1)        # -1 is a all ocourses"
   ]
  },
  {
   "cell_type": "code",
   "execution_count": 24,
   "id": "0ddf233a",
   "metadata": {},
   "outputs": [
    {
     "data": {
      "text/plain": [
       "'resta$t'"
      ]
     },
     "execution_count": 24,
     "metadata": {},
     "output_type": "execute_result"
    }
   ],
   "source": [
    "string1='restart'#'resta$t'\n",
    "s1=string1[0]\n",
    "s2=string1[1:].replace('r','$')\n",
    "s1+s2\n"
   ]
  },
  {
   "cell_type": "code",
   "execution_count": 26,
   "id": "97652bad",
   "metadata": {},
   "outputs": [
    {
     "data": {
      "text/plain": [
       "'resta$t'"
      ]
     },
     "execution_count": 26,
     "metadata": {},
     "output_type": "execute_result"
    }
   ],
   "source": [
    "#2 method\n",
    "string1[::-1].replace('r','$',1)[::-1]"
   ]
  },
  {
   "cell_type": "markdown",
   "id": "3807f8d3",
   "metadata": {},
   "source": [
    "**index**"
   ]
  },
  {
   "cell_type": "code",
   "execution_count": 27,
   "id": "c12edc7c",
   "metadata": {},
   "outputs": [
    {
     "data": {
      "text/plain": [
       "3"
      ]
     },
     "execution_count": 27,
     "metadata": {},
     "output_type": "execute_result"
    }
   ],
   "source": [
    "string1='welcome python'\n",
    "# index of 'c'\n",
    "string1.index('c')"
   ]
  },
  {
   "cell_type": "code",
   "execution_count": 28,
   "id": "3e05ab84",
   "metadata": {},
   "outputs": [
    {
     "ename": "ValueError",
     "evalue": "substring not found",
     "output_type": "error",
     "traceback": [
      "\u001b[1;31m---------------------------------------------------------------------------\u001b[0m",
      "\u001b[1;31mValueError\u001b[0m                                Traceback (most recent call last)",
      "Cell \u001b[1;32mIn[28], line 1\u001b[0m\n\u001b[1;32m----> 1\u001b[0m string1\u001b[38;5;241m.\u001b[39mindex(\u001b[38;5;124m'\u001b[39m\u001b[38;5;124mz\u001b[39m\u001b[38;5;124m'\u001b[39m)\n",
      "\u001b[1;31mValueError\u001b[0m: substring not found"
     ]
    }
   ],
   "source": [
    "string1.index('z')"
   ]
  },
  {
   "cell_type": "code",
   "execution_count": 29,
   "id": "27fc4c3b",
   "metadata": {},
   "outputs": [
    {
     "name": "stdout",
     "output_type": "stream",
     "text": [
      "3\n"
     ]
    }
   ],
   "source": [
    "string1='hai how are you and'\n",
    "#how many 'a ' are there\n",
    "#what are the indexes of \"a\"\n",
    "\n",
    "count=0\n",
    "for i in string1:\n",
    "    if i=='a':\n",
    "        count+=1\n",
    "        \n",
    "print(count)\n",
    "string1"
   ]
  },
  {
   "cell_type": "code",
   "execution_count": 30,
   "id": "7df3f754",
   "metadata": {},
   "outputs": [
    {
     "name": "stdout",
     "output_type": "stream",
     "text": [
      "1\n",
      "8\n",
      "16\n"
     ]
    }
   ],
   "source": [
    "for i in range(len(string1)):\n",
    "    if string1[i]=='a':\n",
    "        print(i)"
   ]
  },
  {
   "cell_type": "code",
   "execution_count": 31,
   "id": "8745ae11",
   "metadata": {},
   "outputs": [
    {
     "data": {
      "text/plain": [
       "1"
      ]
     },
     "execution_count": 31,
     "metadata": {},
     "output_type": "execute_result"
    }
   ],
   "source": [
    "string1.index('a')     #only frist occurence"
   ]
  },
  {
   "cell_type": "code",
   "execution_count": 32,
   "id": "ad05fe41",
   "metadata": {},
   "outputs": [
    {
     "name": "stdout",
     "output_type": "stream",
     "text": [
      "1 5 9 13 17\n"
     ]
    }
   ],
   "source": [
    "string1='hai hai hai hai hai'\n",
    "i1=string1.index('a')    #1\n",
    "i2=string1.index('a',i1+1)    #1+1====>5\n",
    "i3=string1.index('a',i2+1)     #5+1=====.9\n",
    "i4=string1.index('a',i3+1)     #9+1 =====>10\n",
    "i5=string1.index('a',i4+1)\n",
    "print(i1,i2,i3,i4,i5)"
   ]
  },
  {
   "cell_type": "code",
   "execution_count": 33,
   "id": "88c7e5fc",
   "metadata": {},
   "outputs": [
    {
     "name": "stdout",
     "output_type": "stream",
     "text": [
      "5\n",
      "5\n",
      "5\n",
      "5\n",
      "5\n"
     ]
    }
   ],
   "source": [
    "#function in function\n",
    "for i in string1:\n",
    "    if i=='a':\n",
    "        index =string1.index(i)\n",
    "        print(string1.index(i,index+1))"
   ]
  },
  {
   "cell_type": "code",
   "execution_count": 9,
   "id": "e5b1f530",
   "metadata": {},
   "outputs": [
    {
     "name": "stdout",
     "output_type": "stream",
     "text": [
      "2\n"
     ]
    },
    {
     "data": {
      "text/plain": [
       "11"
      ]
     },
     "execution_count": 9,
     "metadata": {},
     "output_type": "execute_result"
    }
   ],
   "source": [
    "string1='wellcome hello'\n",
    "print(string1.index('l'))\n",
    "string1.index('l',string1.index('l')+1)\n",
    "string1.index('l',string1.index('l',string1.index('l')+1)+1)"
   ]
  },
  {
   "cell_type": "code",
   "execution_count": null,
   "id": "dbf6e102",
   "metadata": {},
   "outputs": [],
   "source": [
    "**find**"
   ]
  },
  {
   "cell_type": "code",
   "execution_count": null,
   "id": "12aadc44",
   "metadata": {},
   "outputs": [],
   "source": [
    "# take one string1\n",
    "#string.find()\n",
    "#aapply shift+tab\n",
    "#read what it is says\n",
    "#implement that"
   ]
  },
  {
   "cell_type": "code",
   "execution_count": 36,
   "id": "52ab73ab",
   "metadata": {},
   "outputs": [
    {
     "data": {
      "text/plain": [
       "1"
      ]
     },
     "execution_count": 36,
     "metadata": {},
     "output_type": "execute_result"
    }
   ],
   "source": [
    "string1='welcome'\n",
    "string1.find('e')\n",
    "string1.find('z')\n",
    "# if substring not found it returns -1\n"
   ]
  },
  {
   "cell_type": "markdown",
   "id": "10039986",
   "metadata": {},
   "source": [
    "**15-11-2023**"
   ]
  },
  {
   "cell_type": "code",
   "execution_count": 1,
   "id": "1fd76565",
   "metadata": {},
   "outputs": [
    {
     "data": {
      "text/plain": [
       "2"
      ]
     },
     "execution_count": 1,
     "metadata": {},
     "output_type": "execute_result"
    }
   ],
   "source": [
    "str1='hai how are you, im good'\n",
    "str1.index('i')        #frist occurence"
   ]
  },
  {
   "cell_type": "code",
   "execution_count": 3,
   "id": "b7da72b4",
   "metadata": {},
   "outputs": [
    {
     "data": {
      "text/plain": [
       "17"
      ]
     },
     "execution_count": 3,
     "metadata": {},
     "output_type": "execute_result"
    }
   ],
   "source": [
    "str1.index('i',str1.index('i')+1)"
   ]
  },
  {
   "cell_type": "markdown",
   "id": "ae845b99",
   "metadata": {},
   "source": [
    "**strip-lstrip-rstrip**"
   ]
  },
  {
   "cell_type": "code",
   "execution_count": 8,
   "id": "6e56a928",
   "metadata": {},
   "outputs": [],
   "source": [
    "str1=' hello how are you '\n",
    "str2=\" hello how are you\"\n",
    "str3=\"hello how are you \"\n",
    "\n",
    "#i want remove the spaces\n",
    "#if you want to remove the spaces both side use strip method\n",
    "#if you want to remove \n"
   ]
  },
  {
   "cell_type": "code",
   "execution_count": 9,
   "id": "efc93c3a",
   "metadata": {},
   "outputs": [
    {
     "name": "stdout",
     "output_type": "stream",
     "text": [
      "hello how are you\n",
      "hello how are you \n",
      " hello how are you\n"
     ]
    }
   ],
   "source": [
    "print(str1.strip())\n",
    "print(str1.lstrip())\n",
    "print(str1.rstrip())"
   ]
  },
  {
   "cell_type": "code",
   "execution_count": 10,
   "id": "2be320e1",
   "metadata": {},
   "outputs": [
    {
     "data": {
      "text/plain": [
       "'hello how are you '"
      ]
     },
     "execution_count": 10,
     "metadata": {},
     "output_type": "execute_result"
    }
   ],
   "source": [
    "str3         #will identify the space of str3"
   ]
  },
  {
   "cell_type": "code",
   "execution_count": 11,
   "id": "abfdfb0c",
   "metadata": {},
   "outputs": [
    {
     "name": "stdout",
     "output_type": "stream",
     "text": [
      "hello how are you \n"
     ]
    }
   ],
   "source": [
    "print(str3)            #spaces not defined while print "
   ]
  },
  {
   "cell_type": "code",
   "execution_count": 14,
   "id": "69a298b7",
   "metadata": {},
   "outputs": [],
   "source": [
    "#Wap to extract\n",
    "\n",
    "str1='python.anaconda@nareshit.com'\n",
    "str2='omkar.nallagoni@cogizant.com'\n",
    "str3='virat.kohli@bcci.com'\n",
    "#extract frist name: python\n",
    "#extract second name : anaconda\n",
    "#exctract third name : nareshit"
   ]
  },
  {
   "cell_type": "code",
   "execution_count": 1,
   "id": "4ab5f7ef",
   "metadata": {},
   "outputs": [
    {
     "data": {
      "text/plain": [
       "'python'"
      ]
     },
     "execution_count": 1,
     "metadata": {},
     "output_type": "execute_result"
    }
   ],
   "source": [
    "str1='python.anaconda@nareshit.com'\n",
    "str1.index(\".\")\n",
    "str1[:str1.find('.')]"
   ]
  },
  {
   "cell_type": "code",
   "execution_count": 18,
   "id": "652845e6",
   "metadata": {},
   "outputs": [
    {
     "data": {
      "text/plain": [
       "('python', 'anaconda', 'nareshit')"
      ]
     },
     "execution_count": 18,
     "metadata": {},
     "output_type": "execute_result"
    }
   ],
   "source": [
    "str1[0:6],str1[7:15],str1[16:24]"
   ]
  },
  {
   "cell_type": "code",
   "execution_count": 19,
   "id": "9eab4883",
   "metadata": {},
   "outputs": [
    {
     "data": {
      "text/plain": [
       "7"
      ]
     },
     "execution_count": 19,
     "metadata": {},
     "output_type": "execute_result"
    }
   ],
   "source": [
    "str1.index('a')"
   ]
  },
  {
   "cell_type": "code",
   "execution_count": 20,
   "id": "b52677a6",
   "metadata": {},
   "outputs": [
    {
     "data": {
      "text/plain": [
       "15"
      ]
     },
     "execution_count": 20,
     "metadata": {},
     "output_type": "execute_result"
    }
   ],
   "source": [
    "str1.index('@')"
   ]
  },
  {
   "cell_type": "code",
   "execution_count": 24,
   "id": "cd8aaa9b",
   "metadata": {},
   "outputs": [
    {
     "name": "stdout",
     "output_type": "stream",
     "text": [
      "python\n",
      "anaconda\n",
      "nareshit\n"
     ]
    }
   ],
   "source": [
    "str1.find('.')\n",
    "num1=str1[0:6]\n",
    "print(num1)\n",
    "str1.find('@')\n",
    "num2=str1[7:15]\n",
    "print(num2)\n",
    "str1.find('.c')\n",
    "num3=str1[16:24]\n",
    "print(num3)"
   ]
  },
  {
   "cell_type": "code",
   "execution_count": 25,
   "id": "8e057e52",
   "metadata": {},
   "outputs": [
    {
     "data": {
      "text/plain": [
       "5"
      ]
     },
     "execution_count": 25,
     "metadata": {},
     "output_type": "execute_result"
    }
   ],
   "source": [
    "str2='omkar.nallagoni@cogizant.com'\n",
    "str2.find('.')\n",
    "num1=str2"
   ]
  },
  {
   "cell_type": "code",
   "execution_count": 7,
   "id": "ba35bcd9",
   "metadata": {},
   "outputs": [
    {
     "data": {
      "text/plain": [
       "'1489'"
      ]
     },
     "execution_count": 7,
     "metadata": {},
     "output_type": "execute_result"
    }
   ],
   "source": [
    "str1='3.1489'\n",
    "#extract 3\n",
    "#extract 1489\n",
    "str1[:str1.find('.')-1]\n",
    "str1[str1.index('.')+1:]"
   ]
  },
  {
   "cell_type": "code",
   "execution_count": null,
   "id": "3050cedf",
   "metadata": {},
   "outputs": [],
   "source": [
    "str1='hai how are you '"
   ]
  },
  {
   "cell_type": "code",
   "execution_count": 35,
   "id": "98e81b8e",
   "metadata": {},
   "outputs": [
    {
     "ename": "NameError",
     "evalue": "name 'string' is not defined",
     "output_type": "error",
     "traceback": [
      "\u001b[1;31m---------------------------------------------------------------------------\u001b[0m",
      "\u001b[1;31mNameError\u001b[0m                                 Traceback (most recent call last)",
      "Cell \u001b[1;32mIn[35], line 1\u001b[0m\n\u001b[1;32m----> 1\u001b[0m \u001b[38;5;28mdir\u001b[39m(string)\n",
      "\u001b[1;31mNameError\u001b[0m: name 'string' is not defined"
     ]
    }
   ],
   "source": [
    "dir(string)"
   ]
  },
  {
   "cell_type": "code",
   "execution_count": 37,
   "id": "53b6f565",
   "metadata": {},
   "outputs": [
    {
     "data": {
      "text/plain": [
       "False"
      ]
     },
     "execution_count": 37,
     "metadata": {},
     "output_type": "execute_result"
    }
   ],
   "source": [
    "str1='abc'\n",
    "str2='123'\n",
    "str3='abc123'\n",
    "str4='ABC'\n",
    "str1.isnumeric()"
   ]
  },
  {
   "cell_type": "code",
   "execution_count": 8,
   "id": "482096b6",
   "metadata": {},
   "outputs": [
    {
     "ename": "AttributeError",
     "evalue": "'str' object has no attribute 'isaplha'",
     "output_type": "error",
     "traceback": [
      "\u001b[1;31m---------------------------------------------------------------------------\u001b[0m",
      "\u001b[1;31mAttributeError\u001b[0m                            Traceback (most recent call last)",
      "Cell \u001b[1;32mIn[8], line 2\u001b[0m\n\u001b[0;32m      1\u001b[0m str1\u001b[38;5;241m=\u001b[39m\u001b[38;5;124m'\u001b[39m\u001b[38;5;124mabc\u001b[39m\u001b[38;5;124m'\u001b[39m\n\u001b[1;32m----> 2\u001b[0m str1\u001b[38;5;241m.\u001b[39misaplha()\n",
      "\u001b[1;31mAttributeError\u001b[0m: 'str' object has no attribute 'isaplha'"
     ]
    }
   ],
   "source": [
    "str1='abc'\n",
    "str1.isaplha()"
   ]
  },
  {
   "cell_type": "markdown",
   "id": "8ef589c8",
   "metadata": {},
   "source": [
    "**split**"
   ]
  },
  {
   "cell_type": "code",
   "execution_count": 39,
   "id": "41be36c7",
   "metadata": {},
   "outputs": [
    {
     "data": {
      "text/plain": [
       "['hai', 'how', 'are', 'you']"
      ]
     },
     "execution_count": 39,
     "metadata": {},
     "output_type": "execute_result"
    }
   ],
   "source": [
    "str1='hai how are you'\n",
    "str1.split()\n",
    "#if i not provide anything inside brackets:space\n",
    "#output is in list format"
   ]
  },
  {
   "cell_type": "code",
   "execution_count": 41,
   "id": "0110e864",
   "metadata": {},
   "outputs": [
    {
     "ename": "AttributeError",
     "evalue": "'str' object has no attribute 'spilt'",
     "output_type": "error",
     "traceback": [
      "\u001b[1;31m---------------------------------------------------------------------------\u001b[0m",
      "\u001b[1;31mAttributeError\u001b[0m                            Traceback (most recent call last)",
      "Cell \u001b[1;32mIn[41], line 2\u001b[0m\n\u001b[0;32m      1\u001b[0m str1\u001b[38;5;241m=\u001b[39m\u001b[38;5;124m'\u001b[39m\u001b[38;5;124mhai how are you\u001b[39m\u001b[38;5;124m'\u001b[39m\n\u001b[1;32m----> 2\u001b[0m str1\u001b[38;5;241m.\u001b[39mspilt(\u001b[38;5;124m'\u001b[39m\u001b[38;5;124m'\u001b[39m)\n",
      "\u001b[1;31mAttributeError\u001b[0m: 'str' object has no attribute 'spilt'"
     ]
    }
   ],
   "source": [
    "str1='hai how are you'\n",
    "str1.spilt('')"
   ]
  },
  {
   "cell_type": "code",
   "execution_count": null,
   "id": "02df11e9",
   "metadata": {},
   "outputs": [],
   "source": [
    "#wap to identify the longest word snd shortest word in a given sentence\n",
    "#wap to identify the most repeated word in a given sentence\n",
    "#wap out of 3strings'hyd','blr','mumbai',"
   ]
  },
  {
   "cell_type": "code",
   "execution_count": null,
   "id": "814971d3",
   "metadata": {},
   "outputs": [],
   "source": []
  },
  {
   "cell_type": "code",
   "execution_count": null,
   "id": "8e4a6a2d",
   "metadata": {},
   "outputs": [],
   "source": []
  },
  {
   "cell_type": "code",
   "execution_count": null,
   "id": "55b45aee",
   "metadata": {},
   "outputs": [],
   "source": []
  }
 ],
 "metadata": {
  "kernelspec": {
   "display_name": "Python 3 (ipykernel)",
   "language": "python",
   "name": "python3"
  },
  "language_info": {
   "codemirror_mode": {
    "name": "ipython",
    "version": 3
   },
   "file_extension": ".py",
   "mimetype": "text/x-python",
   "name": "python",
   "nbconvert_exporter": "python",
   "pygments_lexer": "ipython3",
   "version": "3.11.5"
  }
 },
 "nbformat": 4,
 "nbformat_minor": 5
}
