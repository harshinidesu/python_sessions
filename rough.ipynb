{
 "cells": [
  {
   "cell_type": "code",
   "execution_count": 2,
   "id": "8fa62c79",
   "metadata": {},
   "outputs": [
    {
     "data": {
      "text/plain": [
       "True"
      ]
     },
     "execution_count": 2,
     "metadata": {},
     "output_type": "execute_result"
    }
   ],
   "source": [
    "string1='python'\n",
    "\n",
    "'p' in string1\n",
    "'y' in string1\n",
    "'t' in string1\n",
    "'h' in string1\n",
    "'o' in string1\n",
    "'n' in string1"
   ]
  },
  {
   "cell_type": "code",
   "execution_count": 3,
   "id": "f1363e20",
   "metadata": {},
   "outputs": [
    {
     "name": "stdout",
     "output_type": "stream",
     "text": [
      "p\n",
      "y\n",
      "t\n",
      "h\n",
      "o\n",
      "n\n"
     ]
    }
   ],
   "source": [
    "for i in string1:\n",
    "    print(i)"
   ]
  },
  {
   "cell_type": "code",
   "execution_count": 4,
   "id": "bb6d2409",
   "metadata": {},
   "outputs": [
    {
     "name": "stdout",
     "output_type": "stream",
     "text": [
      "112\n",
      "121\n",
      "116\n",
      "104\n",
      "111\n",
      "110\n",
      "110\n"
     ]
    }
   ],
   "source": [
    "print(ord('p'))\n",
    "print(ord('y'))\n",
    "print(ord('t'))\n",
    "print(ord('h'))\n",
    "print(ord('o'))\n",
    "print(ord('n'))\n",
    "\n",
    "print(ord(i))"
   ]
  },
  {
   "cell_type": "code",
   "execution_count": 7,
   "id": "b7a3a7e6",
   "metadata": {},
   "outputs": [
    {
     "name": "stdout",
     "output_type": "stream",
     "text": [
      "the ascii value of p is 112\n",
      "the ascii value of y is 121\n",
      "the ascii value of t is 116\n",
      "the ascii value of h is 104\n",
      "the ascii value of o is 111\n",
      "the ascii value of n is 110\n"
     ]
    }
   ],
   "source": [
    "for i in string1:\n",
    "    print('the ascii value of {} is {}'.format(i,ord(i)))"
   ]
  },
  {
   "cell_type": "code",
   "execution_count": 22,
   "id": "d0da8e39",
   "metadata": {},
   "outputs": [
    {
     "name": "stdout",
     "output_type": "stream",
     "text": [
      "the ascii value ofA is65\n",
      "the ascii value ofB is66\n",
      "the ascii value ofC is67\n",
      "the ascii value ofD is68\n",
      "the ascii value ofE is69\n",
      "the ascii value ofF is70\n",
      "the ascii value ofG is71\n",
      "the ascii value ofH is72\n",
      "the ascii value ofI is73\n",
      "the ascii value ofJ is74\n",
      "the ascii value ofK is75\n",
      "the ascii value ofL is76\n",
      "the ascii value ofM is77\n",
      "the ascii value ofN is78\n",
      "the ascii value ofO is79\n",
      "the ascii value ofP is80\n",
      "the ascii value ofQ is81\n",
      "the ascii value ofR is82\n",
      "the ascii value ofS is83\n",
      "the ascii value ofT is84\n",
      "the ascii value ofU is85\n",
      "the ascii value ofV is86\n",
      "the ascii value ofW is87\n",
      "the ascii value ofX is88\n",
      "the ascii value ofY is89\n",
      "the ascii value ofZ is90\n"
     ]
    }
   ],
   "source": [
    "for i in string.ascii_uppercase:\n",
    "    print('the ascii value of{} is{}'.format(i,ord(i)))"
   ]
  },
  {
   "cell_type": "code",
   "execution_count": 14,
   "id": "0799e0db",
   "metadata": {},
   "outputs": [
    {
     "name": "stdout",
     "output_type": "stream",
     "text": [
      "the ascii value ofa is97\n",
      "the ascii value ofb is98\n",
      "the ascii value ofc is99\n",
      "the ascii value ofd is100\n",
      "the ascii value ofe is101\n",
      "the ascii value off is102\n",
      "the ascii value ofg is103\n",
      "the ascii value ofh is104\n",
      "the ascii value ofi is105\n",
      "the ascii value ofj is106\n",
      "the ascii value ofk is107\n",
      "the ascii value ofl is108\n",
      "the ascii value ofm is109\n",
      "the ascii value ofn is110\n",
      "the ascii value ofo is111\n",
      "the ascii value ofp is112\n",
      "the ascii value ofq is113\n",
      "the ascii value ofr is114\n",
      "the ascii value ofs is115\n",
      "the ascii value oft is116\n",
      "the ascii value ofu is117\n",
      "the ascii value ofv is118\n",
      "the ascii value ofw is119\n",
      "the ascii value ofy is121\n",
      "the ascii value ofx is120\n",
      "the ascii value ofy is121\n",
      "the ascii value ofz is122\n"
     ]
    }
   ],
   "source": [
    "for i in \"abcdefghijklmnopqrstuvwyxyz\":\n",
    "    print('the ascii value of{} is{}'.format(i,ord(i)))\n"
   ]
  },
  {
   "cell_type": "code",
   "execution_count": 21,
   "id": "2dadf341",
   "metadata": {},
   "outputs": [
    {
     "name": "stdout",
     "output_type": "stream",
     "text": [
      "the ascii value ofa is97\n",
      "the ascii value ofb is98\n",
      "the ascii value ofc is99\n",
      "the ascii value ofd is100\n",
      "the ascii value ofe is101\n",
      "the ascii value off is102\n",
      "the ascii value ofg is103\n",
      "the ascii value ofh is104\n",
      "the ascii value ofi is105\n",
      "the ascii value ofj is106\n",
      "the ascii value ofk is107\n",
      "the ascii value ofl is108\n",
      "the ascii value ofm is109\n",
      "the ascii value ofn is110\n",
      "the ascii value ofo is111\n",
      "the ascii value ofp is112\n",
      "the ascii value ofq is113\n",
      "the ascii value ofr is114\n",
      "the ascii value ofs is115\n",
      "the ascii value oft is116\n",
      "the ascii value ofu is117\n",
      "the ascii value ofv is118\n",
      "the ascii value ofw is119\n",
      "the ascii value ofx is120\n",
      "the ascii value ofy is121\n",
      "the ascii value ofz is122\n"
     ]
    }
   ],
   "source": [
    "for i in string.ascii_lowercase:\n",
    "    print('the ascii value of{} is{}'.format(i,ord(i)))"
   ]
  },
  {
   "cell_type": "code",
   "execution_count": 20,
   "id": "7b9200fd",
   "metadata": {},
   "outputs": [
    {
     "data": {
      "text/plain": [
       "'ABCDEFGHIJKLMNOPQRSTUVWXYZ'"
      ]
     },
     "execution_count": 20,
     "metadata": {},
     "output_type": "execute_result"
    }
   ],
   "source": [
    "string.ascii_uppercase"
   ]
  },
  {
   "cell_type": "code",
   "execution_count": 19,
   "id": "ef4415f3",
   "metadata": {},
   "outputs": [],
   "source": [
    "import string"
   ]
  },
  {
   "cell_type": "code",
   "execution_count": 23,
   "id": "45ba8f4e",
   "metadata": {},
   "outputs": [
    {
     "data": {
      "text/plain": [
       "['Formatter',\n",
       " 'Template',\n",
       " '_ChainMap',\n",
       " '__all__',\n",
       " '__builtins__',\n",
       " '__cached__',\n",
       " '__doc__',\n",
       " '__file__',\n",
       " '__loader__',\n",
       " '__name__',\n",
       " '__package__',\n",
       " '__spec__',\n",
       " '_re',\n",
       " '_sentinel_dict',\n",
       " '_string',\n",
       " 'ascii_letters',\n",
       " 'ascii_lowercase',\n",
       " 'ascii_uppercase',\n",
       " 'capwords',\n",
       " 'digits',\n",
       " 'hexdigits',\n",
       " 'octdigits',\n",
       " 'printable',\n",
       " 'punctuation',\n",
       " 'whitespace']"
      ]
     },
     "execution_count": 23,
     "metadata": {},
     "output_type": "execute_result"
    }
   ],
   "source": [
    "dir(string)"
   ]
  },
  {
   "cell_type": "code",
   "execution_count": 24,
   "id": "d5724030",
   "metadata": {},
   "outputs": [
    {
     "name": "stdout",
     "output_type": "stream",
     "text": [
      "the ascii value of! is33\n",
      "the ascii value of\" is34\n",
      "the ascii value of# is35\n",
      "the ascii value of$ is36\n",
      "the ascii value of% is37\n",
      "the ascii value of& is38\n",
      "the ascii value of' is39\n",
      "the ascii value of( is40\n",
      "the ascii value of) is41\n",
      "the ascii value of* is42\n",
      "the ascii value of+ is43\n",
      "the ascii value of, is44\n",
      "the ascii value of- is45\n",
      "the ascii value of. is46\n",
      "the ascii value of/ is47\n",
      "the ascii value of: is58\n",
      "the ascii value of; is59\n",
      "the ascii value of< is60\n",
      "the ascii value of= is61\n",
      "the ascii value of> is62\n",
      "the ascii value of? is63\n",
      "the ascii value of@ is64\n",
      "the ascii value of[ is91\n",
      "the ascii value of\\ is92\n",
      "the ascii value of] is93\n",
      "the ascii value of^ is94\n",
      "the ascii value of_ is95\n",
      "the ascii value of` is96\n",
      "the ascii value of{ is123\n",
      "the ascii value of| is124\n",
      "the ascii value of} is125\n",
      "the ascii value of~ is126\n"
     ]
    }
   ],
   "source": [
    "for i in string.punctuation:\n",
    "    print('the ascii value of{} is{}'.format(i,ord(i)))"
   ]
  },
  {
   "cell_type": "code",
   "execution_count": 25,
   "id": "19f504b4",
   "metadata": {},
   "outputs": [
    {
     "data": {
      "text/plain": [
       "97"
      ]
     },
     "execution_count": 25,
     "metadata": {},
     "output_type": "execute_result"
    }
   ],
   "source": [
    "ord('a')"
   ]
  },
  {
   "cell_type": "code",
   "execution_count": 26,
   "id": "e769d66b",
   "metadata": {},
   "outputs": [
    {
     "name": "stdout",
     "output_type": "stream",
     "text": [
      "3\n"
     ]
    }
   ],
   "source": [
    "string='hai how are you and how do you do'\n",
    "count=0\n",
    "for i in string:\n",
    "    if i=='a':\n",
    "        count=count+1\n",
    "        \n",
    "print(count)"
   ]
  },
  {
   "cell_type": "code",
   "execution_count": 27,
   "id": "2838ba4a",
   "metadata": {},
   "outputs": [
    {
     "name": "stdout",
     "output_type": "stream",
     "text": [
      "6\n"
     ]
    }
   ],
   "source": [
    "string='hai how are you and how do you do'\n",
    "count=0\n",
    "for i in string:\n",
    "    if i=='o':\n",
    "        count=count+1\n",
    "        \n",
    "print(count)"
   ]
  },
  {
   "cell_type": "code",
   "execution_count": 30,
   "id": "c6eb9d0a",
   "metadata": {},
   "outputs": [
    {
     "name": "stdout",
     "output_type": "stream",
     "text": [
      "13\n"
     ]
    }
   ],
   "source": [
    "#vowels\n",
    "string='hai how are you and how do you do'\n",
    "count=0\n",
    "for i in string:\n",
    "    if i in 'aioeu':\n",
    "        count=count+1\n",
    "    \n",
    "print(count)"
   ]
  },
  {
   "cell_type": "code",
   "execution_count": 31,
   "id": "ac3234a1",
   "metadata": {},
   "outputs": [
    {
     "name": "stdout",
     "output_type": "stream",
     "text": [
      "7\n"
     ]
    }
   ],
   "source": [
    "string='hai how are you'\n",
    "count=0\n",
    "for i in string:\n",
    "    if i in 'aeiou':\n",
    "        count=count+1\n",
    "        \n",
    "print(count)"
   ]
  },
  {
   "cell_type": "code",
   "execution_count": 33,
   "id": "0d3bee15",
   "metadata": {},
   "outputs": [
    {
     "name": "stdout",
     "output_type": "stream",
     "text": [
      "\n",
      "\n",
      "number of unqiue vowels: 5\n"
     ]
    }
   ],
   "source": [
    "a=''\n",
    "count=0\n",
    "string='hai how are you'\n",
    "for i  in string:\n",
    "     if i in 'aeiou':\n",
    "            if i in a:\n",
    "                print()\n",
    "            else:\n",
    "                a=a+i\n",
    "print(f\"number of unqiue vowels: {len(a)}\" )\n",
    "        "
   ]
  },
  {
   "cell_type": "code",
   "execution_count": 35,
   "id": "318c4089",
   "metadata": {},
   "outputs": [
    {
     "name": "stdout",
     "output_type": "stream",
     "text": [
      "p\n",
      "y\n",
      "t\n",
      "h\n",
      "o\n",
      "n\n",
      "0 p\n",
      "1 y\n",
      "2 t\n",
      "3 h\n",
      "4 o\n",
      "5 n\n"
     ]
    }
   ],
   "source": [
    "string1='python'\n",
    "for i in string1:\n",
    "    print(i)\n",
    "    \n",
    "for i in range(len(string1)):\n",
    "    print(i,string1[i])"
   ]
  },
  {
   "cell_type": "code",
   "execution_count": 36,
   "id": "29f86947",
   "metadata": {},
   "outputs": [
    {
     "name": "stdout",
     "output_type": "stream",
     "text": [
      "p y t h o n "
     ]
    }
   ],
   "source": [
    "for i in string1:\n",
    "    print(i,end=' ')"
   ]
  },
  {
   "cell_type": "code",
   "execution_count": 39,
   "id": "e628662a",
   "metadata": {},
   "outputs": [
    {
     "name": "stdout",
     "output_type": "stream",
     "text": [
      "0 p\n",
      "1 y\n",
      "2 t\n",
      "3 h\n",
      "4 o\n",
      "5 n\n"
     ]
    }
   ],
   "source": [
    "for i in range(len(string1)):\n",
    "    print(i,string1[i])"
   ]
  },
  {
   "cell_type": "code",
   "execution_count": 41,
   "id": "8cfc8df3",
   "metadata": {},
   "outputs": [
    {
     "data": {
      "text/plain": [
       "'n'"
      ]
     },
     "execution_count": 41,
     "metadata": {},
     "output_type": "execute_result"
    }
   ],
   "source": [
    "string1[-1]"
   ]
  },
  {
   "cell_type": "code",
   "execution_count": 51,
   "id": "0fea33ff",
   "metadata": {},
   "outputs": [
    {
     "name": "stdout",
     "output_type": "stream",
     "text": [
      "the nagative index of p is -6\n",
      "the nagative index of y is -5\n",
      "the nagative index of t is -4\n",
      "the nagative index of h is -3\n",
      "the nagative index of o is -2\n",
      "the nagative index of n is -1\n"
     ]
    }
   ],
   "source": [
    "for i in range(len(string1)):\n",
    "    print('the nagative index of {} is {}'.format(string1[i],i-6))"
   ]
  },
  {
   "cell_type": "code",
   "execution_count": 52,
   "id": "262b4e55",
   "metadata": {},
   "outputs": [
    {
     "name": "stdout",
     "output_type": "stream",
     "text": [
      "the nagative index of p is -6\n",
      "the nagative index of y is -5\n",
      "the nagative index of t is -4\n",
      "the nagative index of h is -3\n",
      "the nagative index of o is -2\n",
      "the nagative index of n is -1\n"
     ]
    }
   ],
   "source": [
    "for i in range(-len(string1),0):\n",
    "    print('the nagative index of {} is {}'.format(string1[i],i))"
   ]
  },
  {
   "cell_type": "code",
   "execution_count": 59,
   "id": "145106a0",
   "metadata": {},
   "outputs": [
    {
     "name": "stdout",
     "output_type": "stream",
     "text": [
      "the postive index is 0 and negative index is -6 for p\n",
      "the postive index is 1 and negative index is -5 for y\n",
      "the postive index is 2 and negative index is -4 for t\n",
      "the postive index is 3 and negative index is -3 for h\n",
      "the postive index is 4 and negative index is -2 for o\n",
      "the postive index is 5 and negative index is -1 for n\n"
     ]
    }
   ],
   "source": [
    "string1='python'\n",
    "for i in range(len(string1)):\n",
    "    print('the postive index is {} and negative index is {} for {}'.format(i,i-6,string1[i]))"
   ]
  },
  {
   "cell_type": "code",
   "execution_count": 2,
   "id": "00407fa4",
   "metadata": {},
   "outputs": [
    {
     "ename": "IndentationError",
     "evalue": "unindent does not match any outer indentation level (<tokenize>, line 4)",
     "output_type": "error",
     "traceback": [
      "\u001b[1;36m  File \u001b[1;32m<tokenize>:4\u001b[1;36m\u001b[0m\n\u001b[1;33m    i=i+1\u001b[0m\n\u001b[1;37m    ^\u001b[0m\n\u001b[1;31mIndentationError\u001b[0m\u001b[1;31m:\u001b[0m unindent does not match any outer indentation level\n"
     ]
    }
   ],
   "source": [
    "i=0\n",
    "while i<len(string1):\n",
    "     print('the postive index is {} and negative index is {} for {}'.format(i,i-6,string1[i]))\n",
    "    i=i+1 "
   ]
  },
  {
   "cell_type": "code",
   "execution_count": 78,
   "id": "f98b517f",
   "metadata": {},
   "outputs": [
    {
     "data": {
      "text/plain": [
       "'i how ar'"
      ]
     },
     "execution_count": 78,
     "metadata": {},
     "output_type": "execute_result"
    }
   ],
   "source": [
    "string1='hai how are you'\n",
    "string1[2:10]"
   ]
  },
  {
   "cell_type": "code",
   "execution_count": 80,
   "id": "4cf2a71b",
   "metadata": {},
   "outputs": [
    {
     "data": {
      "text/plain": [
       "'ioa'"
      ]
     },
     "execution_count": 80,
     "metadata": {},
     "output_type": "execute_result"
    }
   ],
   "source": [
    "string1='hai how are you'\n",
    "string1[2:10:3]"
   ]
  },
  {
   "cell_type": "code",
   "execution_count": 81,
   "id": "6dcd1418",
   "metadata": {},
   "outputs": [
    {
     "data": {
      "text/plain": [
       "'hai how are you'"
      ]
     },
     "execution_count": 81,
     "metadata": {},
     "output_type": "execute_result"
    }
   ],
   "source": [
    "string1[:]"
   ]
  },
  {
   "cell_type": "code",
   "execution_count": 83,
   "id": "5055e6d3",
   "metadata": {},
   "outputs": [
    {
     "data": {
      "text/plain": [
       "''"
      ]
     },
     "execution_count": 83,
     "metadata": {},
     "output_type": "execute_result"
    }
   ],
   "source": [
    "string1[2:10:-5]"
   ]
  },
  {
   "cell_type": "code",
   "execution_count": 84,
   "id": "77489d80",
   "metadata": {},
   "outputs": [
    {
     "data": {
      "text/plain": [
       "'awhi'"
      ]
     },
     "execution_count": 84,
     "metadata": {},
     "output_type": "execute_result"
    }
   ],
   "source": [
    "string1[8:-14:-2]"
   ]
  },
  {
   "cell_type": "code",
   "execution_count": 85,
   "id": "dc158d2e",
   "metadata": {},
   "outputs": [
    {
     "data": {
      "text/plain": [
       "['__add__',\n",
       " '__class__',\n",
       " '__contains__',\n",
       " '__delattr__',\n",
       " '__dir__',\n",
       " '__doc__',\n",
       " '__eq__',\n",
       " '__format__',\n",
       " '__ge__',\n",
       " '__getattribute__',\n",
       " '__getitem__',\n",
       " '__getnewargs__',\n",
       " '__getstate__',\n",
       " '__gt__',\n",
       " '__hash__',\n",
       " '__init__',\n",
       " '__init_subclass__',\n",
       " '__iter__',\n",
       " '__le__',\n",
       " '__len__',\n",
       " '__lt__',\n",
       " '__mod__',\n",
       " '__mul__',\n",
       " '__ne__',\n",
       " '__new__',\n",
       " '__reduce__',\n",
       " '__reduce_ex__',\n",
       " '__repr__',\n",
       " '__rmod__',\n",
       " '__rmul__',\n",
       " '__setattr__',\n",
       " '__sizeof__',\n",
       " '__str__',\n",
       " '__subclasshook__',\n",
       " 'capitalize',\n",
       " 'casefold',\n",
       " 'center',\n",
       " 'count',\n",
       " 'encode',\n",
       " 'endswith',\n",
       " 'expandtabs',\n",
       " 'find',\n",
       " 'format',\n",
       " 'format_map',\n",
       " 'index',\n",
       " 'isalnum',\n",
       " 'isalpha',\n",
       " 'isascii',\n",
       " 'isdecimal',\n",
       " 'isdigit',\n",
       " 'isidentifier',\n",
       " 'islower',\n",
       " 'isnumeric',\n",
       " 'isprintable',\n",
       " 'isspace',\n",
       " 'istitle',\n",
       " 'isupper',\n",
       " 'join',\n",
       " 'ljust',\n",
       " 'lower',\n",
       " 'lstrip',\n",
       " 'maketrans',\n",
       " 'partition',\n",
       " 'removeprefix',\n",
       " 'removesuffix',\n",
       " 'replace',\n",
       " 'rfind',\n",
       " 'rindex',\n",
       " 'rjust',\n",
       " 'rpartition',\n",
       " 'rsplit',\n",
       " 'rstrip',\n",
       " 'split',\n",
       " 'splitlines',\n",
       " 'startswith',\n",
       " 'strip',\n",
       " 'swapcase',\n",
       " 'title',\n",
       " 'translate',\n",
       " 'upper',\n",
       " 'zfill']"
      ]
     },
     "execution_count": 85,
     "metadata": {},
     "output_type": "execute_result"
    }
   ],
   "source": [
    "dir('')"
   ]
  },
  {
   "cell_type": "code",
   "execution_count": 87,
   "id": "b7eccf0f",
   "metadata": {},
   "outputs": [
    {
     "data": {
      "text/plain": [
       "'Welcome'"
      ]
     },
     "execution_count": 87,
     "metadata": {},
     "output_type": "execute_result"
    }
   ],
   "source": [
    "string1='welcome'\n",
    "string1.capitalize()"
   ]
  },
  {
   "cell_type": "code",
   "execution_count": 89,
   "id": "6d159a3c",
   "metadata": {},
   "outputs": [
    {
     "data": {
      "text/plain": [
       "'HARSHINI'"
      ]
     },
     "execution_count": 89,
     "metadata": {},
     "output_type": "execute_result"
    }
   ],
   "source": [
    "string1='harshini'\n",
    "string1.upper()"
   ]
  },
  {
   "cell_type": "code",
   "execution_count": 91,
   "id": "433a7f51",
   "metadata": {},
   "outputs": [
    {
     "data": {
      "text/plain": [
       "'thamas'"
      ]
     },
     "execution_count": 91,
     "metadata": {},
     "output_type": "execute_result"
    }
   ],
   "source": [
    "string1='THAmas'\n",
    "string1.lower()\n"
   ]
  },
  {
   "cell_type": "code",
   "execution_count": 96,
   "id": "5cfbf0c7",
   "metadata": {},
   "outputs": [
    {
     "data": {
      "text/plain": [
       "'thAmas'"
      ]
     },
     "execution_count": 96,
     "metadata": {},
     "output_type": "execute_result"
    }
   ],
   "source": [
    "string11='thamas'\n",
    "#str1=th\n",
    "#str2=mas\n",
    "str1=string11[:2]\n",
    "str2=string11[3:]\n",
    "str1+'A'+str2"
   ]
  },
  {
   "cell_type": "code",
   "execution_count": 95,
   "id": "08697639",
   "metadata": {},
   "outputs": [
    {
     "data": {
      "text/plain": [
       "'weLcome'"
      ]
     },
     "execution_count": 95,
     "metadata": {},
     "output_type": "execute_result"
    }
   ],
   "source": [
    "string2='welcome'\n",
    "str1=string2[:2]\n",
    "str2=string2[3:]\n",
    "str1+'L'+str2"
   ]
  },
  {
   "cell_type": "code",
   "execution_count": 98,
   "id": "f57bd311",
   "metadata": {},
   "outputs": [
    {
     "data": {
      "text/plain": [
       "'harshiniwedsnithamas'"
      ]
     },
     "execution_count": 98,
     "metadata": {},
     "output_type": "execute_result"
    }
   ],
   "source": [
    "string33='harshinithamas'\n",
    "str1=string33[:8]\n",
    "str2=string33[6:]\n",
    "str1+'weds'+str2"
   ]
  },
  {
   "cell_type": "code",
   "execution_count": 99,
   "id": "945c166f",
   "metadata": {},
   "outputs": [
    {
     "name": "stdout",
     "output_type": "stream",
     "text": [
      "0 1 2 3 4 5 6 7 8 9 "
     ]
    }
   ],
   "source": [
    "for i in range(10):\n",
    "    print(i,end=' ')"
   ]
  },
  {
   "cell_type": "code",
   "execution_count": 101,
   "id": "9060452b",
   "metadata": {},
   "outputs": [
    {
     "name": "stdout",
     "output_type": "stream",
     "text": [
      "0 1 2 3 4 5 6 7 8 9 "
     ]
    }
   ],
   "source": [
    "i=0\n",
    "while i<10:\n",
    "    print(i,end=' ')\n",
    "    i=i+1"
   ]
  },
  {
   "cell_type": "code",
   "execution_count": 103,
   "id": "b0b9e7c4",
   "metadata": {},
   "outputs": [
    {
     "name": "stdout",
     "output_type": "stream",
     "text": [
      "10 11 12 13 14 15 16 17 18 19 "
     ]
    }
   ],
   "source": [
    "i=10\n",
    "while i<20:\n",
    "    print(i,end=' ')\n",
    "    i=i+1"
   ]
  },
  {
   "cell_type": "code",
   "execution_count": 106,
   "id": "ec77400a",
   "metadata": {},
   "outputs": [
    {
     "name": "stdout",
     "output_type": "stream",
     "text": [
      "10 9 8 7 6 5 4 3 2 1 0 -1 -2 -3 -4 -5 -6 -7 -8 -9 -10 "
     ]
    }
   ],
   "source": [
    "i=10\n",
    "while i>-11:\n",
    "    print(i,end=' ')\n",
    "    i=i-1"
   ]
  },
  {
   "cell_type": "code",
   "execution_count": 108,
   "id": "bf24e763",
   "metadata": {},
   "outputs": [
    {
     "name": "stdout",
     "output_type": "stream",
     "text": [
      "10 9 8 7 6 5 4 3 2 1 0 -1 -2 -3 -4 -5 -6 -7 -8 -9 -10 "
     ]
    }
   ],
   "source": [
    "i=10\n",
    "while True:\n",
    "    print(i,end=' ')\n",
    "    i=i-1\n",
    "    if i==-11:\n",
    "        break"
   ]
  },
  {
   "cell_type": "code",
   "execution_count": 4,
   "id": "4256b976",
   "metadata": {},
   "outputs": [
    {
     "name": "stdout",
     "output_type": "stream",
     "text": [
      "enter a number:6\n",
      "the square of 6 is36\n",
      "enter a number:7\n",
      "the square of 7 is49\n",
      "enter a number:8\n",
      "the square of 8 is64\n",
      "enter a number:9\n",
      "the square of 9 is81\n",
      "enter a number:10\n",
      "the square of 10 is100\n"
     ]
    }
   ],
   "source": [
    "for i in range(5):\n",
    "    num=eval(input('enter a number:'))\n",
    "    total=num*num\n",
    "    print('the square of {} is{}'.format(num,total))"
   ]
  },
  {
   "cell_type": "code",
   "execution_count": 7,
   "id": "57135743",
   "metadata": {},
   "outputs": [
    {
     "name": "stdout",
     "output_type": "stream",
     "text": [
      "ente a number:9\n",
      "the square  81\n",
      "ente a number:4\n",
      "the square  16\n",
      "ente a number:3\n",
      "the square  9\n",
      "ente a number:7\n",
      "the square  49\n",
      "ente a number:8\n",
      "the square  64\n"
     ]
    }
   ],
   "source": [
    "i=0\n",
    "while i<=4:\n",
    "    num=eval(input('ente a number:'))\n",
    "    print('the square ',num*num)\n",
    "    i=i+1"
   ]
  },
  {
   "cell_type": "code",
   "execution_count": 9,
   "id": "1eebfaa2",
   "metadata": {},
   "outputs": [
    {
     "name": "stdout",
     "output_type": "stream",
     "text": [
      "the square  16 256\n",
      "the square  17 289\n",
      "the square  14 196\n",
      "the square  14 196\n",
      "the square  20 400\n"
     ]
    }
   ],
   "source": [
    "import random\n",
    "for i in range(5):\n",
    "    a=random.randint(10,20)\n",
    "    print('the square ',a,a*a)"
   ]
  },
  {
   "cell_type": "code",
   "execution_count": 10,
   "id": "146ec058",
   "metadata": {},
   "outputs": [
    {
     "name": "stdout",
     "output_type": "stream",
     "text": [
      "the square  15 225\n",
      "the square  27 729\n",
      "the square  22 484\n",
      "the square  27 729\n",
      "the square  28 784\n"
     ]
    }
   ],
   "source": [
    "#while\n",
    "import random\n",
    "i=0\n",
    "while i<=4:\n",
    "    a=random.randint(10,30)\n",
    "    print('the square ',a,a*a)\n",
    "    i=i+1"
   ]
  },
  {
   "cell_type": "code",
   "execution_count": 11,
   "id": "55e4ff68",
   "metadata": {},
   "outputs": [
    {
     "name": "stdout",
     "output_type": "stream",
     "text": [
      "even number 10\n",
      "odd number 11\n",
      "even number 12\n",
      "odd number 13\n",
      "even number 14\n",
      "odd number 15\n",
      "even number 16\n",
      "odd number 17\n",
      "even number 18\n",
      "odd number 19\n",
      "even number 20\n"
     ]
    }
   ],
   "source": [
    "for i in range(10,21):\n",
    "    if i%2==0:\n",
    "        print('even number',i)\n",
    "    else:\n",
    "        print('odd number',i)"
   ]
  },
  {
   "cell_type": "markdown",
   "id": "46dc7ab3",
   "metadata": {},
   "source": [
    "1. question\n",
    "Guess a number is a game that prompts a player to guess a number between 0 and 9, which\n",
    "is randomly generated by the system. When the input given by the user matches the\n",
    "number generated by the system then the user wins. The game should go as follows:\n",
    "\n",
    "Guess the number: 5\n",
    "Sorry, try again\n",
    "Guess the number: 3\n",
    "Sorry, try again\n",
    "Guess the number: 8\n",
    "You got it right! Congo!"
   ]
  },
  {
   "cell_type": "code",
   "execution_count": 45,
   "id": "1854c03f",
   "metadata": {},
   "outputs": [
    {
     "name": "stdout",
     "output_type": "stream",
     "text": [
      "guess the number:7\n",
      "sorry,try again\n",
      "guess the number:3\n",
      "you got it right! Cango!\n"
     ]
    }
   ],
   "source": [
    "i=0\n",
    "import random\n",
    "num=random.randint(0,9)\n",
    "while i<3:\n",
    "    guess=eval(input('guess the number:'))\n",
    "    if num==guess:\n",
    "        print('you got it right! Cango!')\n",
    "        break\n",
    "    else:\n",
    "        print('sorry,try again')\n",
    "\n",
    "    i=i+1\n",
    "\n",
    "\n"
   ]
  },
  {
   "cell_type": "markdown",
   "id": "a6d1a5c2",
   "metadata": {},
   "source": [
    "2 question\n",
    "Make an improvement to the Guess a number game. Guide the user where they are\n",
    "standing and limit the number of attempts to 3. For example, the game should go like this:\n",
    "\n",
    "Guess the number: 4\n",
    "Too low\n",
    "Guess the number: 9\n",
    "Too high\n",
    "Guess the number: 5\n",
    "Sorry you Lost!"
   ]
  },
  {
   "cell_type": "code",
   "execution_count": 48,
   "id": "a05bb057",
   "metadata": {},
   "outputs": [
    {
     "name": "stdout",
     "output_type": "stream",
     "text": [
      "guess the number:4\n",
      "too low\n",
      "guess the number:9\n",
      "too high\n",
      "guess the number:5\n",
      "too high\n"
     ]
    }
   ],
   "source": [
    "i=0\n",
    "while i<3:\n",
    "    guess=eval(input('guess the number:'))\n",
    "    if i==guess:\n",
    "        print('sorry you lost!')\n",
    "        break\n",
    "    elif 4==guess:\n",
    "        print('too low')\n",
    "    else:\n",
    "        print('too high')\n",
    "    i=i+1"
   ]
  },
  {
   "cell_type": "markdown",
   "id": "3d976021",
   "metadata": {},
   "source": [
    "#3 question\n",
    "Let us make the above game a little more interesting by converting it into a gambling\n",
    "problem. Suppose that a player starts with Rs. 1,000. If a player can guess the number in his\n",
    "first chance, then he will be given a prize of Rs. 5,000, if he requires 2 attempts then he will\n",
    "get a prize of Rs.1,000. If he loses then he will lose Rs. 500. For example the game should go\n",
    "like this:\n",
    "\n",
    "You have a cash of Rs. 1,000 with you...\n",
    "Guess the number: 8\n",
    "Too high\n",
    "Guess the number: 3\n",
    "You have just won Rs. 1,000"
   ]
  },
  {
   "cell_type": "code",
   "execution_count": 50,
   "id": "ee73afc9",
   "metadata": {},
   "outputs": [
    {
     "name": "stdout",
     "output_type": "stream",
     "text": [
      "You have a cash of Rs. 1,000 with you...\n",
      "guess the number:8\n",
      "too high\n",
      "guess the number:3\n",
      "too high\n",
      "guess the number:2\n",
      "You have just won Rs. 1,000\n"
     ]
    }
   ],
   "source": [
    " print('You have a cash of Rs. 1,000 with you...')\n",
    "i=0\n",
    "while i<3:\n",
    "    guess=eval(input('guess the number:'))\n",
    "    if i==guess:\n",
    "        print('You have just won Rs. 1,000')\n",
    "        break\n",
    "    else:\n",
    "        print('too high')\n",
    "    i=i+1"
   ]
  },
  {
   "cell_type": "markdown",
   "id": "2711d8b7",
   "metadata": {},
   "source": [
    "4. question\n",
    "Your balance: Rs. 2000\n",
    "4. Suppose that a player wants to play a game which requires him Rs. 1,000 to start. If the\n",
    "current balance in his account is less than Rs. 1,000 he needs to withdraw the extra money\n",
    "from his e-wallet.\n",
    "\n",
    "Note that if the sum of money in his courrent account and the amount withdrawn is greater than\n",
    "or equal to Rs. 1,000 then he can start playing the game. However if the sum is less than Rs.\n",
    "1,000 then the program should keep displaying the user the message “You still do not have\n",
    "enough money to start playing.” and keep prompting the user to withdraw money unless it\n",
    "crosses Rs. 1,000. Once ready, i.e. if his current account balance crosses Rs. 1,000, it will display\n",
    "a message “Now, you are ready to play the game.” Your program should also display the account\n",
    "balance and the current amount in the e-wallet.\n",
    "\n",
    "(consider: initial account balance is Rs. 200 and money in the e-wallet is Rs. 5,000)\n",
    "\n",
    "(Do further improvement by checking if the e-wallet balance becomes NIL, etc.)"
   ]
  },
  {
   "cell_type": "code",
   "execution_count": null,
   "id": "343f01aa",
   "metadata": {},
   "outputs": [],
   "source": [
    "i=0\n",
    "print('current balance in his account is less than 1,000 ')\n",
    "while i<3:\n",
    "    current_balance=2000\n",
    "    e_wallet=5000\n",
    "    num=eval(input('enter a number:'))\n",
    "    a=('with_drawn')\n",
    "if a>=1000:\n",
    "    if sum==1000:\n",
    "        print('then starts playing the game.')\n",
    "    elif sum<1000:\n",
    "        print('“You still do not have enough money to start playing.')\n",
    "    elif current_balance<1000:\n",
    "        print('Now, you are ready to play the game.')\n",
    "        break\n",
    "    else:\n",
    "        print('account balance')\n",
    "        print('current amount of e_wallet')\n",
    "        i=i+1\n"
   ]
  },
  {
   "cell_type": "code",
   "execution_count": 3,
   "id": "e8040512",
   "metadata": {},
   "outputs": [
    {
     "name": "stdout",
     "output_type": "stream",
     "text": [
      "0 1 2 3 4 5 6 7 8 9 10 11 12 13 14 15 16 17 18 19 "
     ]
    }
   ],
   "source": [
    "for i in range(20): print(i,end=' ')"
   ]
  },
  {
   "cell_type": "code",
   "execution_count": 4,
   "id": "69510367",
   "metadata": {},
   "outputs": [
    {
     "name": "stdout",
     "output_type": "stream",
     "text": [
      "2 3 4 5 6 "
     ]
    }
   ],
   "source": [
    "for i in range(2,7):\n",
    "    print(i,end=' ')"
   ]
  },
  {
   "cell_type": "code",
   "execution_count": 5,
   "id": "fc50b15b",
   "metadata": {},
   "outputs": [
    {
     "name": "stdout",
     "output_type": "stream",
     "text": [
      "-6 -5 -4 -3 -2 -1 0 1 2 3 4 "
     ]
    }
   ],
   "source": [
    "for i in range(-6,5):\n",
    "    print(i,end=' ')"
   ]
  },
  {
   "cell_type": "code",
   "execution_count": 8,
   "id": "1fe78002",
   "metadata": {},
   "outputs": [
    {
     "name": "stdout",
     "output_type": "stream",
     "text": [
      "-6 -3 0 3 "
     ]
    }
   ],
   "source": [
    "for i in range(-6,5,3):\n",
    "    print(i,end=' ')"
   ]
  },
  {
   "cell_type": "code",
   "execution_count": 9,
   "id": "c94429c2",
   "metadata": {},
   "outputs": [
    {
     "name": "stdout",
     "output_type": "stream",
     "text": [
      "mahesh\n",
      "mahesh\n",
      "mahesh\n"
     ]
    }
   ],
   "source": [
    "for i in range(3):\n",
    "    print('mahesh')"
   ]
  },
  {
   "cell_type": "code",
   "execution_count": 10,
   "id": "cbe75c14",
   "metadata": {},
   "outputs": [
    {
     "name": "stdout",
     "output_type": "stream",
     "text": [
      "lakshmi\n",
      "harshini\n",
      "harshini\n",
      "sahithi\n"
     ]
    }
   ],
   "source": [
    "print('lakshmi')\n",
    "for i in range(2):\n",
    "    print('harshini')\n",
    "print('sahithi')"
   ]
  },
  {
   "cell_type": "code",
   "execution_count": 12,
   "id": "483e3b1e",
   "metadata": {},
   "outputs": [
    {
     "name": "stdout",
     "output_type": "stream",
     "text": [
      "vaishu\n",
      "sahithi\n",
      "vaishu\n",
      "sahithi\n",
      "harsha\n",
      "harsha\n",
      "lakshmi\n",
      "lakshmi\n"
     ]
    }
   ],
   "source": [
    "for i in range(2):\n",
    "    print('vaishu')\n",
    "    print('sahithi')\n",
    "for i in range(2):\n",
    "    print('harsha')\n",
    "for i in range(2):\n",
    "    print('lakshmi')"
   ]
  },
  {
   "cell_type": "code",
   "execution_count": 15,
   "id": "101c56e0",
   "metadata": {},
   "outputs": [
    {
     "name": "stdout",
     "output_type": "stream",
     "text": [
      "the addition 10 20\n",
      "the addition 11 22\n",
      "the addition 12 24\n",
      "the addition 13 26\n",
      "the addition 14 28\n",
      "the addition 15 30\n",
      "the addition 16 32\n",
      "the addition 17 34\n"
     ]
    }
   ],
   "source": [
    "for i in range(10,18):\n",
    "    print('the addition',i,i+i)"
   ]
  },
  {
   "cell_type": "code",
   "execution_count": 16,
   "id": "68e38558",
   "metadata": {},
   "outputs": [
    {
     "name": "stdout",
     "output_type": "stream",
     "text": [
      "enter start number:20\n",
      "enter stop number:30\n",
      "the addition 20 40\n",
      "the addition 21 42\n",
      "the addition 22 44\n",
      "the addition 23 46\n",
      "the addition 24 48\n",
      "the addition 25 50\n",
      "the addition 26 52\n",
      "the addition 27 54\n",
      "the addition 28 56\n",
      "the addition 29 58\n"
     ]
    }
   ],
   "source": [
    "num1=eval(input('enter start number:'))\n",
    "num2=eval(input('enter stop number:'))\n",
    "\n",
    "for i in range(num1,num2):\n",
    "    print('the addition',i,i+i)"
   ]
  },
  {
   "cell_type": "code",
   "execution_count": 17,
   "id": "0d7d8244",
   "metadata": {},
   "outputs": [
    {
     "name": "stdout",
     "output_type": "stream",
     "text": [
      "enter start number:10\n",
      "enter stop number:20\n",
      "the addition 10 20\n",
      "the addition 11 22\n",
      "the addition 12 24\n",
      "the addition 13 26\n",
      "the addition 14 28\n",
      "the addition 15 30\n",
      "the addition 16 32\n",
      "the addition 17 34\n",
      "the addition 18 36\n",
      "the addition 19 38\n"
     ]
    }
   ],
   "source": [
    "for i in range(eval(input('enter start number:')),\n",
    "               eval(input('enter stop number:'))):\n",
    "    print('the addition',i,i+i)"
   ]
  },
  {
   "cell_type": "code",
   "execution_count": 19,
   "id": "62b0d9ca",
   "metadata": {},
   "outputs": [
    {
     "name": "stdout",
     "output_type": "stream",
     "text": [
      "the square  22 484\n",
      "the square  23 529\n",
      "the square  24 576\n",
      "the square  25 625\n",
      "the square  26 676\n",
      "the square  27 729\n",
      "the square  28 784\n",
      "the square  29 841\n",
      "the square  30 900\n",
      "the square  31 961\n",
      "the square  32 1024\n"
     ]
    }
   ],
   "source": [
    "num1=22\n",
    "num2=33\n",
    "\n",
    "for i in range(num1,num2):\n",
    "    print('the square ',i,i*i)"
   ]
  },
  {
   "cell_type": "code",
   "execution_count": 20,
   "id": "19ab0939",
   "metadata": {},
   "outputs": [
    {
     "name": "stdout",
     "output_type": "stream",
     "text": [
      "the addition 22 44\n",
      "the addition 23 46\n",
      "the addition 24 48\n",
      "the addition 25 50\n",
      "the addition 26 52\n",
      "the addition 27 54\n",
      "the addition 28 56\n",
      "the addition 29 58\n",
      "the addition 30 60\n",
      "the addition 31 62\n",
      "the addition 32 64\n"
     ]
    }
   ],
   "source": [
    "def addition():\n",
    "    num1=22\n",
    "    num2=33\n",
    "\n",
    "    for i in range(num1,num2):\n",
    "        print('the addition',i,i+i)\n",
    "    \n",
    "addition()"
   ]
  },
  {
   "cell_type": "code",
   "execution_count": 21,
   "id": "d32a2763",
   "metadata": {},
   "outputs": [
    {
     "name": "stdout",
     "output_type": "stream",
     "text": [
      "the addition 10 20\n",
      "the addition 11 22\n",
      "the addition 12 24\n"
     ]
    }
   ],
   "source": [
    "def addition1(num1,num2):\n",
    "    for i in range(num1,num2):\n",
    "        print('the addition',i,i+i)\n",
    "        \n",
    "addition1(10,13)"
   ]
  },
  {
   "cell_type": "code",
   "execution_count": 22,
   "id": "00c862a6",
   "metadata": {},
   "outputs": [
    {
     "name": "stdout",
     "output_type": "stream",
     "text": [
      "the addition 10 20\n",
      "the addition 11 22\n",
      "the addition 12 24\n",
      "the addition 13 26\n",
      "the addition 14 28\n",
      "the addition 15 30\n",
      "the addition 16 32\n",
      "the addition 17 34\n",
      "the addition 18 36\n",
      "the addition 19 38\n",
      "the addition 20 40\n",
      "the addition 21 42\n",
      "the addition 22 44\n",
      "the addition 23 46\n",
      "the addition 24 48\n",
      "the addition 25 50\n",
      "the addition 26 52\n",
      "the addition 27 54\n",
      "the addition 28 56\n",
      "the addition 29 58\n"
     ]
    }
   ],
   "source": [
    "def addition1(num1,num2=20):\n",
    "    for i in range(num1,num2):\n",
    "        print('the addition',i,i+i)\n",
    "        \n",
    "addition1(10,30)"
   ]
  },
  {
   "cell_type": "code",
   "execution_count": 23,
   "id": "f751f84a",
   "metadata": {},
   "outputs": [
    {
     "ename": "SyntaxError",
     "evalue": "non-default argument follows default argument (3823255487.py, line 1)",
     "output_type": "error",
     "traceback": [
      "\u001b[1;36m  Cell \u001b[1;32mIn[23], line 1\u001b[1;36m\u001b[0m\n\u001b[1;33m    def addition1(num1=20,num2):\u001b[0m\n\u001b[1;37m                          ^\u001b[0m\n\u001b[1;31mSyntaxError\u001b[0m\u001b[1;31m:\u001b[0m non-default argument follows default argument\n"
     ]
    }
   ],
   "source": [
    "def addition1(num1=20,num2):\n",
    "    for i in range(num1,num2):\n",
    "        print('the addition',i,i+i)\n",
    "        \n",
    "addition1(10,30)"
   ]
  },
  {
   "cell_type": "code",
   "execution_count": 27,
   "id": "c0988962",
   "metadata": {},
   "outputs": [
    {
     "name": "stdout",
     "output_type": "stream",
     "text": [
      "enter a number:7\n",
      "the square  7 49\n",
      "enter a number:9\n",
      "the square  9 81\n",
      "enter a number:13\n",
      "the square  13 169\n"
     ]
    }
   ],
   "source": [
    "for i in range(3):\n",
    "    num=eval(input('enter a number:'))\n",
    "    print('the square ',num,num*num)"
   ]
  },
  {
   "cell_type": "code",
   "execution_count": 30,
   "id": "3c97127e",
   "metadata": {},
   "outputs": [
    {
     "name": "stdout",
     "output_type": "stream",
     "text": [
      "enter a number:2\n",
      "the square of 2 is 4\n",
      "enter a number:9\n",
      "the square of 9 is 81\n",
      "enter a number:5\n",
      "the square of 5 is 25\n"
     ]
    }
   ],
   "source": [
    "import random\n",
    "for i in range(3):\n",
    "    a=eval(input('enter a number:'))\n",
    "    num=random.randint(10,20)\n",
    "    print('the square of {} is {}'.format(a,a*a))"
   ]
  },
  {
   "cell_type": "code",
   "execution_count": 31,
   "id": "69b2fe6e",
   "metadata": {},
   "outputs": [
    {
     "name": "stdout",
     "output_type": "stream",
     "text": [
      "even 10\n",
      "odd 11\n",
      "even 12\n",
      "odd 13\n",
      "even 14\n",
      "odd 15\n",
      "even 16\n",
      "odd 17\n",
      "even 18\n",
      "odd 19\n"
     ]
    }
   ],
   "source": [
    "for num in range(10,20):\n",
    "    if num%2==0:\n",
    "        print('even',num)\n",
    "    else:\n",
    "        print('odd',num)"
   ]
  },
  {
   "cell_type": "code",
   "execution_count": 32,
   "id": "76c6c303",
   "metadata": {},
   "outputs": [
    {
     "name": "stdout",
     "output_type": "stream",
     "text": [
      "the given 27 is odd\n",
      "the given 23 is odd\n",
      "the given 10 is even\n",
      "the given 15 is odd\n"
     ]
    }
   ],
   "source": [
    "import random\n",
    "for i in range(4):\n",
    "    a=random.randint(10,30)\n",
    "    if a%2==0:\n",
    "        print('the given {} is even'.format(a))\n",
    "    else:\n",
    "        print('the given {} is odd'.format(a))\n",
    "        "
   ]
  },
  {
   "cell_type": "code",
   "execution_count": 33,
   "id": "27d45239",
   "metadata": {},
   "outputs": [
    {
     "name": "stdout",
     "output_type": "stream",
     "text": [
      "even 30\n",
      "odd 21\n",
      "odd 27\n",
      "odd 29\n"
     ]
    }
   ],
   "source": [
    "import random\n",
    "def even_odd():\n",
    "    for i in range(4):\n",
    "        aa=random.randint(20,30)\n",
    "        if aa%2==0:\n",
    "            print('even',aa)\n",
    "        else:\n",
    "            print('odd',aa)\n",
    "            \n",
    "even_odd()\n",
    "    "
   ]
  },
  {
   "cell_type": "code",
   "execution_count": 34,
   "id": "54328fee",
   "metadata": {},
   "outputs": [
    {
     "name": "stdout",
     "output_type": "stream",
     "text": [
      "enter a number 1 to 20:7\n",
      "you lost\n",
      "enter a number 1 to 20:8\n",
      "you lost\n",
      "enter a number 1 to 20:2\n",
      "you lost\n",
      "enter a number 1 to 20:20\n",
      "you lost\n"
     ]
    }
   ],
   "source": [
    "import random\n",
    "random_num=random.randint(1,20)\n",
    "for i in range(4):\n",
    "    ab=eval(input('enter a number 1 to 20:'))\n",
    "    if ab==random_num:\n",
    "        print('you won')\n",
    "    else:\n",
    "        print('you lost')"
   ]
  },
  {
   "cell_type": "code",
   "execution_count": 36,
   "id": "76f5fca2",
   "metadata": {},
   "outputs": [
    {
     "name": "stdout",
     "output_type": "stream",
     "text": [
      "18\n",
      "enter number between 10 to 20:12\n",
      "you lost\n",
      "the number of chances left is: 2\n",
      "enter number between 10 to 20:18\n",
      "you won\n"
     ]
    }
   ],
   "source": [
    "import random\n",
    "random_num=random.randint(10,20)\n",
    "print(random_num)\n",
    "for i in range(3):\n",
    "    user_num=eval(input('enter number between 10 to 20:'))\n",
    "    if user_num==random_num:\n",
    "        print('you won')\n",
    "        break\n",
    "    else:\n",
    "        print('you lost')\n",
    "        print('the number of chances left is:',3-1-i)"
   ]
  },
  {
   "cell_type": "code",
   "execution_count": null,
   "id": "7d1a6f40",
   "metadata": {},
   "outputs": [
    {
     "name": "stdout",
     "output_type": "stream",
     "text": [
      "29\n",
      "enter how many chances you want:22\n"
     ]
    }
   ],
   "source": [
    "import random\n",
    "randomm=random.randint(20,30)\n",
    "print(randomm)\n",
    "chances=eval(input('enter how many chances you want:'))\n",
    "for i in range(chances):\n",
    "    user_num=eval(input('enter number between 20 and 30:'))\n",
    "    if user_num==randomm:\n",
    "        print('you won')\n",
    "        break\n",
    "    else:\n",
    "        print('you lost')\n",
    "        print('the number of chances left is',chances-1-i)"
   ]
  },
  {
   "cell_type": "code",
   "execution_count": 20,
   "id": "34da2f33",
   "metadata": {},
   "outputs": [
    {
     "name": "stdout",
     "output_type": "stream",
     "text": [
      "enter the number:9\n",
      "  0. 1 + 2 is3 \n",
      "  1. 3 + 3 is6 \n",
      "  2. 6 + 4 is10 \n",
      "  3. 10 + 5 is15 \n",
      "  4. 15 + 6 is21 \n",
      "  5. 21 + 7 is28 \n",
      "  6. 28 + 8 is36 \n",
      "  7. 36 + 9 is45 \n",
      "  8. 45 + 10 is55 \n"
     ]
    }
   ],
   "source": [
    "count=1\n",
    "i=2\n",
    "n=eval(input('enter the number:'))\n",
    "while i<n:\n",
    "    j=0\n",
    "    while j<n:\n",
    "        print('  {}. {} + {} is{} '.format(j,count,i,count+i))\n",
    "        j=j+1\n",
    "        count=count+i\n",
    "        i=i+1\n",
    "        "
   ]
  },
  {
   "cell_type": "code",
   "execution_count": 19,
   "id": "fb04c94f",
   "metadata": {},
   "outputs": [
    {
     "name": "stdout",
     "output_type": "stream",
     "text": [
      "enter the number:9\n",
      "1 + 2 is 3  \n",
      "3 + 3 is 6  \n",
      "6 + 4 is 10  \n",
      "10 + 5 is 15  \n",
      "15 + 6 is 21  \n",
      "21 + 7 is 28  \n",
      "28 + 8 is 36  \n",
      "36 + 9 is 45  \n"
     ]
    }
   ],
   "source": [
    "count=1\n",
    "i=2\n",
    "n=eval(input('enter the number:'))\n",
    "while i<=n:\n",
    "    temp=count+i\n",
    "    print('{} + {} is {}  '.format(count,i,temp))\n",
    "    count=count+i\n",
    "    i=i+1"
   ]
  },
  {
   "cell_type": "code",
   "execution_count": 9,
   "id": "fc4c43df",
   "metadata": {},
   "outputs": [
    {
     "name": "stdout",
     "output_type": "stream",
     "text": [
      "df\n",
      "cv\n",
      "er\n"
     ]
    }
   ],
   "source": [
    "list1=['harsha','harshini','diya','df','cv','er']\n",
    "for i in range(len(list1)):\n",
    "    if len(list1[i])<3:\n",
    "        print(list1[i])\n",
    "        \n",
    "for i in list1:\n",
    "    if len(i)<2:\n",
    "        print(i)"
   ]
  },
  {
   "cell_type": "code",
   "execution_count": 11,
   "id": "28fe9a91",
   "metadata": {},
   "outputs": [
    {
     "name": "stdout",
     "output_type": "stream",
     "text": [
      "3\n"
     ]
    }
   ],
   "source": [
    "list1=['app#e','te#a','cat','ball','d#g']\n",
    "count=0\n",
    "for i in list1:\n",
    "    if '#' in i:\n",
    "        count+=1\n",
    "print(count)"
   ]
  },
  {
   "cell_type": "code",
   "execution_count": null,
   "id": "1e35a16c",
   "metadata": {},
   "outputs": [],
   "source": [
    "list1=['app#e','te#a',['cat','ball','d#g']"
   ]
  },
  {
   "cell_type": "code",
   "execution_count": 5,
   "id": "75c3cfdc",
   "metadata": {},
   "outputs": [
    {
     "name": "stdout",
     "output_type": "stream",
     "text": [
      "integer number is 5\n"
     ]
    }
   ],
   "source": [
    "float=5.4\n",
    "integer_number=int(float)\n",
    "print('integer number is',integer_number)"
   ]
  },
  {
   "cell_type": "code",
   "execution_count": 11,
   "id": "ef0c787f",
   "metadata": {},
   "outputs": [
    {
     "ename": "TypeError",
     "evalue": "'float' object is not callable",
     "output_type": "error",
     "traceback": [
      "\u001b[1;31m---------------------------------------------------------------------------\u001b[0m",
      "\u001b[1;31mTypeError\u001b[0m                                 Traceback (most recent call last)",
      "Cell \u001b[1;32mIn[11], line 2\u001b[0m\n\u001b[0;32m      1\u001b[0m \u001b[38;5;28mint\u001b[39m\u001b[38;5;241m=\u001b[39m\u001b[38;5;241m80\u001b[39m\n\u001b[1;32m----> 2\u001b[0m result\u001b[38;5;241m=\u001b[39m\u001b[38;5;28mfloat\u001b[39m(\u001b[38;5;28mint\u001b[39m)\n\u001b[0;32m      3\u001b[0m \u001b[38;5;28mprint\u001b[39m(result)\n",
      "\u001b[1;31mTypeError\u001b[0m: 'float' object is not callable"
     ]
    }
   ],
   "source": [
    "int=80\n",
    "result=float(int)\n",
    "print(result)"
   ]
  },
  {
   "cell_type": "code",
   "execution_count": 15,
   "id": "e60b108d",
   "metadata": {},
   "outputs": [
    {
     "name": "stdout",
     "output_type": "stream",
     "text": [
      "skeegrofskeeg\n"
     ]
    }
   ],
   "source": [
    "gfp='geeksforgeeks'\n",
    "print(gfp[::-1])"
   ]
  },
  {
   "cell_type": "code",
   "execution_count": 17,
   "id": "165470f4",
   "metadata": {},
   "outputs": [
    {
     "name": "stdout",
     "output_type": "stream",
     "text": [
      "hello world\n",
      "hello world\n"
     ]
    }
   ],
   "source": [
    "count=0\n",
    "while(count<2):\n",
    "    count+=1\n",
    "    print('hello world')"
   ]
  },
  {
   "cell_type": "code",
   "execution_count": 20,
   "id": "da107983",
   "metadata": {},
   "outputs": [
    {
     "name": "stdout",
     "output_type": "stream",
     "text": [
      "1 2 3 "
     ]
    }
   ],
   "source": [
    "n=4\n",
    "for i in range(1,n):\n",
    "    print(i,end=' ')"
   ]
  },
  {
   "cell_type": "code",
   "execution_count": 3,
   "id": "ba0ce2f5",
   "metadata": {},
   "outputs": [
    {
     "name": "stdout",
     "output_type": "stream",
     "text": [
      "h\n",
      "o\n",
      " \n",
      "w\n",
      "o\n",
      "r\n",
      "d\n"
     ]
    }
   ],
   "source": [
    "s='hello world'\n",
    "for i in s:\n",
    "    if i=='e'or i=='l':\n",
    "        continue\n",
    "    else:\n",
    "        print(i)"
   ]
  },
  {
   "cell_type": "code",
   "execution_count": 4,
   "id": "d87e0ce6",
   "metadata": {},
   "outputs": [
    {
     "name": "stdout",
     "output_type": "stream",
     "text": [
      "h\n"
     ]
    }
   ],
   "source": [
    "s='hello world'\n",
    "for i in s:\n",
    "    if i=='e'or i=='l':\n",
    "        break\n",
    "    else:\n",
    "        print(i)"
   ]
  },
  {
   "cell_type": "code",
   "execution_count": 38,
   "id": "dc52deb1",
   "metadata": {},
   "outputs": [
    {
     "name": "stdout",
     "output_type": "stream",
     "text": [
      "0 1 2 "
     ]
    }
   ],
   "source": [
    "\n",
    "for i in range(0,10):\n",
    "    print(i,end=' ')\n",
    "    if i==2:\n",
    "        break"
   ]
  },
  {
   "cell_type": "code",
   "execution_count": 42,
   "id": "4345c556",
   "metadata": {},
   "outputs": [
    {
     "name": "stdout",
     "output_type": "stream",
     "text": [
      "0\n",
      "1\n",
      "2\n",
      "3\n",
      "4\n"
     ]
    }
   ],
   "source": [
    "for i in range(5):\n",
    "    print(i)\n",
    "    if i==3:\n",
    "        continue\n",
    "        print(i)"
   ]
  },
  {
   "cell_type": "code",
   "execution_count": 48,
   "id": "baf886b5",
   "metadata": {},
   "outputs": [],
   "source": [
    "\n",
    "for i in range(0,10):\n",
    "    if i==3:\n",
    "        continue\n",
    "        print(i)\n",
    "        "
   ]
  },
  {
   "cell_type": "code",
   "execution_count": 49,
   "id": "97f72655",
   "metadata": {},
   "outputs": [
    {
     "name": "stdout",
     "output_type": "stream",
     "text": [
      "hello\n"
     ]
    }
   ],
   "source": [
    "n=10\n",
    "if n>10:\n",
    "    pass\n",
    "print('hello')"
   ]
  },
  {
   "cell_type": "code",
   "execution_count": 52,
   "id": "e46c4b57",
   "metadata": {},
   "outputs": [],
   "source": [
    "stack=[]\n",
    "\n",
    "stack.append('a')\n",
    "stack.append('b')\n",
    "stack.append('c')\n"
   ]
  },
  {
   "cell_type": "code",
   "execution_count": 53,
   "id": "d0720ec3",
   "metadata": {},
   "outputs": [
    {
     "name": "stdout",
     "output_type": "stream",
     "text": [
      "frist element: 1\n",
      "second element: 2\n",
      "last element: 9\n"
     ]
    }
   ],
   "source": [
    "import array as arr\n",
    "a=arr.array('i',[1,2,4,9])\n",
    "print('frist element:',a[0])\n",
    "print('second element:',a[1])\n",
    "print('last element:',a[3])"
   ]
  },
  {
   "cell_type": "code",
   "execution_count": 57,
   "id": "18a61b74",
   "metadata": {},
   "outputs": [
    {
     "ename": "NameError",
     "evalue": "name 'hash_function' is not defined",
     "output_type": "error",
     "traceback": [
      "\u001b[1;31m---------------------------------------------------------------------------\u001b[0m",
      "\u001b[1;31mNameError\u001b[0m                                 Traceback (most recent call last)",
      "Cell \u001b[1;32mIn[57], line 1\u001b[0m\n\u001b[1;32m----> 1\u001b[0m m\u001b[38;5;241m=\u001b[39mhash_function(\u001b[38;5;241m50\u001b[39m,hash_function_1)\n\u001b[0;32m      2\u001b[0m \u001b[38;5;28;01mfor\u001b[39;00m i \u001b[38;5;129;01min\u001b[39;00m \u001b[38;5;28mrange\u001b[39m(\u001b[38;5;241m50\u001b[39m):\n\u001b[0;32m      3\u001b[0m     m\u001b[38;5;241m.\u001b[39mput(\u001b[38;5;124m'\u001b[39m\u001b[38;5;124mstr\u001b[39m\u001b[38;5;124m'\u001b[39m \u001b[38;5;241m+\u001b[39m\u001b[38;5;28mstr\u001b[39m(i),i\u001b[38;5;241m*\u001b[39m\u001b[38;5;241m100\u001b[39m)\n",
      "\u001b[1;31mNameError\u001b[0m: name 'hash_function' is not defined"
     ]
    }
   ],
   "source": [
    "m=hash_function(50,hash_function_1)\n",
    "for i in range(50):\n",
    "    m.put('str' +str(i),i*100)\n",
    "    if i%25==24:\n",
    "        print(m.empty_buckets(),m.table_load(),m.size, m.capacity)"
   ]
  },
  {
   "cell_type": "code",
   "execution_count": 58,
   "id": "8756a96d",
   "metadata": {},
   "outputs": [
    {
     "name": "stdout",
     "output_type": "stream",
     "text": [
      "student ID {112, 114, 115, 116, 118}\n"
     ]
    }
   ],
   "source": [
    "student_id={112,114,116,118,115}\n",
    "print('student ID',student_id)"
   ]
  },
  {
   "cell_type": "code",
   "execution_count": 59,
   "id": "9d13ad23",
   "metadata": {},
   "outputs": [
    {
     "name": "stdout",
     "output_type": "stream",
     "text": [
      "vowel Letter {'o', 'i', 'a', 'e', 'u'}\n"
     ]
    }
   ],
   "source": [
    "v={'a','o','i','e','u'}\n",
    "print('vowel Letter',v)"
   ]
  },
  {
   "cell_type": "code",
   "execution_count": 60,
   "id": "3a6e3743",
   "metadata": {},
   "outputs": [
    {
     "name": "stdout",
     "output_type": "stream",
     "text": [
      "set of mixed data types: {'hello', 'bye', 101, -2}\n"
     ]
    }
   ],
   "source": [
    "m={'hello',101,-2,'bye'}\n",
    "print('set of mixed data types:',m)"
   ]
  },
  {
   "cell_type": "code",
   "execution_count": 14,
   "id": "7d6816af",
   "metadata": {},
   "outputs": [
    {
     "name": "stdout",
     "output_type": "stream",
     "text": [
      "omkar\n",
      "nallagoni\n",
      "cogizant\n"
     ]
    }
   ],
   "source": [
    "str2='omkar.nallagoni@cogizant.com'\n",
    "str2.find('.')\n",
    "num1=str2[0:5]\n",
    "print(num1)\n",
    "str2.find('@')\n",
    "num2=str2[6:15]\n",
    "print(num2)\n",
    "str2.find('.c')\n",
    "num3=str2[16:24]\n",
    "print(num3)"
   ]
  },
  {
   "cell_type": "code",
   "execution_count": 22,
   "id": "bba950b8",
   "metadata": {},
   "outputs": [
    {
     "name": "stdout",
     "output_type": "stream",
     "text": [
      "harshini\n",
      "desulakshmi\n",
      "gmail.c\n"
     ]
    }
   ],
   "source": [
    "str1='harshini.desulakshmi@gmail.com'\n",
    "str1.find('.')\n",
    "n=str1[0:8]\n",
    "print(n)\n",
    "str1.find('@')\n",
    "n1=str1[9:20]\n",
    "print(n1)\n",
    "str1.find('om')\n",
    "n2=str1[21:28]\n",
    "print(n2)"
   ]
  },
  {
   "cell_type": "code",
   "execution_count": 1,
   "id": "450217bf",
   "metadata": {},
   "outputs": [
    {
     "data": {
      "text/plain": [
       "{'ram': 35, 'raheem': 25, 'robert': 30}"
      ]
     },
     "execution_count": 1,
     "metadata": {},
     "output_type": "execute_result"
    }
   ],
   "source": [
    "names=['ram','raheem','robert']\n",
    "age=[35,25,30]\n",
    "dict1=dict(zip(names,age))\n",
    "dict1"
   ]
  },
  {
   "cell_type": "code",
   "execution_count": 24,
   "id": "a06adf42",
   "metadata": {},
   "outputs": [
    {
     "data": {
      "text/plain": [
       "{'even': [20, 14, 16], 'odd': [13, 15]}"
      ]
     },
     "execution_count": 24,
     "metadata": {},
     "output_type": "execute_result"
    }
   ],
   "source": [
    "import random\n",
    "d1={'even':[],'odd':[]}\n",
    "[d1['even'].append(num) if (num:=random.randint(10,20))%2==0  else d1['odd'].append(num) for i in range(5)]\n",
    "d1"
   ]
  },
  {
   "cell_type": "code",
   "execution_count": 14,
   "id": "73a34079",
   "metadata": {},
   "outputs": [
    {
     "data": {
      "text/plain": [
       "{'even': [12, 16, 16, 10], 'odd': [13]}"
      ]
     },
     "execution_count": 14,
     "metadata": {},
     "output_type": "execute_result"
    }
   ],
   "source": [
    "import random\n",
    "dict1={}\n",
    "l1=[]\n",
    "l2=[]\n",
    "for i in range(5):\n",
    "    num=random.randint(10,20)\n",
    "    if num%2==0:\n",
    "        l1.append(num)\n",
    "    else:\n",
    "        l2.append(num)\n",
    "dict1['even']=l1\n",
    "dict1['odd']=l2\n",
    "dict1"
   ]
  },
  {
   "cell_type": "code",
   "execution_count": 38,
   "id": "8d8ecde4",
   "metadata": {},
   "outputs": [
    {
     "ename": "SyntaxError",
     "evalue": "expected 'else' after 'if' expression (301498598.py, line 4)",
     "output_type": "error",
     "traceback": [
      "\u001b[1;36m  Cell \u001b[1;32mIn[38], line 4\u001b[1;36m\u001b[0m\n\u001b[1;33m    'odd':[jk if num%2!=0]}\u001b[0m\n\u001b[1;37m           ^\u001b[0m\n\u001b[1;31mSyntaxError\u001b[0m\u001b[1;31m:\u001b[0m expected 'else' after 'if' expression\n"
     ]
    }
   ],
   "source": [
    "import random \n",
    "jk=[random.randint(10,30) for i in range(5)]\n",
    "dict1={'even':[jk , num%2==0],\n",
    "      'odd':[jk if num%2!=0]}\n",
    "else:\n",
    "print('dictionary:',dict1)"
   ]
  },
  {
   "cell_type": "code",
   "execution_count": 35,
   "id": "e21fd307",
   "metadata": {},
   "outputs": [
    {
     "name": "stdout",
     "output_type": "stream",
     "text": [
      "dictionary {'even': [30, 20], 'odd': [27, 29, 29]}\n"
     ]
    }
   ],
   "source": [
    "import random\n",
    "jk=[random.randint(20,30) for _ in range(5)]\n",
    "dict1={'even':[num for num in jk if num%2==0],\n",
    "      'odd':[num for num in jk if num%2!=0]}\n",
    "print('dictionary',dict1)"
   ]
  },
  {
   "cell_type": "markdown",
   "id": "0be2f822",
   "metadata": {},
   "source": [
    "1. Write a program that asks the user to enter a string. The program should then print the following:\n",
    "(a) The total number of characters in the string\n",
    "(b) The string repeated 10 times\n",
    "(c) The first character of the string (remember that string indices start at 0) (d) The first three\n",
    "characters of the string\n",
    "(e) The last three characters of the string\n",
    "(f) The string backwards\n",
    "(g) The seventh character of the string if the string is long enough and a message otherwise\n",
    "(h) The string with its first and last characters removed\n",
    "(i) The string in all caps\n",
    "(j) The string with every a replaced with an e"
   ]
  },
  {
   "cell_type": "code",
   "execution_count": 1,
   "id": "ecdb6fee",
   "metadata": {},
   "outputs": [
    {
     "name": "stdout",
     "output_type": "stream",
     "text": [
      "30\n"
     ]
    }
   ],
   "source": [
    "def add(a):\n",
    "    print(a+10)\n",
    "add(20)"
   ]
  },
  {
   "cell_type": "code",
   "execution_count": 2,
   "id": "0372dfa2",
   "metadata": {},
   "outputs": [
    {
     "name": "stdout",
     "output_type": "stream",
     "text": [
      "30\n"
     ]
    }
   ],
   "source": [
    "def add(a):\n",
    "    summ=a+10\n",
    "    print(summ)\n",
    "add(20)"
   ]
  },
  {
   "cell_type": "code",
   "execution_count": 3,
   "id": "4a6e2008",
   "metadata": {},
   "outputs": [
    {
     "data": {
      "text/plain": [
       "30"
      ]
     },
     "execution_count": 3,
     "metadata": {},
     "output_type": "execute_result"
    }
   ],
   "source": [
    "add=lambda a:a+10\n",
    "add(20)"
   ]
  },
  {
   "cell_type": "code",
   "execution_count": 4,
   "id": "eda6ba5b",
   "metadata": {},
   "outputs": [
    {
     "data": {
      "text/plain": [
       "81"
      ]
     },
     "execution_count": 4,
     "metadata": {},
     "output_type": "execute_result"
    }
   ],
   "source": [
    "square=lambda a:a*a\n",
    "square(9)"
   ]
  },
  {
   "cell_type": "code",
   "execution_count": 6,
   "id": "f32b2410",
   "metadata": {},
   "outputs": [
    {
     "data": {
      "text/plain": [
       "(512, 64)"
      ]
     },
     "execution_count": 6,
     "metadata": {},
     "output_type": "execute_result"
    }
   ],
   "source": [
    "cube=lambda a,b:(a*a*a,b*b*b)\n",
    "cube(8,4)"
   ]
  },
  {
   "cell_type": "code",
   "execution_count": 7,
   "id": "0ba84929",
   "metadata": {},
   "outputs": [
    {
     "data": {
      "text/plain": [
       "4.333333333333333"
      ]
     },
     "execution_count": 7,
     "metadata": {},
     "output_type": "execute_result"
    }
   ],
   "source": [
    "avg=lambda a,b,c:(a+b+c)/3\n",
    "avg(3,4,6)"
   ]
  },
  {
   "cell_type": "code",
   "execution_count": 8,
   "id": "49d0f498",
   "metadata": {},
   "outputs": [
    {
     "data": {
      "text/plain": [
       "4.33"
      ]
     },
     "execution_count": 8,
     "metadata": {},
     "output_type": "execute_result"
    }
   ],
   "source": [
    "round(4.3333333333333,2)"
   ]
  },
  {
   "cell_type": "code",
   "execution_count": 10,
   "id": "2dd499b6",
   "metadata": {},
   "outputs": [
    {
     "name": "stdout",
     "output_type": "stream",
     "text": [
      "90\n"
     ]
    }
   ],
   "source": [
    "def greater(a,b):\n",
    "    if a>b:\n",
    "        print(a)\n",
    "    else: \n",
    "        print(b)\n",
    "greater(90,30)"
   ]
  },
  {
   "cell_type": "code",
   "execution_count": 12,
   "id": "25de7564",
   "metadata": {},
   "outputs": [
    {
     "data": {
      "text/plain": [
       "[57]"
      ]
     },
     "execution_count": 12,
     "metadata": {},
     "output_type": "execute_result"
    }
   ],
   "source": [
    "l1=[]\n",
    "def greater(a,b):\n",
    "    if a>b:\n",
    "        l1.append(a)\n",
    "    else:\n",
    "        l1.append(b)\n",
    "greater(20,57)\n",
    "l1"
   ]
  },
  {
   "cell_type": "code",
   "execution_count": 17,
   "id": "278ea52b",
   "metadata": {},
   "outputs": [
    {
     "ename": "TypeError",
     "evalue": "'tuple' object is not callable",
     "output_type": "error",
     "traceback": [
      "\u001b[1;31m---------------------------------------------------------------------------\u001b[0m",
      "\u001b[1;31mTypeError\u001b[0m                                 Traceback (most recent call last)",
      "Cell \u001b[1;32mIn[17], line 2\u001b[0m\n\u001b[0;32m      1\u001b[0m z\u001b[38;5;241m=\u001b[39m(\u001b[38;5;241m1\u001b[39m,[\u001b[38;5;241m2\u001b[39m,\u001b[38;5;241m3\u001b[39m])\n\u001b[1;32m----> 2\u001b[0m \u001b[38;5;28mtype\u001b[39m(z)\n",
      "\u001b[1;31mTypeError\u001b[0m: 'tuple' object is not callable"
     ]
    }
   ],
   "source": [
    "z=(1,[2,3])\n",
    "type(z)"
   ]
  },
  {
   "cell_type": "code",
   "execution_count": null,
   "id": "0993709c",
   "metadata": {},
   "outputs": [],
   "source": [
    "wap to ask the user for some numbers and find all the combinations\n",
    "of 3 numbers whose sum adds up to zero(0). suppose the input numbers are\n",
    "(-1,1,0,2,-3,4).then output will be(-3,-1,4),(-3,1,2),(-1,0,1)."
   ]
  },
  {
   "cell_type": "code",
   "execution_count": 28,
   "id": "fa7d050c",
   "metadata": {},
   "outputs": [
    {
     "name": "stdout",
     "output_type": "stream",
     "text": [
      "(-1, 1, 0) (-1, -3, 4) (1, 2, -3) "
     ]
    }
   ],
   "source": [
    "l=[-1,1,0,2,-3,4]\n",
    "n=l.copy()\n",
    "for i in range(len(l)-2):\n",
    "    n.remove(l[i])\n",
    "    x=n.copy()\n",
    "    for j in range(len(n)-1):\n",
    "        x.remove(n[j])\n",
    "        for k in range(len(x)):\n",
    "            if(l[i]+n[j]+x[k])==0:\n",
    "                print((l[i],n[j],x[k]),end=' ')\n",
    "                break\n",
    "   "
   ]
  },
  {
   "cell_type": "code",
   "execution_count": 40,
   "id": "c7ed888b",
   "metadata": {},
   "outputs": [
    {
     "name": "stdout",
     "output_type": "stream",
     "text": [
      "(-1, 1, 0) (-1, -3, 4) (1, 2, -3) "
     ]
    }
   ],
   "source": [
    "l=[-1,1,0,2,-3,4]\n",
    "n=l.copy()\n",
    "for i in range(len(l)-2):\n",
    "    n.remove(l[i])\n",
    "    \n",
    "    x=n.copy()\n",
    "    for j in range(len(n)-1):\n",
    "        x.remove(n[j])\n",
    "        \n",
    "        for k in range(len(x)):\n",
    "            if(l[i]+n[j]+x[k])==0:\n",
    "                print((l[i],n[j],x[k]),end=' ')\n",
    "                "
   ]
  },
  {
   "cell_type": "code",
   "execution_count": null,
   "id": "ed5fa6c0",
   "metadata": {},
   "outputs": [],
   "source": [
    "12. Write a program that asks the user to enter their name in lowercase and then capitalizes the first\n",
    "letter of each word of their name."
   ]
  },
  {
   "cell_type": "code",
   "execution_count": 45,
   "id": "b85b99f0",
   "metadata": {},
   "outputs": [
    {
     "name": "stdout",
     "output_type": "stream",
     "text": [
      "Hi How Are You\n"
     ]
    }
   ],
   "source": [
    "\n",
    "name = \"hi how are you\"\n",
    "def capitalize_name(name):\n",
    "    name_list = name.split()\n",
    "    capitalized_name = [word.capitalize() for word in name_list]\n",
    "    capitalized_name = \" \".join(capitalized_name)\n",
    "    return capitalized_name\n",
    "\n",
    "capitalized_name = capitalize_name(name)\n",
    "print(capitalized_name)"
   ]
  },
  {
   "cell_type": "code",
   "execution_count": 46,
   "id": "d9c808a9",
   "metadata": {},
   "outputs": [
    {
     "data": {
      "text/plain": [
       "['hi', 'how', 'are', 'you', 'harshini']"
      ]
     },
     "execution_count": 46,
     "metadata": {},
     "output_type": "execute_result"
    }
   ],
   "source": [
    "n='hi how are you harshini'\n",
    "n.split()"
   ]
  },
  {
   "cell_type": "code",
   "execution_count": 53,
   "id": "ada363ce",
   "metadata": {},
   "outputs": [],
   "source": [
    "n='hi ho ware you'\n",
    "m=n.split()\n",
    "l1=[name.capitalize() for name in  m]\n",
    "l1=' '.join(l1)\n",
    "print(l1)"
   ]
  },
  {
   "cell_type": "code",
   "execution_count": 1,
   "id": "73c2586f",
   "metadata": {},
   "outputs": [
    {
     "data": {
      "text/plain": [
       "{'even': [24, 22], 'odd': [29, 25, 27]}"
      ]
     },
     "execution_count": 1,
     "metadata": {},
     "output_type": "execute_result"
    }
   ],
   "source": [
    "dict={}\n",
    "even_list=[]\n",
    "odd_list=[]\n",
    "import random\n",
    "for i in range(5):\n",
    "    num=random.randint(20,30)\n",
    "    if num%2==0:\n",
    "        even_list.append(num)\n",
    "    else:\n",
    "        odd_list.append(num)\n",
    "dict['even']=even_list\n",
    "dict['odd']=odd_list\n",
    "dict"
   ]
  },
  {
   "cell_type": "code",
   "execution_count": 2,
   "id": "591cc3d0",
   "metadata": {},
   "outputs": [
    {
     "data": {
      "text/plain": [
       "['__class__',\n",
       " '__class_getitem__',\n",
       " '__contains__',\n",
       " '__delattr__',\n",
       " '__delitem__',\n",
       " '__dir__',\n",
       " '__doc__',\n",
       " '__eq__',\n",
       " '__format__',\n",
       " '__ge__',\n",
       " '__getattribute__',\n",
       " '__getitem__',\n",
       " '__getstate__',\n",
       " '__gt__',\n",
       " '__hash__',\n",
       " '__init__',\n",
       " '__init_subclass__',\n",
       " '__ior__',\n",
       " '__iter__',\n",
       " '__le__',\n",
       " '__len__',\n",
       " '__lt__',\n",
       " '__ne__',\n",
       " '__new__',\n",
       " '__or__',\n",
       " '__reduce__',\n",
       " '__reduce_ex__',\n",
       " '__repr__',\n",
       " '__reversed__',\n",
       " '__ror__',\n",
       " '__setattr__',\n",
       " '__setitem__',\n",
       " '__sizeof__',\n",
       " '__str__',\n",
       " '__subclasshook__',\n",
       " 'clear',\n",
       " 'copy',\n",
       " 'fromkeys',\n",
       " 'get',\n",
       " 'items',\n",
       " 'keys',\n",
       " 'pop',\n",
       " 'popitem',\n",
       " 'setdefault',\n",
       " 'update',\n",
       " 'values']"
      ]
     },
     "execution_count": 2,
     "metadata": {},
     "output_type": "execute_result"
    }
   ],
   "source": [
    "dir({})"
   ]
  },
  {
   "cell_type": "code",
   "execution_count": 3,
   "id": "270d3363",
   "metadata": {},
   "outputs": [
    {
     "data": {
      "text/plain": [
       "{'harsha': 30, 'akhila': 29, 'bharavi': 31}"
      ]
     },
     "execution_count": 3,
     "metadata": {},
     "output_type": "execute_result"
    }
   ],
   "source": [
    "s1={'harsha':30,'akhila':29,'bharavi':31}\n",
    "s1"
   ]
  },
  {
   "cell_type": "code",
   "execution_count": 4,
   "id": "577a2a5d",
   "metadata": {},
   "outputs": [
    {
     "data": {
      "text/plain": [
       "dict_items([('harsha', 30), ('akhila', 29), ('bharavi', 31)])"
      ]
     },
     "execution_count": 4,
     "metadata": {},
     "output_type": "execute_result"
    }
   ],
   "source": [
    "s1.items()"
   ]
  },
  {
   "cell_type": "code",
   "execution_count": 5,
   "id": "63d527a0",
   "metadata": {},
   "outputs": [
    {
     "data": {
      "text/plain": [
       "dict_keys(['harsha', 'akhila', 'bharavi'])"
      ]
     },
     "execution_count": 5,
     "metadata": {},
     "output_type": "execute_result"
    }
   ],
   "source": [
    "s1.keys()"
   ]
  },
  {
   "cell_type": "code",
   "execution_count": 6,
   "id": "ea348c75",
   "metadata": {},
   "outputs": [
    {
     "data": {
      "text/plain": [
       "dict_values([30, 29, 31])"
      ]
     },
     "execution_count": 6,
     "metadata": {},
     "output_type": "execute_result"
    }
   ],
   "source": [
    "s1.values()"
   ]
  },
  {
   "cell_type": "code",
   "execution_count": 12,
   "id": "12ec57c7",
   "metadata": {},
   "outputs": [
    {
     "data": {
      "text/plain": [
       "(30, 29, 31)"
      ]
     },
     "execution_count": 12,
     "metadata": {},
     "output_type": "execute_result"
    }
   ],
   "source": [
    "values\n",
    "tuple(values)"
   ]
  },
  {
   "cell_type": "code",
   "execution_count": 10,
   "id": "8b3a0217",
   "metadata": {},
   "outputs": [
    {
     "data": {
      "text/plain": [
       "dict_values([30, 29, 31])"
      ]
     },
     "execution_count": 10,
     "metadata": {},
     "output_type": "execute_result"
    }
   ],
   "source": [
    "values=s1.values()\n",
    "values"
   ]
  },
  {
   "cell_type": "code",
   "execution_count": null,
   "id": "092c9b9c",
   "metadata": {},
   "outputs": [],
   "source": [
    "dict1={'harsha':30,'akhila':29,'bharavi':31}"
   ]
  },
  {
   "cell_type": "code",
   "execution_count": 14,
   "id": "fb1fdc12",
   "metadata": {},
   "outputs": [
    {
     "name": "stdout",
     "output_type": "stream",
     "text": [
      "['harsha', 'sai', 'are', 'you', 'able', 'to', 'read', 'are', 'write', 'to', 'sai', 'to']\n"
     ]
    },
    {
     "data": {
      "text/plain": [
       "{'harsha': 1,\n",
       " 'sai': 2,\n",
       " 'are': 2,\n",
       " 'you': 1,\n",
       " 'able': 1,\n",
       " 'to': 3,\n",
       " 'read': 1,\n",
       " 'write': 1}"
      ]
     },
     "execution_count": 14,
     "metadata": {},
     "output_type": "execute_result"
    }
   ],
   "source": [
    "str1='harsha sai are you  able to read are write to sai to'\n",
    "str1=str1.split()\n",
    "print(str1)\n",
    "\n",
    "s={}\n",
    "for i in str1:\n",
    "    if i in s:\n",
    "        s[i] =s[i]+1\n",
    "    else:\n",
    "        s[i]=1\n",
    "s"
   ]
  },
  {
   "cell_type": "code",
   "execution_count": 15,
   "id": "c9a3b54c",
   "metadata": {},
   "outputs": [
    {
     "data": {
      "text/plain": [
       "{'harsha': 1,\n",
       " 'sai': 2,\n",
       " 'are': 2,\n",
       " 'you': 1,\n",
       " 'able': 1,\n",
       " 'to': 3,\n",
       " 'read': 1,\n",
       " 'write': 1}"
      ]
     },
     "execution_count": 15,
     "metadata": {},
     "output_type": "execute_result"
    }
   ],
   "source": [
    "s='harsha sai are you  able to read are write to sai to'\n",
    "a=s.split()\n",
    "d={}\n",
    "for i in a:\n",
    "    d[i]=a.count(i)\n",
    "d"
   ]
  },
  {
   "cell_type": "code",
   "execution_count": 17,
   "id": "6ee9d2ca",
   "metadata": {},
   "outputs": [
    {
     "data": {
      "text/plain": [
       "{'c': 4, 'e': 9, 'f': 8}"
      ]
     },
     "execution_count": 17,
     "metadata": {},
     "output_type": "execute_result"
    }
   ],
   "source": [
    "d={'c':3,'e':5,'f':9,'r':34}\n",
    "d1={'c':4,'e':9,'f':8}\n",
    "for i in d1:\n",
    "    d[i]+=d1[i]\n",
    "d1"
   ]
  },
  {
   "cell_type": "code",
   "execution_count": null,
   "id": "e2cee6fb",
   "metadata": {},
   "outputs": [],
   "source": []
  }
 ],
 "metadata": {
  "kernelspec": {
   "display_name": "Python 3 (ipykernel)",
   "language": "python",
   "name": "python3"
  },
  "language_info": {
   "codemirror_mode": {
    "name": "ipython",
    "version": 3
   },
   "file_extension": ".py",
   "mimetype": "text/x-python",
   "name": "python",
   "nbconvert_exporter": "python",
   "pygments_lexer": "ipython3",
   "version": "3.11.5"
  }
 },
 "nbformat": 4,
 "nbformat_minor": 5
}
