{
 "cells": [
  {
   "cell_type": "code",
   "execution_count": 2,
   "id": "e3e43bb7",
   "metadata": {},
   "outputs": [],
   "source": [
    "string1='python'"
   ]
  },
  {
   "cell_type": "code",
   "execution_count": 4,
   "id": "20d2aa9f",
   "metadata": {},
   "outputs": [
    {
     "data": {
      "text/plain": [
       "[1, 2, 3, 4]"
      ]
     },
     "execution_count": 4,
     "metadata": {},
     "output_type": "execute_result"
    }
   ],
   "source": [
    "list1=[1,2,3,4]\n",
    "list1"
   ]
  },
  {
   "cell_type": "code",
   "execution_count": 5,
   "id": "4efb817d",
   "metadata": {},
   "outputs": [
    {
     "data": {
      "text/plain": [
       "['A', 'B', 'C', 'D']"
      ]
     },
     "execution_count": 5,
     "metadata": {},
     "output_type": "execute_result"
    }
   ],
   "source": [
    "list2=['A','B','C','D']\n",
    "list2"
   ]
  },
  {
   "cell_type": "code",
   "execution_count": 6,
   "id": "fbe7be54",
   "metadata": {},
   "outputs": [
    {
     "data": {
      "text/plain": [
       "[1, 2, 3, 4, 'A', 'B', 'C', 'D']"
      ]
     },
     "execution_count": 6,
     "metadata": {},
     "output_type": "execute_result"
    }
   ],
   "source": [
    "list3=[1,2,3,4,'A','B','C','D']\n",
    "list3"
   ]
  },
  {
   "cell_type": "code",
   "execution_count": 2,
   "id": "4dbc1612",
   "metadata": {},
   "outputs": [
    {
     "data": {
      "text/plain": [
       "[1, 'apple', 10.5, (10+20j), True]"
      ]
     },
     "execution_count": 2,
     "metadata": {},
     "output_type": "execute_result"
    }
   ],
   "source": [
    "list4=[1,'apple',10.5,10+20j,True]\n",
    "list4"
   ]
  },
  {
   "cell_type": "code",
   "execution_count": 9,
   "id": "6f3bbfdb",
   "metadata": {},
   "outputs": [
    {
     "data": {
      "text/plain": [
       "[100, 100, 100]"
      ]
     },
     "execution_count": 9,
     "metadata": {},
     "output_type": "execute_result"
    }
   ],
   "source": [
    "list5=[100,100,100]\n",
    "list5"
   ]
  },
  {
   "cell_type": "code",
   "execution_count": 11,
   "id": "3a54d1bf",
   "metadata": {},
   "outputs": [
    {
     "data": {
      "text/plain": [
       "[[1, 2, 3, 4]]"
      ]
     },
     "execution_count": 11,
     "metadata": {},
     "output_type": "execute_result"
    }
   ],
   "source": [
    "list6=[[1,2,3,4]]\n",
    "list6"
   ]
  },
  {
   "cell_type": "markdown",
   "id": "cb2da821",
   "metadata": {},
   "source": [
    "- list in an array of elements\n",
    "- list elements hetrogenous(diffrent) data types are allowed\n",
    "- duplicates are allowed\n",
    "- list in list also works"
   ]
  },
  {
   "cell_type": "code",
   "execution_count": 12,
   "id": "dad8ba8c",
   "metadata": {},
   "outputs": [
    {
     "data": {
      "text/plain": [
       "list"
      ]
     },
     "execution_count": 12,
     "metadata": {},
     "output_type": "execute_result"
    }
   ],
   "source": [
    "type(list3)"
   ]
  },
  {
   "cell_type": "code",
   "execution_count": 15,
   "id": "2086e748",
   "metadata": {},
   "outputs": [
    {
     "ename": "TypeError",
     "evalue": "'>' not supported between instances of 'str' and 'int'",
     "output_type": "error",
     "traceback": [
      "\u001b[1;31m---------------------------------------------------------------------------\u001b[0m",
      "\u001b[1;31mTypeError\u001b[0m                                 Traceback (most recent call last)",
      "Cell \u001b[1;32mIn[15], line 3\u001b[0m\n\u001b[0;32m      1\u001b[0m \u001b[38;5;28mmax\u001b[39m(list1)\n\u001b[0;32m      2\u001b[0m \u001b[38;5;28mmax\u001b[39m(list2)\n\u001b[1;32m----> 3\u001b[0m \u001b[38;5;28mmax\u001b[39m(list3)\n",
      "\u001b[1;31mTypeError\u001b[0m: '>' not supported between instances of 'str' and 'int'"
     ]
    }
   ],
   "source": [
    "max(list1)   #4\n",
    "max(list2)   #D\n",
    "max(list3)     # error we cant compare different data types"
   ]
  },
  {
   "cell_type": "code",
   "execution_count": 6,
   "id": "e20c6e32",
   "metadata": {},
   "outputs": [
    {
     "data": {
      "text/plain": [
       "1"
      ]
     },
     "execution_count": 6,
     "metadata": {},
     "output_type": "execute_result"
    }
   ],
   "source": [
    "min(list1)"
   ]
  },
  {
   "cell_type": "code",
   "execution_count": 18,
   "id": "e87aa4eb",
   "metadata": {},
   "outputs": [
    {
     "data": {
      "text/plain": [
       "'A'"
      ]
     },
     "execution_count": 18,
     "metadata": {},
     "output_type": "execute_result"
    }
   ],
   "source": [
    "min(list2)"
   ]
  },
  {
   "cell_type": "code",
   "execution_count": 19,
   "id": "0d50cfb3",
   "metadata": {},
   "outputs": [
    {
     "data": {
      "text/plain": [
       "4"
      ]
     },
     "execution_count": 19,
     "metadata": {},
     "output_type": "execute_result"
    }
   ],
   "source": [
    "len(list1)"
   ]
  },
  {
   "cell_type": "code",
   "execution_count": 20,
   "id": "9d67a72a",
   "metadata": {},
   "outputs": [
    {
     "data": {
      "text/plain": [
       "4"
      ]
     },
     "execution_count": 20,
     "metadata": {},
     "output_type": "execute_result"
    }
   ],
   "source": [
    "len(list2)"
   ]
  },
  {
   "cell_type": "code",
   "execution_count": 21,
   "id": "8bba0977",
   "metadata": {},
   "outputs": [
    {
     "data": {
      "text/plain": [
       "8"
      ]
     },
     "execution_count": 21,
     "metadata": {},
     "output_type": "execute_result"
    }
   ],
   "source": [
    "len(list3)"
   ]
  },
  {
   "cell_type": "code",
   "execution_count": 24,
   "id": "2f94dd62",
   "metadata": {},
   "outputs": [
    {
     "data": {
      "text/plain": [
       "10"
      ]
     },
     "execution_count": 24,
     "metadata": {},
     "output_type": "execute_result"
    }
   ],
   "source": [
    "sum(list1)"
   ]
  },
  {
   "cell_type": "code",
   "execution_count": 25,
   "id": "623638cb",
   "metadata": {},
   "outputs": [
    {
     "ename": "TypeError",
     "evalue": "unsupported operand type(s) for +: 'int' and 'str'",
     "output_type": "error",
     "traceback": [
      "\u001b[1;31m---------------------------------------------------------------------------\u001b[0m",
      "\u001b[1;31mTypeError\u001b[0m                                 Traceback (most recent call last)",
      "Cell \u001b[1;32mIn[25], line 1\u001b[0m\n\u001b[1;32m----> 1\u001b[0m \u001b[38;5;28msum\u001b[39m(list3)\n",
      "\u001b[1;31mTypeError\u001b[0m: unsupported operand type(s) for +: 'int' and 'str'"
     ]
    }
   ],
   "source": [
    "sum(list3)"
   ]
  },
  {
   "cell_type": "markdown",
   "id": "8d6db154",
   "metadata": {},
   "source": [
    "$in$"
   ]
  },
  {
   "cell_type": "code",
   "execution_count": 26,
   "id": "3780030f",
   "metadata": {},
   "outputs": [
    {
     "data": {
      "text/plain": [
       "[1, 2, 3, 4]"
      ]
     },
     "execution_count": 26,
     "metadata": {},
     "output_type": "execute_result"
    }
   ],
   "source": [
    "list1"
   ]
  },
  {
   "cell_type": "code",
   "execution_count": 31,
   "id": "10843f9a",
   "metadata": {},
   "outputs": [
    {
     "name": "stdout",
     "output_type": "stream",
     "text": [
      "1\n",
      "2\n",
      "3\n",
      "4\n"
     ]
    }
   ],
   "source": [
    "1 in list1\n",
    "2 in list1\n",
    "3 in list1\n",
    "4 in list1\n",
    "for i in list1:\n",
    "    print(i)"
   ]
  },
  {
   "cell_type": "code",
   "execution_count": 32,
   "id": "08bdbef7",
   "metadata": {},
   "outputs": [
    {
     "name": "stdout",
     "output_type": "stream",
     "text": [
      "[1, 2, 3, 4, 'A', 'B', 'C', 'D']\n",
      "['A', 'B', 'C', 'D', 1, 2, 3, 4]\n"
     ]
    }
   ],
   "source": [
    "print(list1+list2)\n",
    "print(list2+list1)"
   ]
  },
  {
   "cell_type": "code",
   "execution_count": 34,
   "id": "eec2b902",
   "metadata": {},
   "outputs": [
    {
     "data": {
      "text/plain": [
       "[1, 2, 3, 4, 1, 2, 3, 4, 1, 2, 3, 4]"
      ]
     },
     "execution_count": 34,
     "metadata": {},
     "output_type": "execute_result"
    }
   ],
   "source": [
    "list1*3"
   ]
  },
  {
   "cell_type": "code",
   "execution_count": 35,
   "id": "1c51c204",
   "metadata": {},
   "outputs": [
    {
     "ename": "TypeError",
     "evalue": "unsupported operand type(s) for -: 'list' and 'list'",
     "output_type": "error",
     "traceback": [
      "\u001b[1;31m---------------------------------------------------------------------------\u001b[0m",
      "\u001b[1;31mTypeError\u001b[0m                                 Traceback (most recent call last)",
      "Cell \u001b[1;32mIn[35], line 1\u001b[0m\n\u001b[1;32m----> 1\u001b[0m list1\u001b[38;5;241m-\u001b[39mlist2\n",
      "\u001b[1;31mTypeError\u001b[0m: unsupported operand type(s) for -: 'list' and 'list'"
     ]
    }
   ],
   "source": [
    "list1-list2     #fail \n",
    "list1*list2     #fail\n",
    "list1/list2     #fail"
   ]
  },
  {
   "cell_type": "markdown",
   "id": "f41566c9",
   "metadata": {},
   "source": [
    "$index$"
   ]
  },
  {
   "cell_type": "code",
   "execution_count": 36,
   "id": "fe7480d0",
   "metadata": {},
   "outputs": [
    {
     "data": {
      "text/plain": [
       "[1, 2, 3, 4, 'A', 'B', 'C', 'D']"
      ]
     },
     "execution_count": 36,
     "metadata": {},
     "output_type": "execute_result"
    }
   ],
   "source": [
    "list3"
   ]
  },
  {
   "cell_type": "code",
   "execution_count": 38,
   "id": "715f3f93",
   "metadata": {},
   "outputs": [
    {
     "data": {
      "text/plain": [
       "(1, 2, 3, 4)"
      ]
     },
     "execution_count": 38,
     "metadata": {},
     "output_type": "execute_result"
    }
   ],
   "source": [
    "#python index start with zero\n",
    "list3[0],list3[1],list3[2],list3[3]"
   ]
  },
  {
   "cell_type": "code",
   "execution_count": 41,
   "id": "be6f718b",
   "metadata": {},
   "outputs": [
    {
     "name": "stdout",
     "output_type": "stream",
     "text": [
      "0 1\n",
      "1 2\n",
      "2 3\n",
      "3 4\n",
      "4 A\n",
      "5 B\n",
      "6 C\n",
      "7 D\n"
     ]
    }
   ],
   "source": [
    "for i in range(len(list3)):\n",
    "    print(i,list3[i])"
   ]
  },
  {
   "cell_type": "code",
   "execution_count": 42,
   "id": "46c762aa",
   "metadata": {},
   "outputs": [
    {
     "data": {
      "text/plain": [
       "'D'"
      ]
     },
     "execution_count": 42,
     "metadata": {},
     "output_type": "execute_result"
    }
   ],
   "source": [
    "list3[-1]\n",
    "-7\n",
    "1 2 3 4 a b c d\n",
    "0 1 2 3 4 5 6 7"
   ]
  },
  {
   "cell_type": "code",
   "execution_count": null,
   "id": "1507129c",
   "metadata": {},
   "outputs": [],
   "source": [
    "for i in range(len(list3)):\n",
    "    print('postive index is:{} and negative index is{}: for an element{}',format(i,i-1(len(string))))"
   ]
  },
  {
   "cell_type": "code",
   "execution_count": 45,
   "id": "27ef52ec",
   "metadata": {},
   "outputs": [
    {
     "name": "stdout",
     "output_type": "stream",
     "text": [
      "Ab\n",
      "Cd\n",
      "Ef\n"
     ]
    }
   ],
   "source": [
    "#wap find the elements which are having len3\n",
    "#list=['apple,'ball','cat','Ab','Cd','Ef']\n",
    "\n",
    "#step-1: literate the list using for loop\n",
    "#step-2: apply the if condition len(<element>)<3:\n",
    "#step-3: print(element)\n",
    "\n",
    "list1=['apple','ball','cat','Ab','Cd','Ef']\n",
    "for i in range(len(list1)):\n",
    "    if len(list1[i])<3:\n",
    "        print(list1[i])\n"
   ]
  },
  {
   "cell_type": "code",
   "execution_count": 50,
   "id": "57be8b63",
   "metadata": {},
   "outputs": [
    {
     "name": "stdout",
     "output_type": "stream",
     "text": [
      "app#e\n",
      "b#ll\n",
      "c#t\n"
     ]
    }
   ],
   "source": [
    "#wap find the elements which are having len#\n",
    "#list=['app#e,'b#ll','c#t','Ab','Cd','Ef']\n",
    "\n",
    "list1=['app#e','b#ll','c#t','Ab','Cd','Ef']\n",
    "for i in list1:\n",
    "    if '#' in i:\n",
    "        print(i)\n"
   ]
  },
  {
   "cell_type": "code",
   "execution_count": 51,
   "id": "28f8ced3",
   "metadata": {},
   "outputs": [
    {
     "name": "stdout",
     "output_type": "stream",
     "text": [
      "3\n"
     ]
    }
   ],
   "source": [
    "count=0\n",
    "list1=['app#e','b#ll','c#t','Ab','Cd','Ef']\n",
    "for i in list1:\n",
    "    if '#' in i:\n",
    "        count=count+1\n",
    "        \n",
    "print(count)\n"
   ]
  },
  {
   "cell_type": "code",
   "execution_count": 57,
   "id": "7825b11a",
   "metadata": {},
   "outputs": [
    {
     "data": {
      "text/plain": [
       "'ball'"
      ]
     },
     "execution_count": 57,
     "metadata": {},
     "output_type": "execute_result"
    }
   ],
   "source": [
    "list1=[1,2,3,['apple','ball']]\n",
    "list1[3][1]"
   ]
  },
  {
   "cell_type": "code",
   "execution_count": 61,
   "id": "9468cf1c",
   "metadata": {},
   "outputs": [
    {
     "data": {
      "text/plain": [
       "'cherry'"
      ]
     },
     "execution_count": 61,
     "metadata": {},
     "output_type": "execute_result"
    }
   ],
   "source": [
    "list2=[[[[[[['cherry']]]]]]]\n",
    "list2[0][0][0][0][0][0][0]\n"
   ]
  },
  {
   "cell_type": "code",
   "execution_count": 65,
   "id": "bc67cbfa",
   "metadata": {},
   "outputs": [
    {
     "data": {
      "text/plain": [
       "'car'"
      ]
     },
     "execution_count": 65,
     "metadata": {},
     "output_type": "execute_result"
    }
   ],
   "source": [
    "lit3=[[[['a','b',[[[1,2,3,['car']]]]]]]]\n",
    "#retrive the car\n",
    "lit3[0][0][0][2][0][0][3][0]"
   ]
  },
  {
   "cell_type": "markdown",
   "id": "4b8eac0e",
   "metadata": {},
   "source": [
    "$mutable$"
   ]
  },
  {
   "cell_type": "code",
   "execution_count": 66,
   "id": "9bc7c6b9",
   "metadata": {},
   "outputs": [],
   "source": [
    "list1='welcome'\n",
    "list[1]='L'\n"
   ]
  },
  {
   "cell_type": "code",
   "execution_count": 67,
   "id": "ea7a76cb",
   "metadata": {},
   "outputs": [
    {
     "data": {
      "text/plain": [
       "[100, 'B', 'C']"
      ]
     },
     "execution_count": 67,
     "metadata": {},
     "output_type": "execute_result"
    }
   ],
   "source": [
    "list1=['A','B','C']\n",
    "list1[0]=100\n",
    "list1"
   ]
  },
  {
   "cell_type": "markdown",
   "id": "6101a133",
   "metadata": {},
   "source": [
    "$slice$"
   ]
  },
  {
   "cell_type": "code",
   "execution_count": 7,
   "id": "ff1ab693",
   "metadata": {},
   "outputs": [
    {
     "name": "stdout",
     "output_type": "stream",
     "text": [
      "[30, 'p', 'H', 'a']\n",
      "[]\n",
      "[]\n",
      "[30]\n",
      "['c']\n",
      "[]\n",
      "['c', 'N', 'T', 50]\n",
      "[]\n"
     ]
    }
   ],
   "source": [
    "list1=[10,20,30,40,50,'p','y','T','H','O','N','a','b','c','D']\n",
    "\n",
    "print(list1[2:14:3])\n",
    "print(list1[2:14:-3])\n",
    "print(list1[2:-14:3])\n",
    "print(list1[2:-14:-3])\n",
    "print(list1[-2:14:3])\n",
    "print(list1[-2:-14:3])\n",
    "print(list1[-2:-14:-3])\n",
    "print(list1[-2:14:-3])\n"
   ]
  },
  {
   "cell_type": "code",
   "execution_count": 71,
   "id": "db700c9a",
   "metadata": {},
   "outputs": [
    {
     "data": {
      "text/plain": [
       "['__add__',\n",
       " '__class__',\n",
       " '__class_getitem__',\n",
       " '__contains__',\n",
       " '__delattr__',\n",
       " '__delitem__',\n",
       " '__dir__',\n",
       " '__doc__',\n",
       " '__eq__',\n",
       " '__format__',\n",
       " '__ge__',\n",
       " '__getattribute__',\n",
       " '__getitem__',\n",
       " '__getstate__',\n",
       " '__gt__',\n",
       " '__hash__',\n",
       " '__iadd__',\n",
       " '__imul__',\n",
       " '__init__',\n",
       " '__init_subclass__',\n",
       " '__iter__',\n",
       " '__le__',\n",
       " '__len__',\n",
       " '__lt__',\n",
       " '__mul__',\n",
       " '__ne__',\n",
       " '__new__',\n",
       " '__reduce__',\n",
       " '__reduce_ex__',\n",
       " '__repr__',\n",
       " '__reversed__',\n",
       " '__rmul__',\n",
       " '__setattr__',\n",
       " '__setitem__',\n",
       " '__sizeof__',\n",
       " '__str__',\n",
       " '__subclasshook__',\n",
       " 'append',\n",
       " 'clear',\n",
       " 'copy',\n",
       " 'count',\n",
       " 'extend',\n",
       " 'index',\n",
       " 'insert',\n",
       " 'pop',\n",
       " 'remove',\n",
       " 'reverse',\n",
       " 'sort']"
      ]
     },
     "execution_count": 71,
     "metadata": {},
     "output_type": "execute_result"
    }
   ],
   "source": [
    "dir([])"
   ]
  },
  {
   "cell_type": "markdown",
   "id": "54a609d4",
   "metadata": {},
   "source": [
    "$clear-copy$"
   ]
  },
  {
   "cell_type": "code",
   "execution_count": 72,
   "id": "43901fd5",
   "metadata": {},
   "outputs": [
    {
     "data": {
      "text/plain": [
       "[1, 2, 3, 4]"
      ]
     },
     "execution_count": 72,
     "metadata": {},
     "output_type": "execute_result"
    }
   ],
   "source": [
    "list1=[1,2,3,4]\n",
    "# i want copy these elements in a list2\n",
    "list2=list1.copy()\n",
    "list2"
   ]
  },
  {
   "cell_type": "code",
   "execution_count": 74,
   "id": "8ddd8102",
   "metadata": {},
   "outputs": [
    {
     "name": "stdout",
     "output_type": "stream",
     "text": [
      "list1 []\n",
      "list2 [1, 2, 3, 4]\n"
     ]
    }
   ],
   "source": [
    "list1=[1,2,3,4]\n",
    "# i want copy these elements in a list2\n",
    "list2=list1.copy()\n",
    "\n",
    "\n",
    "list1.clear()\n",
    "\n",
    "print('list1',list1)    #[]\n",
    "print('list2',list2)    #[1,2,3,4]"
   ]
  },
  {
   "cell_type": "markdown",
   "id": "96aed2ac",
   "metadata": {},
   "source": [
    "17-11-2023"
   ]
  },
  {
   "cell_type": "markdown",
   "id": "bd9604dd",
   "metadata": {},
   "source": [
    "$append$"
   ]
  },
  {
   "cell_type": "code",
   "execution_count": 1,
   "id": "855c1cd2",
   "metadata": {},
   "outputs": [
    {
     "data": {
      "text/plain": [
       "[100, 200, 300]"
      ]
     },
     "execution_count": 1,
     "metadata": {},
     "output_type": "execute_result"
    }
   ],
   "source": [
    "# add(some thing) to the end of a written document\n",
    "\n",
    "list1=[100,200]\n",
    "#[100,200,300]\n",
    "list1.append(300)\n",
    "list1"
   ]
  },
  {
   "cell_type": "code",
   "execution_count": 7,
   "id": "f9d1854c",
   "metadata": {},
   "outputs": [
    {
     "data": {
      "text/plain": [
       "[100, 200, 30]"
      ]
     },
     "execution_count": 7,
     "metadata": {},
     "output_type": "execute_result"
    }
   ],
   "source": [
    "list2=[]\n",
    "list2.append(100)\n",
    "list2.append(200)\n",
    "list2.append(30)\n",
    "list2"
   ]
  },
  {
   "cell_type": "code",
   "execution_count": 9,
   "id": "25859da8",
   "metadata": {},
   "outputs": [],
   "source": [
    "list1.append([20,30])"
   ]
  },
  {
   "cell_type": "code",
   "execution_count": 10,
   "id": "32f86f8c",
   "metadata": {},
   "outputs": [
    {
     "data": {
      "text/plain": [
       "[100, 200, 300, [20, 30]]"
      ]
     },
     "execution_count": 10,
     "metadata": {},
     "output_type": "execute_result"
    }
   ],
   "source": [
    "list1"
   ]
  },
  {
   "cell_type": "code",
   "execution_count": 11,
   "id": "e55dcf23",
   "metadata": {},
   "outputs": [
    {
     "name": "stdout",
     "output_type": "stream",
     "text": [
      "1\n",
      "4\n",
      "9\n",
      "16\n",
      "25\n"
     ]
    }
   ],
   "source": [
    "# Input list=[1,2,3,4,5]\n",
    "#create a new list=[1,4,9,16,25]\n",
    "\n",
    "list1=[1,2,3,4,5]\n",
    "for i in list1:\n",
    "    print(i*i)\n",
    "    "
   ]
  },
  {
   "cell_type": "code",
   "execution_count": 10,
   "id": "22da8370",
   "metadata": {},
   "outputs": [
    {
     "data": {
      "text/plain": [
       "[1, 4, 9, 16, 25]"
      ]
     },
     "execution_count": 10,
     "metadata": {},
     "output_type": "execute_result"
    }
   ],
   "source": [
    "list1=[1,2,3,4,5]                    #important\n",
    "output=[]\n",
    "for i in list1:\n",
    "    output.append(i*i)\n",
    "    \n",
    "output"
   ]
  },
  {
   "cell_type": "code",
   "execution_count": 20,
   "id": "187bd573",
   "metadata": {},
   "outputs": [
    {
     "data": {
      "text/plain": [
       "['Hyd', 'Bengaluru', 'Delhi']"
      ]
     },
     "execution_count": 20,
     "metadata": {},
     "output_type": "execute_result"
    }
   ],
   "source": [
    "list2=['hyd','bengaluru','delhi']\n",
    "output=[]\n",
    "for i in list2:\n",
    " #    list2[i].capitalize()\n",
    "        output.append(i.capitalize())\n",
    "    \n",
    "output"
   ]
  },
  {
   "cell_type": "code",
   "execution_count": 1,
   "id": "f40af5cc",
   "metadata": {},
   "outputs": [
    {
     "data": {
      "text/plain": [
       "['h#d', 'beng#luru']"
      ]
     },
     "execution_count": 1,
     "metadata": {},
     "output_type": "execute_result"
    }
   ],
   "source": [
    "list3=['h#d','beng#luru','delhi']\n",
    "output=[]\n",
    "for i in list3:\n",
    "    if '#' in i:\n",
    "        output.append(i)\n",
    "        \n",
    "output "
   ]
  },
  {
   "cell_type": "markdown",
   "id": "25184641",
   "metadata": {},
   "source": [
    "**list comprehenshion**"
   ]
  },
  {
   "cell_type": "code",
   "execution_count": 11,
   "id": "bc946023",
   "metadata": {},
   "outputs": [
    {
     "data": {
      "text/plain": [
       "[1, 4, 9, 16, 25]"
      ]
     },
     "execution_count": 11,
     "metadata": {},
     "output_type": "execute_result"
    }
   ],
   "source": [
    "#code in a single line====>speed the process\n",
    "output1=[1,2,3,4,5]\n",
    "output1=[i*i for i in list1]\n",
    "output1"
   ]
  },
  {
   "cell_type": "code",
   "execution_count": 27,
   "id": "c189685b",
   "metadata": {},
   "outputs": [
    {
     "data": {
      "text/plain": [
       "['Hyd', 'Bengaluru', 'Delhi']"
      ]
     },
     "execution_count": 27,
     "metadata": {},
     "output_type": "execute_result"
    }
   ],
   "source": [
    "list2=['hyd','bengaluru','delhi']\n",
    "output1=[i.capitalize() for i in list2]\n",
    "output1"
   ]
  },
  {
   "cell_type": "code",
   "execution_count": 32,
   "id": "78513b22",
   "metadata": {},
   "outputs": [
    {
     "data": {
      "text/plain": [
       "[0, 1, 2, 3, 4, 5, 6, 7, 8, 9, 10, 11, 12, 13, 14, 15, 16, 17, 18, 19, 20]"
      ]
     },
     "execution_count": 32,
     "metadata": {},
     "output_type": "execute_result"
    }
   ],
   "source": [
    "#create the list of 20 numbers from 1 to 20\n",
    "###########################1 method####################\n",
    "for i in range(21):\n",
    "    print(i)\n",
    "    \n",
    " ##########################2 method##########################   \n",
    "    \n",
    "number=[]\n",
    "for i in range(21):\n",
    "    number.append(i)\n",
    "    \n",
    "number\n",
    "#####################3method#######################\n",
    "number1=[i for i in range(21)]\n",
    "number1"
   ]
  },
  {
   "cell_type": "code",
   "execution_count": 52,
   "id": "e500e74f",
   "metadata": {},
   "outputs": [
    {
     "data": {
      "text/plain": [
       "['hd#', 'beng#luru']"
      ]
     },
     "execution_count": 52,
     "metadata": {},
     "output_type": "execute_result"
    }
   ],
   "source": [
    "#list comprehension with if condition\n",
    "\n",
    "list2=['hd#','beng#luru','delhi']\n",
    "output=[]\n",
    "for i in list2:\n",
    "    if '#' in i:\n",
    "        output.append(i)\n",
    "output\n",
    "\n",
    "output1=[i for i in list2 if '#' in i]\n",
    "output1"
   ]
  },
  {
   "cell_type": "code",
   "execution_count": 48,
   "id": "22dcf75b",
   "metadata": {},
   "outputs": [
    {
     "name": "stdout",
     "output_type": "stream",
     "text": [
      "['hd#', 'beng#luru']\n",
      "['hd#', 'beng#luru']\n"
     ]
    }
   ],
   "source": [
    "list2=['hd#','beng#luru','delhi']\n",
    "output=[]\n",
    "for i in list2:\n",
    "    if '#' in i:\n",
    "        output.append(i)\n",
    "print(output)\n",
    "output1=[i for i in list2 if '#' in i]\n",
    "print(output1)"
   ]
  },
  {
   "cell_type": "code",
   "execution_count": 34,
   "id": "d5dcba44",
   "metadata": {},
   "outputs": [
    {
     "data": {
      "text/plain": [
       "['ac', 'a']"
      ]
     },
     "execution_count": 34,
     "metadata": {},
     "output_type": "execute_result"
    }
   ],
   "source": [
    "list4=['abcd','abc','ac','a']\n",
    "#elements less than 3\n",
    "#['ac','a']\n",
    "\n",
    "output=[i for i in list4 if len(i)<3]\n",
    "output"
   ]
  },
  {
   "cell_type": "code",
   "execution_count": 35,
   "id": "73c5a221",
   "metadata": {},
   "outputs": [
    {
     "data": {
      "text/plain": [
       "['odd 1:', 'even2:', 'odd 3:', 'even4:', 'odd 5:', 'even6:']"
      ]
     },
     "execution_count": 35,
     "metadata": {},
     "output_type": "execute_result"
    }
   ],
   "source": [
    "list1=[1,2,3,4,5,6]\n",
    "output=[]\n",
    "for i in list1:\n",
    "    if i%2==0:\n",
    "        output.append('even{}:'.format(i))\n",
    "        \n",
    "    else:\n",
    "        output.append('odd {}:'.format(i))\n",
    "output"
   ]
  },
  {
   "cell_type": "code",
   "execution_count": 39,
   "id": "68fd3c6e",
   "metadata": {},
   "outputs": [
    {
     "data": {
      "text/plain": [
       "['odd:1', 'even:2', 'odd:3', 'even:4', 'odd:5', 'even:6']"
      ]
     },
     "execution_count": 39,
     "metadata": {},
     "output_type": "execute_result"
    }
   ],
   "source": [
    "output=['even:{}'.format(i) if i%2==0  else 'odd:{}'.format(i) for i in list1 ]\n",
    "output"
   ]
  },
  {
   "cell_type": "code",
   "execution_count": 40,
   "id": "df66a97e",
   "metadata": {},
   "outputs": [
    {
     "data": {
      "text/plain": [
       "3"
      ]
     },
     "execution_count": 40,
     "metadata": {},
     "output_type": "execute_result"
    }
   ],
   "source": [
    "list1=[1,2,3,'A','B','B','B','C']\n",
    "list1.count('B')"
   ]
  },
  {
   "cell_type": "code",
   "execution_count": 41,
   "id": "7ef2bda8",
   "metadata": {},
   "outputs": [
    {
     "name": "stdout",
     "output_type": "stream",
     "text": [
      "3\n"
     ]
    }
   ],
   "source": [
    "count=0\n",
    "for i in list1:\n",
    "    if i=='B':\n",
    "        count=count+1\n",
    "        \n",
    "print(count)"
   ]
  },
  {
   "cell_type": "markdown",
   "id": "ba4287cf",
   "metadata": {},
   "source": [
    "$extend$"
   ]
  },
  {
   "cell_type": "code",
   "execution_count": 43,
   "id": "a4c9aa89",
   "metadata": {},
   "outputs": [
    {
     "data": {
      "text/plain": [
       "['A', 'B', 'C', [1, 2, 3]]"
      ]
     },
     "execution_count": 43,
     "metadata": {},
     "output_type": "execute_result"
    }
   ],
   "source": [
    "list1=['A','B','C']\n",
    "list2=[1,2,3]\n",
    "\n",
    "list1.append(list2)\n",
    "list1\n",
    "#here the list1 will be updated with list2 values"
   ]
  },
  {
   "cell_type": "markdown",
   "id": "4c2beb2c",
   "metadata": {},
   "source": [
    "- append will add the element at least,that element can be any type\n",
    "- list1=[1,2,3]\n",
    "- list2=['A','B','C']\n",
    "- list1.append(list2)=[1,2,3['A','B','C']\n",
    "                      \n",
    "- extend will update the list by adding new elements,the result also save in a same list\n",
    "-  concat will add two list, but the result will "
   ]
  },
  {
   "cell_type": "markdown",
   "id": "e05a8d36",
   "metadata": {},
   "source": [
    "$ilerator$"
   ]
  },
  {
   "cell_type": "code",
   "execution_count": null,
   "id": "409ee76a",
   "metadata": {},
   "outputs": [],
   "source": [
    "- iterator word====> loop\n",
    "- the elements we can print using for loop\n",
    "- string='python' we can print each letter using for loop\n",
    "-  list1=[1,2,3] we can print each element using for loop"
   ]
  },
  {
   "cell_type": "code",
   "execution_count": 44,
   "id": "0f6d014d",
   "metadata": {},
   "outputs": [
    {
     "name": "stdout",
     "output_type": "stream",
     "text": [
      "n\n",
      "o\n",
      "h\n",
      "t\n",
      "y\n",
      "p\n"
     ]
    }
   ],
   "source": [
    "val=reversed('python')\n",
    "for i in val:\n",
    "    print(i)"
   ]
  },
  {
   "cell_type": "code",
   "execution_count": 45,
   "id": "01b1082d",
   "metadata": {},
   "outputs": [
    {
     "data": {
      "text/plain": [
       "[1, 2, 3, 'p', 'y', 't', 'h', 'o', 'n', 'python']"
      ]
     },
     "execution_count": 45,
     "metadata": {},
     "output_type": "execute_result"
    }
   ],
   "source": [
    "list1=[1,2,3]\n",
    "list1.extend('python')\n",
    "list1.append('python')\n",
    "list1"
   ]
  },
  {
   "cell_type": "markdown",
   "id": "669e2282",
   "metadata": {},
   "source": [
    "*pop-remove-del**"
   ]
  },
  {
   "cell_type": "code",
   "execution_count": 46,
   "id": "259e773a",
   "metadata": {},
   "outputs": [
    {
     "data": {
      "text/plain": [
       "[1, 2, 3, 'p', 'y', 't', 'h', 'o', 'n', 'python']"
      ]
     },
     "execution_count": 46,
     "metadata": {},
     "output_type": "execute_result"
    }
   ],
   "source": [
    "list1"
   ]
  },
  {
   "cell_type": "code",
   "execution_count": 48,
   "id": "323f3821",
   "metadata": {},
   "outputs": [
    {
     "data": {
      "text/plain": [
       "'python'"
      ]
     },
     "execution_count": 48,
     "metadata": {},
     "output_type": "execute_result"
    }
   ],
   "source": [
    "list1.pop()\n",
    "\n",
    "# in side bracket default argument is there,index=-1\n",
    "#-1 means last value\n",
    "#if you not provide any value\n",
    "#if will remove last value\n",
    "#if i provide any index, it will remove that element\n",
    "# it  is also returing,which element it is removing"
   ]
  },
  {
   "cell_type": "code",
   "execution_count": 49,
   "id": "fa77523a",
   "metadata": {},
   "outputs": [
    {
     "ename": "IndexError",
     "evalue": "pop index out of range",
     "output_type": "error",
     "traceback": [
      "\u001b[1;31m---------------------------------------------------------------------------\u001b[0m",
      "\u001b[1;31mIndexError\u001b[0m                                Traceback (most recent call last)",
      "Cell \u001b[1;32mIn[49], line 1\u001b[0m\n\u001b[1;32m----> 1\u001b[0m list1\u001b[38;5;241m.\u001b[39mpop(\u001b[38;5;241m100\u001b[39m)\n",
      "\u001b[1;31mIndexError\u001b[0m: pop index out of range"
     ]
    }
   ],
   "source": [
    "list1.pop(100)"
   ]
  },
  {
   "cell_type": "code",
   "execution_count": 50,
   "id": "eb729491",
   "metadata": {},
   "outputs": [
    {
     "data": {
      "text/plain": [
       "[200, 100, 300]"
      ]
     },
     "execution_count": 50,
     "metadata": {},
     "output_type": "execute_result"
    }
   ],
   "source": [
    "list1=[100,200,100,300]\n",
    "list1.remove(100)\n",
    "list1"
   ]
  },
  {
   "cell_type": "code",
   "execution_count": 51,
   "id": "97b79c67",
   "metadata": {},
   "outputs": [],
   "source": [
    "del(list1)"
   ]
  },
  {
   "cell_type": "code",
   "execution_count": 52,
   "id": "ddf3f979",
   "metadata": {},
   "outputs": [
    {
     "ename": "NameError",
     "evalue": "name 'list1' is not defined",
     "output_type": "error",
     "traceback": [
      "\u001b[1;31m---------------------------------------------------------------------------\u001b[0m",
      "\u001b[1;31mNameError\u001b[0m                                 Traceback (most recent call last)",
      "Cell \u001b[1;32mIn[52], line 1\u001b[0m\n\u001b[1;32m----> 1\u001b[0m list1\n",
      "\u001b[1;31mNameError\u001b[0m: name 'list1' is not defined"
     ]
    }
   ],
   "source": [
    "list1"
   ]
  },
  {
   "cell_type": "code",
   "execution_count": 53,
   "id": "96ba3742",
   "metadata": {},
   "outputs": [
    {
     "data": {
      "text/plain": [
       "[100, 200, 300]"
      ]
     },
     "execution_count": 53,
     "metadata": {},
     "output_type": "execute_result"
    }
   ],
   "source": [
    "list1=[100,200,100,300]\n",
    "del list1[2]\n",
    "list1"
   ]
  },
  {
   "cell_type": "code",
   "execution_count": null,
   "id": "0064d071",
   "metadata": {},
   "outputs": [],
   "source": [
    "-index    vs m\n",
    "-insert   vs append\n",
    "-reverse  ascending and descending=======reversed\n",
    "-sort  =======sorted\n",
    "-difference between reverse and sort"
   ]
  },
  {
   "cell_type": "code",
   "execution_count": 63,
   "id": "ef49b7d6",
   "metadata": {},
   "outputs": [
    {
     "data": {
      "text/plain": [
       "3"
      ]
     },
     "execution_count": 63,
     "metadata": {},
     "output_type": "execute_result"
    }
   ],
   "source": [
    "list1=[100,200,100,300]\n",
    "list1.index(300)"
   ]
  },
  {
   "cell_type": "code",
   "execution_count": 60,
   "id": "866b2309",
   "metadata": {},
   "outputs": [],
   "source": [
    "list1=[100,200,100,300]\n",
    "list1.insert(300,100)"
   ]
  },
  {
   "cell_type": "code",
   "execution_count": 1,
   "id": "bde7e3a5",
   "metadata": {},
   "outputs": [
    {
     "ename": "AttributeError",
     "evalue": "'list' object has no attribute 'reversed'",
     "output_type": "error",
     "traceback": [
      "\u001b[1;31m---------------------------------------------------------------------------\u001b[0m",
      "\u001b[1;31mAttributeError\u001b[0m                            Traceback (most recent call last)",
      "Cell \u001b[1;32mIn[1], line 2\u001b[0m\n\u001b[0;32m      1\u001b[0m list1\u001b[38;5;241m=\u001b[39m[\u001b[38;5;241m100\u001b[39m,\u001b[38;5;241m200\u001b[39m,\u001b[38;5;241m100\u001b[39m,\u001b[38;5;241m300\u001b[39m]\n\u001b[1;32m----> 2\u001b[0m list1\u001b[38;5;241m.\u001b[39mreversed()\n",
      "\u001b[1;31mAttributeError\u001b[0m: 'list' object has no attribute 'reversed'"
     ]
    }
   ],
   "source": [
    "list1=[100,200,100,300]\n",
    "list1.reversed()"
   ]
  },
  {
   "cell_type": "markdown",
   "id": "63576f1b",
   "metadata": {},
   "source": [
    "$zip$"
   ]
  },
  {
   "cell_type": "code",
   "execution_count": 65,
   "id": "a7bb9659",
   "metadata": {},
   "outputs": [
    {
     "name": "stdout",
     "output_type": "stream",
     "text": [
      "Ram age is25\n",
      "Robert age is30\n",
      "raheem age is35\n"
     ]
    }
   ],
   "source": [
    "list1=['Ram','Robert','raheem']\n",
    "list2=[25,30,35]\n",
    "for i,j in  zip(list1,list2):\n",
    "    print('{} age is{}'.format(i,j))\n",
    "          "
   ]
  },
  {
   "cell_type": "code",
   "execution_count": 69,
   "id": "f5bb430d",
   "metadata": {},
   "outputs": [
    {
     "name": "stdout",
     "output_type": "stream",
     "text": [
      "add 125\n",
      "add 230\n",
      "add 335\n"
     ]
    }
   ],
   "source": [
    "list1=[100,200,300]\n",
    "list2=[25,30,35]\n",
    "for i,j in zip(list1,list2):\n",
    "    print('add {}'.format(i+j))"
   ]
  },
  {
   "cell_type": "code",
   "execution_count": 70,
   "id": "49c41dc8",
   "metadata": {},
   "outputs": [
    {
     "data": {
      "text/plain": [
       "[125, 230, 335]"
      ]
     },
     "execution_count": 70,
     "metadata": {},
     "output_type": "execute_result"
    }
   ],
   "source": [
    "output=[i+j for i,j in zip(list1,list2)]\n",
    "output"
   ]
  },
  {
   "cell_type": "code",
   "execution_count": null,
   "id": "cd29fc99",
   "metadata": {},
   "outputs": [],
   "source": [
    "# take 5 questions in list1\n",
    "#take corresponding 5 answers in another list1\n",
    "#iterate through list1\n",
    "#every question should print\n",
    "#answer =input('tell the answer')\n",
    "#answer will check in list2\n",
    "#if it is there: marsks=marks+1\n",
    "#else: no marks\n",
    "\n",
    "\n",
    "#####################################################\n",
    "#list1=['who is PM of india','what is the capital of india','who is president of india']\n",
    "#list2=['modi','delhi','draupadi']\n",
    "#marks=0\n",
    "# correct_answr=0\n",
    "# for i in range(len(list1)):\n",
    "# print('Q1:'<>)\n",
    "# answer=input(\"enter the answer\")\n",
    "# if answer.lower()==list2.index(i):\n",
    "# marks+=1"
   ]
  },
  {
   "cell_type": "code",
   "execution_count": 25,
   "id": "0dde6a3f",
   "metadata": {},
   "outputs": [
    {
     "name": "stdout",
     "output_type": "stream",
     "text": [
      "Q1: who is PM of india\n",
      "enter the answermodi\n",
      "Q1: what is the capital of india\n",
      "enter the answerfkjj\n",
      "Q1: who is president of india\n",
      "enter the answerjhjfj\n",
      "1\n",
      "0\n"
     ]
    }
   ],
   "source": [
    "list1=['who is PM of india','what is the capital of india','who is president of india']\n",
    "list2=['modi','delhi','draupadi']\n",
    "marks=0\n",
    "correct_answer=0\n",
    "for i in range(len(list1)):\n",
    "    print('Q1:',list1[i])\n",
    "    answer=input(\"enter the answer\")\n",
    "    if answer.lower()==list2[i]:\n",
    "        marks+=1\n",
    "    \n",
    "print(marks)\n",
    "print(correct_answer)"
   ]
  },
  {
   "cell_type": "code",
   "execution_count": 18,
   "id": "3a9adc1b",
   "metadata": {},
   "outputs": [
    {
     "name": "stdout",
     "output_type": "stream",
     "text": [
      "who is PM of indiawhat is the capital of indiawho is president of indiamodi\n"
     ]
    },
    {
     "ename": "AttributeError",
     "evalue": "'list' object has no attribute 'lower'",
     "output_type": "error",
     "traceback": [
      "\u001b[1;31m---------------------------------------------------------------------------\u001b[0m",
      "\u001b[1;31mAttributeError\u001b[0m                            Traceback (most recent call last)",
      "Cell \u001b[1;32mIn[18], line 10\u001b[0m\n\u001b[0;32m      8\u001b[0m \u001b[38;5;28;01mfor\u001b[39;00m i \u001b[38;5;129;01min\u001b[39;00m \u001b[38;5;28mrange\u001b[39m(\u001b[38;5;28mlen\u001b[39m(list1)):\n\u001b[0;32m      9\u001b[0m     answer\u001b[38;5;241m=\u001b[39m\u001b[38;5;28minput\u001b[39m(list1[i])\n\u001b[1;32m---> 10\u001b[0m     \u001b[38;5;28;01mif\u001b[39;00m answer\u001b[38;5;241m.\u001b[39mlower()\u001b[38;5;241m==\u001b[39mlist2\u001b[38;5;241m.\u001b[39mlower():\n\u001b[0;32m     11\u001b[0m         marks\u001b[38;5;241m+\u001b[39m\u001b[38;5;241m=\u001b[39m\u001b[38;5;241m1\u001b[39m\n\u001b[0;32m     12\u001b[0m \u001b[38;5;28mprint\u001b[39m( \u001b[38;5;124m\"\u001b[39m\u001b[38;5;124mcorrect:\u001b[39m\u001b[38;5;124m\"\u001b[39m,marks,\u001b[38;5;124m\"\u001b[39m\u001b[38;5;124mwrong:\u001b[39m\u001b[38;5;124m\"\u001b[39m,{\u001b[38;5;28mlen\u001b[39m(list1)})\n",
      "\u001b[1;31mAttributeError\u001b[0m: 'list' object has no attribute 'lower'"
     ]
    }
   ],
   "source": [
    "list1=['who is PM of india'\n",
    "       'what is the capital of india'\n",
    "       'who is president of india']\n",
    "list2=['Modi',\n",
    "       'Delhi',\n",
    "       'Draupadi']\n",
    "marks=0\n",
    "for i in range(len(list1)):\n",
    "    answer=input(list1[i])\n",
    "    if answer.lower()==list2.lower():\n",
    "        marks+=1\n",
    "print( \"correct:\",marks,\"wrong:\",{len(list1)})\n"
   ]
  },
  {
   "cell_type": "code",
   "execution_count": 41,
   "id": "faf51d70",
   "metadata": {},
   "outputs": [
    {
     "ename": "IndentationError",
     "evalue": "expected an indented block after 'if' statement on line 5 (3863641260.py, line 6)",
     "output_type": "error",
     "traceback": [
      "\u001b[1;36m  Cell \u001b[1;32mIn[41], line 6\u001b[1;36m\u001b[0m\n\u001b[1;33m    output.append(i)\u001b[0m\n\u001b[1;37m    ^\u001b[0m\n\u001b[1;31mIndentationError\u001b[0m\u001b[1;31m:\u001b[0m expected an indented block after 'if' statement on line 5\n"
     ]
    }
   ],
   "source": [
    "list3=['h#d','beng#luru','delhi']\n",
    "# output=['h#d','beng#luru']\n",
    "output=[]\n",
    "for i in list3:\n",
    "    if '#' in i:\n",
    "    output.append(i)\n",
    "output\n",
    "#[<o/p> <forloop> <if_condition>]\n",
    "output1=[i for i in list3 if '#' in i]\n",
    "output1"
   ]
  },
  {
   "cell_type": "markdown",
   "id": "8ed5e76e",
   "metadata": {},
   "source": [
    "18-11-2023"
   ]
  },
  {
   "cell_type": "code",
   "execution_count": 8,
   "id": "68514893",
   "metadata": {},
   "outputs": [
    {
     "name": "stdout",
     "output_type": "stream",
     "text": [
      "the maxmium in the array is: 130\n"
     ]
    }
   ],
   "source": [
    "arr=[100,120,130]\n",
    "#write a program to find the max value without using max method\n",
    "maxmium=0\n",
    "for i in arr:\n",
    "    if i>maxmium:\n",
    "        maxmium=i\n",
    "print('the maxmium in the array is:',maxmium)"
   ]
  },
  {
   "cell_type": "code",
   "execution_count": null,
   "id": "fe86847d",
   "metadata": {},
   "outputs": [],
   "source": [
    "list1=[20,30,50,60,100,90,70,50,30]"
   ]
  }
 ],
 "metadata": {
  "kernelspec": {
   "display_name": "Python 3 (ipykernel)",
   "language": "python",
   "name": "python3"
  },
  "language_info": {
   "codemirror_mode": {
    "name": "ipython",
    "version": 3
   },
   "file_extension": ".py",
   "mimetype": "text/x-python",
   "name": "python",
   "nbconvert_exporter": "python",
   "pygments_lexer": "ipython3",
   "version": "3.11.5"
  }
 },
 "nbformat": 4,
 "nbformat_minor": 5
}
