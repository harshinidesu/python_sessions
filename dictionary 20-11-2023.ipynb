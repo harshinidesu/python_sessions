{
 "cells": [
  {
   "cell_type": "code",
   "execution_count": 1,
   "id": "0355daf0",
   "metadata": {},
   "outputs": [
    {
     "name": "stdout",
     "output_type": "stream",
     "text": [
      "ram 25\n",
      "raheen 30\n",
      "robert 35\n"
     ]
    }
   ],
   "source": [
    "list1=['ram','raheen','robert']\n",
    "list2=[25,30,35]\n",
    "for i,j in zip(list1,list2):\n",
    "    print(i,j)"
   ]
  },
  {
   "cell_type": "code",
   "execution_count": null,
   "id": "c27db127",
   "metadata": {},
   "outputs": [],
   "source": [
    "{key:value}"
   ]
  },
  {
   "cell_type": "code",
   "execution_count": 2,
   "id": "4f836ce7",
   "metadata": {},
   "outputs": [
    {
     "data": {
      "text/plain": [
       "{'ram': 25, 'raheen': 30, 'robert': 35}"
      ]
     },
     "execution_count": 2,
     "metadata": {},
     "output_type": "execute_result"
    }
   ],
   "source": [
    "d1={'ram':25,'raheen':30,'robert':35}\n",
    "d1"
   ]
  },
  {
   "cell_type": "code",
   "execution_count": 3,
   "id": "d6e6bbd5",
   "metadata": {},
   "outputs": [
    {
     "data": {
      "text/plain": [
       "{25: 'ram', 30: 'rahenn', 35: 'robert'}"
      ]
     },
     "execution_count": 3,
     "metadata": {},
     "output_type": "execute_result"
    }
   ],
   "source": [
    "d2={25:'ram',30:'rahenn',35:'robert'}\n",
    "d2\n",
    "\n",
    "#keys:25,30,35\n",
    "#values:"
   ]
  },
  {
   "cell_type": "code",
   "execution_count": 4,
   "id": "05c3f3cb",
   "metadata": {},
   "outputs": [
    {
     "data": {
      "text/plain": [
       "{'even': (2, 4, 6), 'odd': (3, 5, 7)}"
      ]
     },
     "execution_count": 4,
     "metadata": {},
     "output_type": "execute_result"
    }
   ],
   "source": [
    "d3={'even':(2,4,6),\n",
    "   'odd':(3,5,7)}\n",
    "d3"
   ]
  },
  {
   "cell_type": "code",
   "execution_count": 5,
   "id": "a347609d",
   "metadata": {},
   "outputs": [],
   "source": [
    "d3={'even':[2,4,6],\n",
    "   'odd':[3,5,7]}          #not works list in dictionary"
   ]
  },
  {
   "cell_type": "code",
   "execution_count": null,
   "id": "7c79d972",
   "metadata": {},
   "outputs": [],
   "source": [
    "#{'key':<()>}"
   ]
  },
  {
   "cell_type": "code",
   "execution_count": null,
   "id": "2ea8cdd4",
   "metadata": {},
   "outputs": [],
   "source": []
  },
  {
   "cell_type": "code",
   "execution_count": null,
   "id": "ad4b34b9",
   "metadata": {},
   "outputs": [],
   "source": []
  },
  {
   "cell_type": "code",
   "execution_count": null,
   "id": "1876298a",
   "metadata": {},
   "outputs": [],
   "source": [
    "a={1,2}\n",
    "b=(1,2)"
   ]
  },
  {
   "cell_type": "markdown",
   "id": "485a1a4b",
   "metadata": {},
   "source": [
    "-  dictionary is a kay:value pair\n",
    "-  at values postion you can take any data type\n",
    "-  at keys postion list and dictionary will fail\n",
    "-  dulictes are not allowed\n",
    "-  if you will update a key value,latest value it will take"
   ]
  },
  {
   "cell_type": "code",
   "execution_count": 6,
   "id": "b8b32180",
   "metadata": {},
   "outputs": [
    {
     "data": {
      "text/plain": [
       "{'a': 1, 'b': 2}"
      ]
     },
     "execution_count": 6,
     "metadata": {},
     "output_type": "execute_result"
    }
   ],
   "source": [
    "d1={'a':1,'b':2,'a':1}\n",
    "d1"
   ]
  },
  {
   "cell_type": "code",
   "execution_count": 7,
   "id": "69f0ac4a",
   "metadata": {},
   "outputs": [
    {
     "data": {
      "text/plain": [
       "{'a': 3, 'b': 2}"
      ]
     },
     "execution_count": 7,
     "metadata": {},
     "output_type": "execute_result"
    }
   ],
   "source": [
    "d1={'a':1,'b':2,'a':3}\n",
    "d1"
   ]
  },
  {
   "cell_type": "markdown",
   "id": "fe92a729",
   "metadata": {},
   "source": [
    "$type$"
   ]
  },
  {
   "cell_type": "code",
   "execution_count": 9,
   "id": "8d779b38",
   "metadata": {},
   "outputs": [
    {
     "data": {
      "text/plain": [
       "dict"
      ]
     },
     "execution_count": 9,
     "metadata": {},
     "output_type": "execute_result"
    }
   ],
   "source": [
    "type(d1)"
   ]
  },
  {
   "cell_type": "code",
   "execution_count": 10,
   "id": "8c98ab7f",
   "metadata": {},
   "outputs": [
    {
     "data": {
      "text/plain": [
       "'robert'"
      ]
     },
     "execution_count": 10,
     "metadata": {},
     "output_type": "execute_result"
    }
   ],
   "source": [
    "d1={'ram':25,'raheen':30,'robert':35}\n",
    "max(d1)"
   ]
  },
  {
   "cell_type": "markdown",
   "id": "c1e66a70",
   "metadata": {},
   "source": [
    "- maximum and minimum value based on key only"
   ]
  },
  {
   "cell_type": "code",
   "execution_count": 12,
   "id": "f2e2585d",
   "metadata": {},
   "outputs": [
    {
     "data": {
      "text/plain": [
       "'raheen'"
      ]
     },
     "execution_count": 12,
     "metadata": {},
     "output_type": "execute_result"
    }
   ],
   "source": [
    "min(d1)"
   ]
  },
  {
   "cell_type": "code",
   "execution_count": 13,
   "id": "560548c8",
   "metadata": {},
   "outputs": [
    {
     "data": {
      "text/plain": [
       "3"
      ]
     },
     "execution_count": 13,
     "metadata": {},
     "output_type": "execute_result"
    }
   ],
   "source": [
    "len(d1)"
   ]
  },
  {
   "cell_type": "code",
   "execution_count": 14,
   "id": "8267f91f",
   "metadata": {},
   "outputs": [
    {
     "ename": "TypeError",
     "evalue": "unsupported operand type(s) for +: 'int' and 'str'",
     "output_type": "error",
     "traceback": [
      "\u001b[1;31m---------------------------------------------------------------------------\u001b[0m",
      "\u001b[1;31mTypeError\u001b[0m                                 Traceback (most recent call last)",
      "Cell \u001b[1;32mIn[14], line 1\u001b[0m\n\u001b[1;32m----> 1\u001b[0m \u001b[38;5;28msum\u001b[39m(d1)\n",
      "\u001b[1;31mTypeError\u001b[0m: unsupported operand type(s) for +: 'int' and 'str'"
     ]
    }
   ],
   "source": [
    "sum(d1)"
   ]
  },
  {
   "cell_type": "code",
   "execution_count": 15,
   "id": "93d36a91",
   "metadata": {},
   "outputs": [
    {
     "data": {
      "text/plain": [
       "4"
      ]
     },
     "execution_count": 15,
     "metadata": {},
     "output_type": "execute_result"
    }
   ],
   "source": [
    "d2={1:2,3:4}\n",
    "sum(d2)"
   ]
  },
  {
   "cell_type": "markdown",
   "id": "e920df6f",
   "metadata": {},
   "source": [
    "- if keys has numeric then we can do sum"
   ]
  },
  {
   "cell_type": "markdown",
   "id": "949351ce",
   "metadata": {},
   "source": [
    "$in$"
   ]
  },
  {
   "cell_type": "code",
   "execution_count": null,
   "id": "7d5fe241",
   "metadata": {},
   "outputs": [],
   "source": [
    "d1={'ram':25,\n",
    "    'raheen':30,\n",
    "    'robert':35}\n",
    " 'ram':25 in d1    #fail\n",
    "'ram' in d1       #works\n",
    "25 in d1         #fail"
   ]
  },
  {
   "cell_type": "markdown",
   "id": "f81459f3",
   "metadata": {},
   "source": [
    "$index$"
   ]
  },
  {
   "cell_type": "code",
   "execution_count": 16,
   "id": "00cc57e3",
   "metadata": {},
   "outputs": [
    {
     "ename": "TypeError",
     "evalue": "'set' object is not subscriptable",
     "output_type": "error",
     "traceback": [
      "\u001b[1;31m---------------------------------------------------------------------------\u001b[0m",
      "\u001b[1;31mTypeError\u001b[0m                                 Traceback (most recent call last)",
      "Cell \u001b[1;32mIn[16], line 2\u001b[0m\n\u001b[0;32m      1\u001b[0m l1\u001b[38;5;241m=\u001b[39m{\u001b[38;5;241m10\u001b[39m,\u001b[38;5;241m20\u001b[39m,\u001b[38;5;241m30\u001b[39m,\u001b[38;5;241m40\u001b[39m}\n\u001b[1;32m----> 2\u001b[0m l1[\u001b[38;5;241m0\u001b[39m]\n\u001b[0;32m      4\u001b[0m str1\u001b[38;5;241m=\u001b[39m\u001b[38;5;124m'\u001b[39m\u001b[38;5;124mapple\u001b[39m\u001b[38;5;124m'\u001b[39m\n\u001b[0;32m      5\u001b[0m str1[\u001b[38;5;241m0\u001b[39m]\n",
      "\u001b[1;31mTypeError\u001b[0m: 'set' object is not subscriptable"
     ]
    }
   ],
   "source": [
    "l1={10,20,30,40}\n",
    "l1[0]\n",
    "\n",
    "str1='apple'\n",
    "str1[0]\n"
   ]
  },
  {
   "cell_type": "code",
   "execution_count": 17,
   "id": "27d6e28f",
   "metadata": {},
   "outputs": [
    {
     "name": "stdout",
     "output_type": "stream",
     "text": [
      "ram\n",
      "raheen\n",
      "robert\n"
     ]
    }
   ],
   "source": [
    "#can we get values using for loop\n",
    "for i in d1:\n",
    "    print(i)"
   ]
  },
  {
   "cell_type": "code",
   "execution_count": 41,
   "id": "714ee4ac",
   "metadata": {},
   "outputs": [],
   "source": [
    "for  key in d1:\n",
    "    print(key,d1[key])"
   ]
  },
  {
   "cell_type": "code",
   "execution_count": 20,
   "id": "2ae0f4fb",
   "metadata": {},
   "outputs": [
    {
     "name": "stdout",
     "output_type": "stream",
     "text": [
      "the age of ramis25\n",
      "the age of raheenis30\n",
      "the age of robertis35\n"
     ]
    }
   ],
   "source": [
    "for key in d1:\n",
    "    print('the age of {}is{}'.format(key,d1[key]))"
   ]
  },
  {
   "cell_type": "markdown",
   "id": "05d70920",
   "metadata": {},
   "source": [
    "#crating a empty dictionary and update#"
   ]
  },
  {
   "cell_type": "code",
   "execution_count": 23,
   "id": "39b5113e",
   "metadata": {},
   "outputs": [
    {
     "name": "stdout",
     "output_type": "stream",
     "text": [
      "apple\n"
     ]
    }
   ],
   "source": [
    "s=''\n",
    "\n",
    "for i in 'apple':\n",
    "    s=s+i\n",
    "    \n",
    "print(s)"
   ]
  },
  {
   "cell_type": "code",
   "execution_count": 24,
   "id": "bc104f0f",
   "metadata": {},
   "outputs": [
    {
     "data": {
      "text/plain": [
       "{'fruit': 'apple'}"
      ]
     },
     "execution_count": 24,
     "metadata": {},
     "output_type": "execute_result"
    }
   ],
   "source": [
    "d1={}\n",
    "d1['fruit']='apple'\n",
    "d1"
   ]
  },
  {
   "cell_type": "code",
   "execution_count": 25,
   "id": "74e6904a",
   "metadata": {},
   "outputs": [
    {
     "data": {
      "text/plain": [
       "{'course': 'b.scom'}"
      ]
     },
     "execution_count": 25,
     "metadata": {},
     "output_type": "execute_result"
    }
   ],
   "source": [
    "#wap a program \n",
    "d1={}\n",
    "d1['course']='b.scom'\n",
    "d1"
   ]
  },
  {
   "cell_type": "code",
   "execution_count": 27,
   "id": "b37860dd",
   "metadata": {},
   "outputs": [
    {
     "ename": "TypeError",
     "evalue": "list indices must be integers or slices, not str",
     "output_type": "error",
     "traceback": [
      "\u001b[1;31m---------------------------------------------------------------------------\u001b[0m",
      "\u001b[1;31mTypeError\u001b[0m                                 Traceback (most recent call last)",
      "Cell \u001b[1;32mIn[27], line 5\u001b[0m\n\u001b[0;32m      1\u001b[0m \u001b[38;5;66;03m# wap create a dictionary based on two lists\u001b[39;00m\n\u001b[0;32m      2\u001b[0m \u001b[38;5;66;03m#names=['ram','raheen','robert']\u001b[39;00m\n\u001b[0;32m      3\u001b[0m \u001b[38;5;66;03m#age=[25,30,35]\u001b[39;00m\n\u001b[0;32m      4\u001b[0m d1\u001b[38;5;241m=\u001b[39m[]\n\u001b[1;32m----> 5\u001b[0m d1[\u001b[38;5;124m'\u001b[39m\u001b[38;5;124mnames\u001b[39m\u001b[38;5;124m'\u001b[39m]\u001b[38;5;241m=\u001b[39m\u001b[38;5;124m'\u001b[39m\u001b[38;5;124mram\u001b[39m\u001b[38;5;124m'\u001b[39m,\u001b[38;5;124m'\u001b[39m\u001b[38;5;124mraheen\u001b[39m\u001b[38;5;124m'\u001b[39m,\u001b[38;5;124m'\u001b[39m\u001b[38;5;124mrobert\u001b[39m\u001b[38;5;124m'\u001b[39m\n\u001b[0;32m      6\u001b[0m d2[\u001b[38;5;124m'\u001b[39m\u001b[38;5;124mage\u001b[39m\u001b[38;5;124m'\u001b[39m]\u001b[38;5;241m=\u001b[39m\u001b[38;5;241m25\u001b[39m,\u001b[38;5;241m30\u001b[39m,\u001b[38;5;241m35\u001b[39m\n\u001b[0;32m      7\u001b[0m d1\u001b[38;5;241m+\u001b[39md2\n",
      "\u001b[1;31mTypeError\u001b[0m: list indices must be integers or slices, not str"
     ]
    }
   ],
   "source": [
    "# wap create a dictionary based on two lists\n",
    "#'ram':25,\n",
    "d1=[]\n",
    "d1['names']='ram','raheen','robert'\n",
    "d2['age']=25,30,35\n"
   ]
  },
  {
   "cell_type": "code",
   "execution_count": 28,
   "id": "79a02c24",
   "metadata": {},
   "outputs": [
    {
     "ename": "NameError",
     "evalue": "name 'names' is not defined",
     "output_type": "error",
     "traceback": [
      "\u001b[1;31m---------------------------------------------------------------------------\u001b[0m",
      "\u001b[1;31mNameError\u001b[0m                                 Traceback (most recent call last)",
      "Cell \u001b[1;32mIn[28], line 1\u001b[0m\n\u001b[1;32m----> 1\u001b[0m \u001b[38;5;28;01mfor\u001b[39;00m i \u001b[38;5;129;01min\u001b[39;00m \u001b[38;5;28mrange\u001b[39m(\u001b[38;5;28mlen\u001b[39m(names)):\n\u001b[0;32m      2\u001b[0m     \u001b[38;5;28mprint\u001b[39m(i,names[i],age[i])\n",
      "\u001b[1;31mNameError\u001b[0m: name 'names' is not defined"
     ]
    }
   ],
   "source": [
    "for i in range(len(names)):\n",
    "    print(i,names[i],age[i])\n",
    "    dict1[names[i]]"
   ]
  },
  {
   "cell_type": "code",
   "execution_count": 30,
   "id": "cfb49faa",
   "metadata": {},
   "outputs": [
    {
     "ename": "NameError",
     "evalue": "name 'dict1' is not defined",
     "output_type": "error",
     "traceback": [
      "\u001b[1;31m---------------------------------------------------------------------------\u001b[0m",
      "\u001b[1;31mNameError\u001b[0m                                 Traceback (most recent call last)",
      "Cell \u001b[1;32mIn[30], line 5\u001b[0m\n\u001b[0;32m      3\u001b[0m \u001b[38;5;28mdict\u001b[39m\u001b[38;5;241m=\u001b[39m{}\n\u001b[0;32m      4\u001b[0m \u001b[38;5;28;01mfor\u001b[39;00m i \u001b[38;5;129;01min\u001b[39;00m \u001b[38;5;28mrange\u001b[39m(\u001b[38;5;28mlen\u001b[39m(names)):\n\u001b[1;32m----> 5\u001b[0m     dict1[names[i]]\u001b[38;5;241m=\u001b[39mage[i]\n\u001b[0;32m      7\u001b[0m dict1\u001b[38;5;241m=\u001b[39m{names[i]:age[i] \u001b[38;5;28;01mfor\u001b[39;00m i \u001b[38;5;129;01min\u001b[39;00m \u001b[38;5;28mrange\u001b[39m(\u001b[38;5;28mlen\u001b[39m(names))}\n\u001b[0;32m      8\u001b[0m dict1\u001b[38;5;241m=\u001b[39m{name:age \u001b[38;5;28;01mfor\u001b[39;00m name,age \u001b[38;5;129;01min\u001b[39;00m \u001b[38;5;28mzip\u001b[39m(names,age)}\n",
      "\u001b[1;31mNameError\u001b[0m: name 'dict1' is not defined"
     ]
    }
   ],
   "source": [
    "names={'ram','raheen','robert'}\n",
    "age=[25,30,35]\n",
    "dict={}\n",
    "for i in range(len(names)):\n",
    "    dict1[names[i]]=age[i]\n",
    "    \n",
    "dict1={names[i]:age[i] for i in range(len(names))}\n",
    "dict1={name:age for name,age in zip(names,age)}\n",
    "\n",
    "names[0],age[0]"
   ]
  },
  {
   "cell_type": "code",
   "execution_count": 42,
   "id": "382ada2b",
   "metadata": {},
   "outputs": [
    {
     "data": {
      "text/plain": [
       "{'even': [2, 10, 2, 10], 'odd': [1]}"
      ]
     },
     "execution_count": 42,
     "metadata": {},
     "output_type": "execute_result"
    }
   ],
   "source": [
    "#wap take r random number\n",
    "#and create a dictionary with even or odd\n",
    "#step-1: take empty dictionary\n",
    "#step-2: take two even and odd list\n",
    "#step-3: import random\n",
    "#step-4: for i in range(5):\n",
    "#step-5:   num=random.randint(a,b)\n",
    "#step-6: if<even>:\n",
    "#step-7: append the value in even list\n",
    "#step-8: else:\n",
    "#step-9: append the value in odd list\n",
    "#step-10: create dictionary\n",
    "\n",
    "dict={}\n",
    "even_list=[]\n",
    "odd_list=[]\n",
    "import random\n",
    "for i in range(5):\n",
    "    num=random.randint(1,10)\n",
    "    if num%2==0:\n",
    "        even_list.append(num)\n",
    "    else:\n",
    "        odd_list.append(num)\n",
    "        \n",
    "dict['even']=even_list\n",
    "dict['odd']=odd_list\n",
    "dict"
   ]
  },
  {
   "cell_type": "code",
   "execution_count": 1,
   "id": "406b3f03",
   "metadata": {},
   "outputs": [
    {
     "data": {
      "text/plain": [
       "'C:\\\\Users\\\\VIJAYA MEDA'"
      ]
     },
     "execution_count": 1,
     "metadata": {},
     "output_type": "execute_result"
    }
   ],
   "source": [
    "import os\n",
    "os.getcwd()"
   ]
  },
  {
   "cell_type": "markdown",
   "id": "4e8610e4",
   "metadata": {},
   "source": [
    "*21-11-2023*"
   ]
  },
  {
   "cell_type": "markdown",
   "id": "a0d447d3",
   "metadata": {},
   "source": [
    "*dictionary method*"
   ]
  },
  {
   "cell_type": "code",
   "execution_count": 1,
   "id": "c7c9bebd",
   "metadata": {},
   "outputs": [
    {
     "data": {
      "text/plain": [
       "['__class__',\n",
       " '__class_getitem__',\n",
       " '__contains__',\n",
       " '__delattr__',\n",
       " '__delitem__',\n",
       " '__dir__',\n",
       " '__doc__',\n",
       " '__eq__',\n",
       " '__format__',\n",
       " '__ge__',\n",
       " '__getattribute__',\n",
       " '__getitem__',\n",
       " '__getstate__',\n",
       " '__gt__',\n",
       " '__hash__',\n",
       " '__init__',\n",
       " '__init_subclass__',\n",
       " '__ior__',\n",
       " '__iter__',\n",
       " '__le__',\n",
       " '__len__',\n",
       " '__lt__',\n",
       " '__ne__',\n",
       " '__new__',\n",
       " '__or__',\n",
       " '__reduce__',\n",
       " '__reduce_ex__',\n",
       " '__repr__',\n",
       " '__reversed__',\n",
       " '__ror__',\n",
       " '__setattr__',\n",
       " '__setitem__',\n",
       " '__sizeof__',\n",
       " '__str__',\n",
       " '__subclasshook__',\n",
       " 'clear',\n",
       " 'copy',\n",
       " 'fromkeys',\n",
       " 'get',\n",
       " 'items',\n",
       " 'keys',\n",
       " 'pop',\n",
       " 'popitem',\n",
       " 'setdefault',\n",
       " 'update',\n",
       " 'values']"
      ]
     },
     "execution_count": 1,
     "metadata": {},
     "output_type": "execute_result"
    }
   ],
   "source": [
    "dir({})"
   ]
  },
  {
   "cell_type": "markdown",
   "id": "7f17d8ed",
   "metadata": {},
   "source": [
    "*items-keys-values*"
   ]
  },
  {
   "cell_type": "code",
   "execution_count": 3,
   "id": "28761dc9",
   "metadata": {},
   "outputs": [
    {
     "data": {
      "text/plain": [
       "{'ram': 25, 'raheen': 30, 'robert': 35}"
      ]
     },
     "execution_count": 3,
     "metadata": {},
     "output_type": "execute_result"
    }
   ],
   "source": [
    "d1={'ram':25,'raheen':30,'robert':35}\n",
    "d1"
   ]
  },
  {
   "cell_type": "code",
   "execution_count": 4,
   "id": "b6490664",
   "metadata": {},
   "outputs": [
    {
     "data": {
      "text/plain": [
       "dict_items([('ram', 25), ('raheen', 30), ('robert', 35)])"
      ]
     },
     "execution_count": 4,
     "metadata": {},
     "output_type": "execute_result"
    }
   ],
   "source": [
    "# items\n",
    "d1.items()"
   ]
  },
  {
   "cell_type": "code",
   "execution_count": 7,
   "id": "0bd70e26",
   "metadata": {},
   "outputs": [
    {
     "ename": "NameError",
     "evalue": "name 'items' is not defined",
     "output_type": "error",
     "traceback": [
      "\u001b[1;31m---------------------------------------------------------------------------\u001b[0m",
      "\u001b[1;31mNameError\u001b[0m                                 Traceback (most recent call last)",
      "Cell \u001b[1;32mIn[7], line 1\u001b[0m\n\u001b[1;32m----> 1\u001b[0m \u001b[38;5;28mtype\u001b[39m(items)\n",
      "\u001b[1;31mNameError\u001b[0m: name 'items' is not defined"
     ]
    }
   ],
   "source": [
    "type(items)"
   ]
  },
  {
   "cell_type": "code",
   "execution_count": 11,
   "id": "a37ea7f0",
   "metadata": {},
   "outputs": [
    {
     "data": {
      "text/plain": [
       "dict_keys(['ram', 'raheen', 'robert'])"
      ]
     },
     "execution_count": 11,
     "metadata": {},
     "output_type": "execute_result"
    }
   ],
   "source": [
    "#keys\n",
    "keys=d1.keys()\n",
    "keys"
   ]
  },
  {
   "cell_type": "code",
   "execution_count": 9,
   "id": "84515387",
   "metadata": {},
   "outputs": [
    {
     "data": {
      "text/plain": [
       "dict_values([25, 30, 35])"
      ]
     },
     "execution_count": 9,
     "metadata": {},
     "output_type": "execute_result"
    }
   ],
   "source": [
    "#values\n",
    "values=d1.values()\n",
    "values"
   ]
  },
  {
   "cell_type": "code",
   "execution_count": 8,
   "id": "631e4443",
   "metadata": {},
   "outputs": [
    {
     "data": {
      "text/plain": [
       "[25, 30, 35, 400]"
      ]
     },
     "execution_count": 8,
     "metadata": {},
     "output_type": "execute_result"
    }
   ],
   "source": [
    "l1=[25,30,35]\n",
    "l1.append(400)\n",
    "l1"
   ]
  },
  {
   "cell_type": "code",
   "execution_count": 10,
   "id": "08208854",
   "metadata": {},
   "outputs": [
    {
     "data": {
      "text/plain": [
       "[25, 30, 35]"
      ]
     },
     "execution_count": 10,
     "metadata": {},
     "output_type": "execute_result"
    }
   ],
   "source": [
    "values\n",
    "list(values)"
   ]
  },
  {
   "cell_type": "code",
   "execution_count": 12,
   "id": "f7c61cde",
   "metadata": {},
   "outputs": [
    {
     "data": {
      "text/plain": [
       "['ram', 'raheen', 'robert']"
      ]
     },
     "execution_count": 12,
     "metadata": {},
     "output_type": "execute_result"
    }
   ],
   "source": [
    "keys=list(keys)\n",
    "keys"
   ]
  },
  {
   "cell_type": "code",
   "execution_count": null,
   "id": "88aa1d7e",
   "metadata": {},
   "outputs": [],
   "source": [
    "# i will give the dictionary\n",
    "#can you extract keys ans values in alist\n",
    "\n",
    "#i will give two list keys and values\n",
    "#can you create a dictionary"
   ]
  },
  {
   "cell_type": "code",
   "execution_count": 15,
   "id": "3996efcb",
   "metadata": {},
   "outputs": [],
   "source": [
    "dict1={'ram':25,'raheen':30,'robert':35}\n",
    "#keys=list(d1.keys())\n",
    "#values=list(d1.values())\n",
    "#d1\n",
    "dict1={}\n",
    "for i in range(len(keys)):\n",
    "    dict1[keys[i]]=values[i]\n"
   ]
  },
  {
   "cell_type": "code",
   "execution_count": 16,
   "id": "c714cb86",
   "metadata": {},
   "outputs": [
    {
     "ename": "TypeError",
     "evalue": "'dict' object is not callable",
     "output_type": "error",
     "traceback": [
      "\u001b[1;31m---------------------------------------------------------------------------\u001b[0m",
      "\u001b[1;31mTypeError\u001b[0m                                 Traceback (most recent call last)",
      "Cell \u001b[1;32mIn[16], line 1\u001b[0m\n\u001b[1;32m----> 1\u001b[0m dict1(\u001b[38;5;28mzip\u001b[39m(keys,values))\n",
      "\u001b[1;31mTypeError\u001b[0m: 'dict' object is not callable"
     ]
    }
   ],
   "source": [
    "dict1(zip(keys,values))"
   ]
  },
  {
   "cell_type": "code",
   "execution_count": 5,
   "id": "8392e4b7",
   "metadata": {},
   "outputs": [],
   "source": [
    "s1='virat.kohli@blr.com,rohit,sharma@mumbai.com,kl.rahul@lucknow.com'\n",
    "\n",
    "#l1=('first_name':['virat','rohit','kl'])\n",
    "#l2=('second_name':['kohli','sharma','rahul'])\n",
    "#l3=('company_name':['blr','mumbai','lucknow'])"
   ]
  },
  {
   "cell_type": "code",
   "execution_count": 25,
   "id": "024e491b",
   "metadata": {},
   "outputs": [
    {
     "name": "stdout",
     "output_type": "stream",
     "text": [
      "virat\n",
      "kohli@blr.com,rohit\n"
     ]
    }
   ],
   "source": [
    "s1='virat.kohli@blr.com,rohit,sharma@mumbai.com,kl.rahul@lucknow.com'\n",
    "s1.find('.')\n",
    "frist_name=s1[0:5]\n",
    "print(frist_name)\n",
    "s1.find(',s')\n",
    "num2=s1[6:25]\n",
    "print(num2)"
   ]
  },
  {
   "cell_type": "code",
   "execution_count": 6,
   "id": "3a091c46",
   "metadata": {},
   "outputs": [
    {
     "data": {
      "text/plain": [
       "['virat.kohli@blr.com', 'rohit', 'sharma@mumbai.com', 'kl.rahul@lucknow.com']"
      ]
     },
     "execution_count": 6,
     "metadata": {},
     "output_type": "execute_result"
    }
   ],
   "source": [
    "s1.split(',')"
   ]
  },
  {
   "cell_type": "code",
   "execution_count": 7,
   "id": "aa5046e9",
   "metadata": {},
   "outputs": [
    {
     "data": {
      "text/plain": [
       "{'frist name': ['virat', 'rohi', 'sharma@mumbai', 'kl'],\n",
       " 'second name': ['kohli', 'rohi', '', 'rahul'],\n",
       " 'company name': ['blr', 'rohi', 'mumbai.co', 'lucknow']}"
      ]
     },
     "execution_count": 7,
     "metadata": {},
     "output_type": "execute_result"
    }
   ],
   "source": [
    "str1='virat.kohli@blr.com'\n",
    "d1={}\n",
    "f_name=[str1[:str1.find('.')] for str1 in s1.split(',')]\n",
    "s_name=[str1[str1.find('.')+1:str1.find('@')] for str1 in s1.split(',')]\n",
    "c_name=[str1[str1.find('@')+1:str1.find('.',str1.find('.')+1)]for str1 in s1.split(',')]\n",
    "f_name,s_name,c_name\n",
    "d1['frist name']=f_name\n",
    "d1['second name']=s_name\n",
    "d1['company name']=c_name\n",
    "d1"
   ]
  },
  {
   "cell_type": "code",
   "execution_count": 59,
   "id": "e3df4fc4",
   "metadata": {},
   "outputs": [
    {
     "name": "stdout",
     "output_type": "stream",
     "text": [
      "virat\n",
      "kohli\n",
      "blr\n"
     ]
    }
   ],
   "source": [
    "\n",
    "str1='virat.kohli@blr.com'\n",
    "str1.find('.')\n",
    "num=str1[0:5]\n",
    "print(num) \n",
    "str1.find('@')\n",
    "num1=str1[6:11]\n",
    "print(num1)\n",
    "str1.find('.c')\n",
    "num2=str1[12:15]\n",
    "print(num2)\n"
   ]
  },
  {
   "cell_type": "code",
   "execution_count": 32,
   "id": "82c645d4",
   "metadata": {},
   "outputs": [
    {
     "data": {
      "text/plain": [
       "{'frist name': ['virat', 'rohi', 'sharma@mumbai', 'kl'],\n",
       " 'second name': ['kohli', 'rohi', '', 'rahul'],\n",
       " 'company name': ['blr', 'rohi', 'mumbai.co', 'lucknow']}"
      ]
     },
     "execution_count": 32,
     "metadata": {},
     "output_type": "execute_result"
    }
   ],
   "source": [
    "s1='virat.kohli@blr.com,rohit,sharma@mumbai.com,kl.rahul@lucknow.com'\n",
    "l1=s1.split(',')\n",
    "frist_name=[]\n",
    "second_name=[]\n",
    "company_name=[]\n",
    "d1={}\n",
    "for i in l1:\n",
    "    frist_name.append(i[0:i.find('.')])\n",
    "    second_name.append(i[i.find('.')+1:i.find('@')])\n",
    "    company_name.append(i[i.find('@')+1:i.find('.',i.find('.')+1)])\n",
    "                          \n",
    "d1['frist name']=frist_name\n",
    "d1['second name']=second_name\n",
    "d1['company name']=company_name\n",
    "d1                         "
   ]
  },
  {
   "cell_type": "code",
   "execution_count": 94,
   "id": "1f9a5705",
   "metadata": {},
   "outputs": [
    {
     "data": {
      "text/plain": [
       "{'frist_name': ['virat'], 'second_name': 'kohli', 'company_name': 'blr'}"
      ]
     },
     "execution_count": 94,
     "metadata": {},
     "output_type": "execute_result"
    }
   ],
   "source": [
    "str1='virat.kohli@blr.com,rohit,sharma@mumbai.com,kl.rahul@lucknow.com'\n",
    "d1={}\n",
    "f_name=[str1[:str1.find('.')] for str1 in s1.split()]\n",
    "l_name=[str1[:str1.find('@')] for str1 in s1.split('.')]\n",
    "c_name=[str1[:str1.find('.')] for str1 in s1.split('@')]\n",
    "\n",
    "\n",
    "\n",
    "# s_name=[str1[:str1.find('.')+1:str1.find('@')] for str1 in s1.split()]\n",
    "# c_name=[str1[:str1.find('.')+1:str1.find('@',str1.find('.')+1)] for str1 in s1.split(',')]\n",
    "#f_name,s_name,c_name\n",
    "\n",
    "d1['frist_name']=f_name\n",
    "d1['second_name']=l_name[1]\n",
    "d1['company_name']=c_name[1]\n",
    "d1"
   ]
  },
  {
   "cell_type": "code",
   "execution_count": null,
   "id": "90dfd79a",
   "metadata": {},
   "outputs": [],
   "source": []
  },
  {
   "cell_type": "code",
   "execution_count": null,
   "id": "cda563cb",
   "metadata": {},
   "outputs": [],
   "source": []
  },
  {
   "cell_type": "code",
   "execution_count": 71,
   "id": "59d628d2",
   "metadata": {},
   "outputs": [
    {
     "name": "stdout",
     "output_type": "stream",
     "text": [
      "['can', 'can', 'you', 'canner', 'can', 'you', 'able', 'to', 'you', 'canner']\n"
     ]
    },
    {
     "data": {
      "text/plain": [
       "{'can': 3, 'you': 3, 'canner': 2, 'able': 1, 'to': 1}"
      ]
     },
     "execution_count": 71,
     "metadata": {},
     "output_type": "execute_result"
    }
   ],
   "source": [
    "str1='can can you canner can you able to you canner'\n",
    "str1 = str1.split()\n",
    "print(str1)\n",
    "\n",
    "d={}\n",
    "for i in str1:\n",
    "    if i in d:\n",
    "        d[i] = d[i]+1\n",
    "    else:\n",
    "        d[i]=1\n",
    "d\n"
   ]
  },
  {
   "cell_type": "code",
   "execution_count": 34,
   "id": "18adf0ae",
   "metadata": {},
   "outputs": [
    {
     "data": {
      "text/plain": [
       "['can', 'can', 'you', 'canner', 'can', 'you', 'able', 'to', 'you', 'canner']"
      ]
     },
     "execution_count": 34,
     "metadata": {},
     "output_type": "execute_result"
    }
   ],
   "source": [
    "str1.split()"
   ]
  },
  {
   "cell_type": "code",
   "execution_count": 41,
   "id": "b387e78e",
   "metadata": {},
   "outputs": [
    {
     "data": {
      "text/plain": [
       "{'can': 3, 'you': 3, 'canner': 2, 'able': 1, 'to': 1}"
      ]
     },
     "execution_count": 41,
     "metadata": {},
     "output_type": "execute_result"
    }
   ],
   "source": [
    "str1='can can you canner can you able to you canner'\n",
    "l1=str1.split(' ')\n",
    "d1={}\n",
    "for i in l1:\n",
    "    d1[i]=l1.count(i)\n",
    "d1\n"
   ]
  },
  {
   "cell_type": "code",
   "execution_count": 120,
   "id": "a41b34ae",
   "metadata": {},
   "outputs": [
    {
     "data": {
      "text/plain": [
       "{'a': 70, 'b': 130, 'c': 240}"
      ]
     },
     "execution_count": 120,
     "metadata": {},
     "output_type": "execute_result"
    }
   ],
   "source": [
    "d1={'a':20,'b':30,'c':40}\n",
    "d2={'a':50,'b':100,'c':200}\n",
    "dict1={}\n",
    "\n",
    "for i in d1.keys():\n",
    "    dict1[i] = d1[i]+d2[i]\n",
    "# for i,j in zip(d1.,d2.values):\n",
    "#     print('add',i+j)\n",
    "    \n",
    "dict1"
   ]
  },
  {
   "cell_type": "code",
   "execution_count": 118,
   "id": "29ec0a47",
   "metadata": {},
   "outputs": [
    {
     "data": {
      "text/plain": [
       "dict_keys(['a', 'b', 'c'])"
      ]
     },
     "execution_count": 118,
     "metadata": {},
     "output_type": "execute_result"
    }
   ],
   "source": [
    "d1.keys()"
   ]
  },
  {
   "cell_type": "code",
   "execution_count": 46,
   "id": "3d7cedd0",
   "metadata": {},
   "outputs": [
    {
     "data": {
      "text/plain": [
       "{'a': 70, 'b': 130, 'c': 240}"
      ]
     },
     "execution_count": 46,
     "metadata": {},
     "output_type": "execute_result"
    }
   ],
   "source": [
    "d1={'a':20,'b':30,'c':40}\n",
    "d2={'a':50,'b':100,'c':200}\n",
    "for i in d1:\n",
    "    d1[i]+=d2[i]\n",
    "d1\n",
    "\n",
    "\n"
   ]
  },
  {
   "cell_type": "code",
   "execution_count": 33,
   "id": "ffc1be89",
   "metadata": {},
   "outputs": [
    {
     "data": {
      "text/plain": [
       "{'a': 70, 'b': 130, 'c': 240, 'd': 500}"
      ]
     },
     "execution_count": 33,
     "metadata": {},
     "output_type": "execute_result"
    }
   ],
   "source": [
    "d1={'a':20,'b':30,'c':40,'d':500}\n",
    "d2={'a':50,'b':100,'c':200,}\n",
    "for i in d2:\n",
    "    d1[i]+=d2[i]\n",
    "d1\n"
   ]
  },
  {
   "cell_type": "markdown",
   "id": "f8972e5a",
   "metadata": {},
   "source": [
    "*22-11-2023*"
   ]
  },
  {
   "cell_type": "markdown",
   "id": "59a14a97",
   "metadata": {},
   "source": [
    "*clear-copy*"
   ]
  },
  {
   "cell_type": "code",
   "execution_count": 2,
   "id": "93eb2cbc",
   "metadata": {},
   "outputs": [
    {
     "name": "stdout",
     "output_type": "stream",
     "text": [
      "{}\n",
      "{'a': 20, 'b': 30, 'c': 40, 'd': 500}\n"
     ]
    }
   ],
   "source": [
    "# take one dictionary\n",
    "# take second dictionary\n",
    "#copy frist dict into second\n",
    "#clear frist dict\n",
    "#and print both\n",
    "\n",
    "\n",
    "d1={'a':20,'b':30,'c':40,'d':500}\n",
    "d2=d1.copy()\n",
    "d1.clear()\n",
    "print(d1)      #d {}\n",
    "print(d2)      #{'a':20,'b':30,'c':40,'d':500}"
   ]
  },
  {
   "cell_type": "markdown",
   "id": "7e489267",
   "metadata": {},
   "source": [
    "$pop-$popitem$-del$"
   ]
  },
  {
   "cell_type": "code",
   "execution_count": null,
   "id": "762a635a",
   "metadata": {},
   "outputs": [],
   "source": [
    "pop  will remove specfic value\n",
    "popitem  remove last value default\n",
    "\n",
    "del is a keyword\n"
   ]
  },
  {
   "cell_type": "code",
   "execution_count": 3,
   "id": "c218d9e8",
   "metadata": {},
   "outputs": [
    {
     "data": {
      "text/plain": [
       "20"
      ]
     },
     "execution_count": 3,
     "metadata": {},
     "output_type": "execute_result"
    }
   ],
   "source": [
    "d1={'a':20,'b':30,'c':40,'d':500}\n",
    "d1.pop('a')"
   ]
  },
  {
   "cell_type": "code",
   "execution_count": 6,
   "id": "033ab354",
   "metadata": {},
   "outputs": [
    {
     "data": {
      "text/plain": [
       "('d', 500)"
      ]
     },
     "execution_count": 6,
     "metadata": {},
     "output_type": "execute_result"
    }
   ],
   "source": [
    "d1.popitem()"
   ]
  },
  {
   "cell_type": "code",
   "execution_count": 9,
   "id": "1554d35a",
   "metadata": {},
   "outputs": [],
   "source": [
    "del(d1)"
   ]
  },
  {
   "cell_type": "code",
   "execution_count": 10,
   "id": "0f1a881b",
   "metadata": {},
   "outputs": [
    {
     "ename": "NameError",
     "evalue": "name 'd1' is not defined",
     "output_type": "error",
     "traceback": [
      "\u001b[1;31m---------------------------------------------------------------------------\u001b[0m",
      "\u001b[1;31mNameError\u001b[0m                                 Traceback (most recent call last)",
      "Cell \u001b[1;32mIn[10], line 1\u001b[0m\n\u001b[1;32m----> 1\u001b[0m d1\n",
      "\u001b[1;31mNameError\u001b[0m: name 'd1' is not defined"
     ]
    }
   ],
   "source": [
    "d1"
   ]
  },
  {
   "cell_type": "code",
   "execution_count": null,
   "id": "1c2aa2a3",
   "metadata": {},
   "outputs": [],
   "source": [
    "d1={'a':1,'b':2,'c':3}\n",
    "\n",
    "del d1['c']\n",
    "\n",
    "d1.pop('c')\n",
    "\n",
    "d1.popitem('c')"
   ]
  },
  {
   "cell_type": "code",
   "execution_count": null,
   "id": "c30de190",
   "metadata": {},
   "outputs": [],
   "source": [
    "- items/values/keys\n",
    "-if i provide two list you know how to make dict\n",
    "-if i provide dict,you know how to genertare list\n",
    "-create an empty string/list/dictionary"
   ]
  },
  {
   "cell_type": "markdown",
   "id": "e45a1f4d",
   "metadata": {},
   "source": [
    "$fromkeys$-$get$"
   ]
  },
  {
   "cell_type": "code",
   "execution_count": 11,
   "id": "df2a2322",
   "metadata": {},
   "outputs": [
    {
     "data": {
      "text/plain": [
       "30"
      ]
     },
     "execution_count": 11,
     "metadata": {},
     "output_type": "execute_result"
    }
   ],
   "source": [
    "d1={'a':20,'b':30,'c':40,'d':500}\n",
    "d1.get('b')"
   ]
  },
  {
   "cell_type": "code",
   "execution_count": 12,
   "id": "72eb7264",
   "metadata": {},
   "outputs": [],
   "source": [
    "d1.get('z')"
   ]
  },
  {
   "cell_type": "code",
   "execution_count": 13,
   "id": "fcad7c9e",
   "metadata": {},
   "outputs": [
    {
     "ename": "KeyError",
     "evalue": "'z'",
     "output_type": "error",
     "traceback": [
      "\u001b[1;31m---------------------------------------------------------------------------\u001b[0m",
      "\u001b[1;31mKeyError\u001b[0m                                  Traceback (most recent call last)",
      "Cell \u001b[1;32mIn[13], line 1\u001b[0m\n\u001b[1;32m----> 1\u001b[0m d1[\u001b[38;5;124m'\u001b[39m\u001b[38;5;124mz\u001b[39m\u001b[38;5;124m'\u001b[39m]\n",
      "\u001b[1;31mKeyError\u001b[0m: 'z'"
     ]
    }
   ],
   "source": [
    "d1['z']"
   ]
  },
  {
   "cell_type": "markdown",
   "id": "e5ed2d39",
   "metadata": {},
   "source": [
    "- how many keys we can do\n",
    "- what output it is returning\n",
    "- what is the difference\n",
    "-  can access the values by providing key as index and key in get method\n",
    "- but if the key is not present in dictionary,key as index will give key error\n",
    "- get method will not return anything  and no error"
   ]
  },
  {
   "cell_type": "code",
   "execution_count": 18,
   "id": "5681d278",
   "metadata": {},
   "outputs": [
    {
     "data": {
      "text/plain": [
       "{'r': 25, 'a': 25, 'h': 25, 'e': 25, 'n': 25}"
      ]
     },
     "execution_count": 18,
     "metadata": {},
     "output_type": "execute_result"
    }
   ],
   "source": [
    "d1.fromkeys('raheen',25)"
   ]
  },
  {
   "cell_type": "code",
   "execution_count": 16,
   "id": "b71983dd",
   "metadata": {},
   "outputs": [
    {
     "data": {
      "text/plain": [
       "{'a': 20, 'b': 30, 'c': 40, 'd': 500}"
      ]
     },
     "execution_count": 16,
     "metadata": {},
     "output_type": "execute_result"
    }
   ],
   "source": [
    "d1"
   ]
  },
  {
   "cell_type": "code",
   "execution_count": null,
   "id": "06675623",
   "metadata": {},
   "outputs": [],
   "source": [
    "d3={}.fromkeys[1,2,3]"
   ]
  },
  {
   "cell_type": "code",
   "execution_count": 19,
   "id": "308d50f0",
   "metadata": {},
   "outputs": [
    {
     "data": {
      "text/plain": [
       "{'a': 20, 'b': 30, 'c': 40, 'd': 500, 'e': None}"
      ]
     },
     "execution_count": 19,
     "metadata": {},
     "output_type": "execute_result"
    }
   ],
   "source": [
    "d1={'a':20,'b':30,'c':40,'d':500}\n",
    "d1.setdefault('e')\n",
    "d1"
   ]
  },
  {
   "cell_type": "code",
   "execution_count": null,
   "id": "fc55c01c",
   "metadata": {},
   "outputs": [],
   "source": [
    "d1={}\n",
    "d1.setdefault('nareshit','Ds')\n",
    "d1.setdefault('city')\n",
    "d1.setdefault('nareshit')"
   ]
  },
  {
   "cell_type": "markdown",
   "id": "4f14d689",
   "metadata": {},
   "source": [
    "$update$"
   ]
  },
  {
   "cell_type": "code",
   "execution_count": 23,
   "id": "c3a2051c",
   "metadata": {},
   "outputs": [
    {
     "name": "stdout",
     "output_type": "stream",
     "text": [
      "{'a': 20, 'b': 7, 'c': 5}\n"
     ]
    }
   ],
   "source": [
    "d1={'a':20,'b':30}\n",
    "d2={'b':7,'c':5}\n",
    "d1.update(d2)\n",
    "print(d1)"
   ]
  },
  {
   "cell_type": "code",
   "execution_count": 24,
   "id": "4fa1a6a9",
   "metadata": {},
   "outputs": [
    {
     "data": {
      "text/plain": [
       "{1: 2, 2: 3}"
      ]
     },
     "execution_count": 24,
     "metadata": {},
     "output_type": "execute_result"
    }
   ],
   "source": [
    "t1=[(1,2),(2,3)]\n",
    "d1={}\n",
    "d1.update(t1)\n",
    "d1"
   ]
  },
  {
   "cell_type": "code",
   "execution_count": null,
   "id": "82e49653",
   "metadata": {},
   "outputs": [],
   "source": []
  }
 ],
 "metadata": {
  "kernelspec": {
   "display_name": "Python 3 (ipykernel)",
   "language": "python",
   "name": "python3"
  },
  "language_info": {
   "codemirror_mode": {
    "name": "ipython",
    "version": 3
   },
   "file_extension": ".py",
   "mimetype": "text/x-python",
   "name": "python",
   "nbconvert_exporter": "python",
   "pygments_lexer": "ipython3",
   "version": "3.11.5"
  }
 },
 "nbformat": 4,
 "nbformat_minor": 5
}
