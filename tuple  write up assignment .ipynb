{
 "cells": [
  {
   "cell_type": "markdown",
   "id": "5b1d3098",
   "metadata": {},
   "source": [
    "*how to read the tuple*"
   ]
  },
  {
   "cell_type": "code",
   "execution_count": null,
   "id": "b679db82",
   "metadata": {},
   "outputs": [],
   "source": [
    "- Python Tuple is a collection of objects separated by commas.\n",
    "- There are various ways by which you can create a tuple in Python.\n",
    "- Using round brackets\n",
    "- With one item\n"
   ]
  },
  {
   "cell_type": "code",
   "execution_count": 21,
   "id": "97558296",
   "metadata": {},
   "outputs": [
    {
     "data": {
      "text/plain": [
       "(1, 2, 3, 'good morning')"
      ]
     },
     "execution_count": 21,
     "metadata": {},
     "output_type": "execute_result"
    }
   ],
   "source": [
    "tuple1=(1,2,3,'good morning')\n",
    "tuple1"
   ]
  },
  {
   "cell_type": "code",
   "execution_count": 10,
   "id": "0a14c7c4",
   "metadata": {},
   "outputs": [
    {
     "data": {
      "text/plain": [
       "(1, 'hello', 3.14, True)"
      ]
     },
     "execution_count": 10,
     "metadata": {},
     "output_type": "execute_result"
    }
   ],
   "source": [
    "tuple1=(1,'hello',3.14,True)\n",
    "tuple1"
   ]
  },
  {
   "cell_type": "code",
   "execution_count": 11,
   "id": "6caac6fe",
   "metadata": {},
   "outputs": [
    {
     "name": "stdout",
     "output_type": "stream",
     "text": [
      "<class 'tuple'>\n",
      "<class 'str'>\n"
     ]
    }
   ],
   "source": [
    "a=('apple',)\n",
    "print(type(a))\n",
    "\n",
    "a=('cherry')\n",
    "print(type(a))"
   ]
  },
  {
   "cell_type": "markdown",
   "id": "58ea3095",
   "metadata": {},
   "source": [
    "*type*"
   ]
  },
  {
   "cell_type": "code",
   "execution_count": 11,
   "id": "10c4c622",
   "metadata": {},
   "outputs": [
    {
     "data": {
      "text/plain": [
       "tuple"
      ]
     },
     "execution_count": 11,
     "metadata": {},
     "output_type": "execute_result"
    }
   ],
   "source": [
    "type(tuple1)"
   ]
  },
  {
   "cell_type": "code",
   "execution_count": 12,
   "id": "097df4cd",
   "metadata": {},
   "outputs": [
    {
     "data": {
      "text/plain": [
       "(1, 'morning', 2.14, True)"
      ]
     },
     "execution_count": 12,
     "metadata": {},
     "output_type": "execute_result"
    }
   ],
   "source": [
    "my_tuple=(1,'morning',2.14,True)\n",
    "my_tuple"
   ]
  },
  {
   "cell_type": "code",
   "execution_count": 13,
   "id": "81f0ab63",
   "metadata": {},
   "outputs": [
    {
     "data": {
      "text/plain": [
       "4"
      ]
     },
     "execution_count": 13,
     "metadata": {},
     "output_type": "execute_result"
    }
   ],
   "source": [
    "len(my_tuple)"
   ]
  },
  {
   "cell_type": "markdown",
   "id": "7f4f236e",
   "metadata": {},
   "source": [
    "*min-max*"
   ]
  },
  {
   "cell_type": "code",
   "execution_count": 17,
   "id": "faf8e22d",
   "metadata": {},
   "outputs": [
    {
     "name": "stdout",
     "output_type": "stream",
     "text": [
      "maxmium value: 18\n",
      "minimum value: 2\n"
     ]
    }
   ],
   "source": [
    "num_tuple=(2,3,5,15,18,9)\n",
    "max_value=max(num_tuple)\n",
    "min_value=min(num_tuple)\n",
    "\n",
    "print('maxmium value:',max_value)\n",
    "print('minimum value:',min_value)\n"
   ]
  },
  {
   "cell_type": "markdown",
   "id": "06e1ef4d",
   "metadata": {},
   "source": [
    "*concatenation*"
   ]
  },
  {
   "cell_type": "code",
   "execution_count": 18,
   "id": "53f08b84",
   "metadata": {},
   "outputs": [
    {
     "name": "stdout",
     "output_type": "stream",
     "text": [
      "concatenated tuple (3, 6, 7, 'apple', 3, 'cherry')\n"
     ]
    }
   ],
   "source": [
    "t1=(3,6,7)\n",
    "t2=('apple',3,'cherry')\n",
    "concat=t1+t2\n",
    "\n",
    "print('concatenated tuple',concat)"
   ]
  },
  {
   "cell_type": "markdown",
   "id": "f0e75a6b",
   "metadata": {},
   "source": [
    "*in*"
   ]
  },
  {
   "cell_type": "code",
   "execution_count": 22,
   "id": "281da03a",
   "metadata": {},
   "outputs": [
    {
     "name": "stdout",
     "output_type": "stream",
     "text": [
      "True\n",
      "False\n"
     ]
    }
   ],
   "source": [
    "tuple=('google',2,4,'cherry','too','new','morning')\n",
    "print('cherry' in tuple)\n",
    "print('jhbuhb' in tuple)"
   ]
  },
  {
   "cell_type": "markdown",
   "id": "54e109b2",
   "metadata": {},
   "source": [
    "*multiplcation-subraction-division*"
   ]
  },
  {
   "cell_type": "code",
   "execution_count": 27,
   "id": "ae90097b",
   "metadata": {},
   "outputs": [
    {
     "name": "stdout",
     "output_type": "stream",
     "text": [
      "mulitiplication (repeating tuple1): (4, 6, 8, 4, 6, 8, 4, 6, 8)\n",
      "addition(adding tuple1 and tuple2): (4, 6, 8, 1, 2, 3)\n"
     ]
    }
   ],
   "source": [
    "#creating two tuples:\n",
    "tuple1=(4,6,8)\n",
    "tuple2=(1,2,3)\n",
    "\n",
    "result_mulitply=tuple1*3\n",
    "\n",
    "result_add=tuple1+tuple2\n",
    "\n",
    "\n",
    "print('mulitiplication (repeating tuple1):',result_mulitply)\n",
    "\n",
    "print('addition(adding tuple1 and tuple2):',result_add)"
   ]
  },
  {
   "cell_type": "markdown",
   "id": "28271418",
   "metadata": {},
   "source": [
    "- unlike lists or arrays,tuples in python do not support direct mul,div,sub\n",
    "- tuples are immutable,meaning their elements cannot be changed after creation.\n",
    "- operations like mul and sub that would modify the elements are not applicable to tuples."
   ]
  },
  {
   "cell_type": "markdown",
   "id": "079c082f",
   "metadata": {},
   "source": [
    "- indexing"
   ]
  },
  {
   "cell_type": "code",
   "execution_count": 2,
   "id": "480d8669",
   "metadata": {},
   "outputs": [
    {
     "name": "stdout",
     "output_type": "stream",
     "text": [
      "the frist element: 0\n",
      "the last element: 8.0\n",
      "the data type of the second element: <class 'list'>\n"
     ]
    }
   ],
   "source": [
    "a_tuple=(0,[1,2,3],(5,6,7),8.0)\n",
    "print('the frist element:',a_tuple[0])\n",
    "print('the last element:',a_tuple[-1])\n",
    "print('the data type of the second element:',type(a_tuple[1]))"
   ]
  },
  {
   "cell_type": "markdown",
   "id": "88fe4069",
   "metadata": {},
   "source": [
    "*slicing*"
   ]
  },
  {
   "cell_type": "markdown",
   "id": "b0cb2c1a",
   "metadata": {},
   "source": [
    "- slicing a tuple is as simple as slicing a python string or a list with the same rules.\n",
    "- to get a range of elements within a tuple.\n",
    "- we can specify a range of indices to retrieve by selecting.\n",
    "- where to start (inclusive) and end(exclusive) the range."
   ]
  },
  {
   "cell_type": "code",
   "execution_count": 5,
   "id": "dbd3a352",
   "metadata": {},
   "outputs": [
    {
     "name": "stdout",
     "output_type": "stream",
     "text": [
      "(3, 55, 7, 8)\n",
      "(8, 0, 3)\n",
      "(3, 55, 7)\n",
      "(7, 8)\n"
     ]
    }
   ],
   "source": [
    "a_tuple=3,55,7,8,0,3\n",
    "print(a_tuple[:4])\n",
    "print(a_tuple[-3:])\n",
    "print(a_tuple[:3])\n",
    "print(a_tuple[2:4])"
   ]
  },
  {
   "cell_type": "markdown",
   "id": "b9c78688",
   "metadata": {},
   "source": [
    "*tuple count() method*"
   ]
  },
  {
   "cell_type": "code",
   "execution_count": 7,
   "id": "33c75184",
   "metadata": {},
   "outputs": [
    {
     "name": "stdout",
     "output_type": "stream",
     "text": [
      "2\n"
     ]
    }
   ],
   "source": [
    "thistuple=(1,3,5,7,3,5,7,8,8,3)\n",
    "a=thistuple.count(8)\n",
    "print(a)"
   ]
  },
  {
   "cell_type": "markdown",
   "id": "dec248de",
   "metadata": {},
   "source": [
    "*tuple index() method*"
   ]
  },
  {
   "cell_type": "code",
   "execution_count": 8,
   "id": "c4abf95f",
   "metadata": {},
   "outputs": [
    {
     "name": "stdout",
     "output_type": "stream",
     "text": [
      "7\n"
     ]
    }
   ],
   "source": [
    "thistuple=(1,3,5,7,3,5,7,8,8,3)\n",
    "a=thistuple.index(8)\n",
    "print(a)"
   ]
  },
  {
   "cell_type": "code",
   "execution_count": 15,
   "id": "7ec3f612",
   "metadata": {},
   "outputs": [
    {
     "ename": "SyntaxError",
     "evalue": "invalid syntax (2157364990.py, line 6)",
     "output_type": "error",
     "traceback": [
      "\u001b[1;36m  Cell \u001b[1;32mIn[15], line 6\u001b[1;36m\u001b[0m\n\u001b[1;33m    i + = 1\u001b[0m\n\u001b[1;37m        ^\u001b[0m\n\u001b[1;31mSyntaxError\u001b[0m\u001b[1;31m:\u001b[0m invalid syntax\n"
     ]
    }
   ],
   "source": [
    "i = 1\n",
    "while True:\n",
    "    if i%3 == 0:\n",
    "        break\n",
    "    print(i)\n",
    "    i + = 1"
   ]
  },
  {
   "cell_type": "code",
   "execution_count": null,
   "id": "1a471cb1",
   "metadata": {},
   "outputs": [],
   "source": []
  }
 ],
 "metadata": {
  "kernelspec": {
   "display_name": "Python 3 (ipykernel)",
   "language": "python",
   "name": "python3"
  },
  "language_info": {
   "codemirror_mode": {
    "name": "ipython",
    "version": 3
   },
   "file_extension": ".py",
   "mimetype": "text/x-python",
   "name": "python",
   "nbconvert_exporter": "python",
   "pygments_lexer": "ipython3",
   "version": "3.11.5"
  }
 },
 "nbformat": 4,
 "nbformat_minor": 5
}
