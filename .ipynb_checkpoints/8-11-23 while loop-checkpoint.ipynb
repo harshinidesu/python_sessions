{
 "cells": [
  {
   "cell_type": "markdown",
   "id": "4ad835c7",
   "metadata": {},
   "source": [
    "**while loop**"
   ]
  },
  {
   "cell_type": "code",
   "execution_count": null,
   "id": "1c8f394a",
   "metadata": {},
   "outputs": [],
   "source": [
    "# i am modifing the code"
   ]
  },
  {
   "cell_type": "code",
   "execution_count": null,
   "id": "e09adb8b",
   "metadata": {},
   "outputs": [],
   "source": [
    "in while loop we need to provide all things individually"
   ]
  },
  {
   "cell_type": "code",
   "execution_count": null,
   "id": "eeb6ca2c",
   "metadata": {},
   "outputs": [],
   "source": [
    "# i want print first 10 numbers 0 to 9\n",
    "#  intial point= 0\n",
    "#increment\n",
    "#condition: whenver i will se value 9 then i wil stop the loop\n",
    "\n",
    "#wrapper\n",
    "\n",
    "i=0       #intial point\n",
    "while <condition>:\n",
    "    #st1\n",
    "    #st2\n",
    "    #st3\n",
    "    \n",
    "    i=i+1"
   ]
  },
  {
   "cell_type": "code",
   "execution_count": 2,
   "id": "93a69a76",
   "metadata": {},
   "outputs": [
    {
     "name": "stdout",
     "output_type": "stream",
     "text": [
      "0 1 2 3 4 5 6 7 8 9 "
     ]
    }
   ],
   "source": [
    " #i want print first 10 numbers 0 to 9\n",
    "for i in range(10):\n",
    "    print(i,end=\" \")"
   ]
  },
  {
   "cell_type": "code",
   "execution_count": null,
   "id": "bf642e1c",
   "metadata": {},
   "outputs": [],
   "source": [
    "i=0\n",
    "while<condition>:\n",
    "    print(i,end=' ')\n",
    "    i=i+1"
   ]
  },
  {
   "cell_type": "code",
   "execution_count": 3,
   "id": "055c1e6d",
   "metadata": {},
   "outputs": [
    {
     "name": "stdout",
     "output_type": "stream",
     "text": [
      "0 1 2 3 4 5 6 7 8 9 "
     ]
    }
   ],
   "source": [
    "i=0\n",
    "while i<10:\n",
    "    print(i,end=\" \")\n",
    "    i=i+1"
   ]
  },
  {
   "cell_type": "markdown",
   "id": "71af2753",
   "metadata": {},
   "source": [
    "- if you want aviod infinte loop,give proper a condition\n",
    "- based on given question\n",
    "- even though the conditon is vailid,you can enter inside the loop\n",
    "- but you never come out of t"
   ]
  },
  {
   "cell_type": "code",
   "execution_count": 5,
   "id": "4573b36d",
   "metadata": {},
   "outputs": [
    {
     "name": "stdout",
     "output_type": "stream",
     "text": [
      "10 11 12 13 14 15 16 17 18 19 "
     ]
    }
   ],
   "source": [
    "i=10\n",
    "while i<20:\n",
    "    print(i,end=' ')\n",
    "    i=i+1"
   ]
  },
  {
   "cell_type": "code",
   "execution_count": 11,
   "id": "52186aa1",
   "metadata": {},
   "outputs": [
    {
     "name": "stdout",
     "output_type": "stream",
     "text": [
      "-1 -2 -3 -4 -5 -6 -7 -8 -9 "
     ]
    }
   ],
   "source": [
    "i=-1\n",
    "while i>-10:\n",
    "    print(i,end=' ')\n",
    "    i=i-1"
   ]
  },
  {
   "cell_type": "code",
   "execution_count": 14,
   "id": "771fb628",
   "metadata": {},
   "outputs": [
    {
     "name": "stdout",
     "output_type": "stream",
     "text": [
      "-1 -2 -3 -4 -5 -6 -7 -8 -9 -10 "
     ]
    }
   ],
   "source": [
    "i=-1\n",
    "while True:\n",
    "    print(i,end=' ')\n",
    "    i=i-1\n",
    "    if i==-11:\n",
    "        break"
   ]
  },
  {
   "cell_type": "code",
   "execution_count": null,
   "id": "c3a87830",
   "metadata": {},
   "outputs": [],
   "source": [
    "# by mistake you provided not a vadid condition\n",
    "#then your loop is going infinte\n",
    "#then provide a if condition inside the loop\n",
    "\n",
    "#suppose you are not good at providingcondition\n",
    "#then apply while True==== then provide the if condition\n",
    "#inside the loop"
   ]
  },
  {
   "cell_type": "code",
   "execution_count": null,
   "id": "047a3a36",
   "metadata": {},
   "outputs": [],
   "source": [
    "###################Infinte loop###################\n",
    "\n",
    "i=0\n",
    "while i>=0:\n",
    "    print(i,end=' ')\n",
    "    i=i+1"
   ]
  },
  {
   "cell_type": "code",
   "execution_count": null,
   "id": "57f34484",
   "metadata": {},
   "outputs": [],
   "source": [
    "#ask the user enter a number 5 times\n",
    "#print the square of the number\n",
    "\n",
    "#frist do with for loop\n",
    "#then with while loop"
   ]
  },
  {
   "cell_type": "code",
   "execution_count": 17,
   "id": "3ffa8b75",
   "metadata": {},
   "outputs": [
    {
     "name": "stdout",
     "output_type": "stream",
     "text": [
      "enter the number4\n",
      "square of the number 16\n",
      "enter the number5\n",
      "square of the number 25\n",
      "enter the number6\n",
      "square of the number 36\n",
      "enter the number7\n",
      "square of the number 49\n",
      "enter the number5\n",
      "square of the number 25\n"
     ]
    }
   ],
   "source": [
    "for i in range(5):\n",
    "    num=eval(input('enter the number'))\n",
    "    sqr=num*num\n",
    "    print('square of the number',sqr)"
   ]
  },
  {
   "cell_type": "code",
   "execution_count": 1,
   "id": "4062132b",
   "metadata": {},
   "outputs": [
    {
     "name": "stdout",
     "output_type": "stream",
     "text": [
      "enter a number:4\n",
      "the square of 4 is16\n"
     ]
    }
   ],
   "source": [
    "i=0\n",
    "while True:\n",
    "    num=eval(input('enter a number:'))\n",
    "    print('the square of {} is{}'.format(num,num*num))\n",
    "    i=i+1\n",
    "    break"
   ]
  },
  {
   "cell_type": "code",
   "execution_count": null,
   "id": "33ed4442",
   "metadata": {},
   "outputs": [],
   "source": [
    "#wap take a random number betwwen 10 to 20,five times you need to take\n",
    "#and print the quare of the number"
   ]
  },
  {
   "cell_type": "code",
   "execution_count": 21,
   "id": "88927220",
   "metadata": {},
   "outputs": [
    {
     "name": "stdout",
     "output_type": "stream",
     "text": [
      "the square of 12 is144\n",
      "the square of 14 is196\n",
      "the square of 15 is225\n",
      "the square of 15 is225\n",
      "the square of 13 is169\n"
     ]
    }
   ],
   "source": [
    "import random\n",
    "for i in range(5):\n",
    "    \n",
    "    num=random.randint(10,20)\n",
    "    print('the square of {} is{}'.format(num,num*num))\n"
   ]
  },
  {
   "cell_type": "code",
   "execution_count": null,
   "id": "3ed308a0",
   "metadata": {},
   "outputs": [],
   "source": [
    "# wap ask the user print a number is an even or odd\n",
    "#consider number from 10 to 20\n"
   ]
  },
  {
   "cell_type": "code",
   "execution_count": 22,
   "id": "858d627a",
   "metadata": {},
   "outputs": [
    {
     "name": "stdout",
     "output_type": "stream",
     "text": [
      "the given10 is even\n",
      "the given11 is odd\n",
      "the given12 is even\n",
      "the given13 is odd\n",
      "the given14 is even\n",
      "the given15 is odd\n",
      "the given16 is even\n",
      "the given17 is odd\n",
      "the given18 is even\n",
      "the given19 is odd\n"
     ]
    }
   ],
   "source": [
    "for i in range(10,20):\n",
    "    if i%2==0:\n",
    "        print('the given{} is even'.format(i))\n",
    "    else:\n",
    "        print('the given{} is odd'.format(i))"
   ]
  },
  {
   "cell_type": "code",
   "execution_count": 33,
   "id": "b7a30749",
   "metadata": {},
   "outputs": [
    {
     "name": "stdout",
     "output_type": "stream",
     "text": [
      "the given10 is even\n",
      "the given11 is odd\n",
      "the given12 is even\n",
      "the given13 is odd\n",
      "the given14 is even\n",
      "the given15 is odd\n",
      "the given16 is even\n",
      "the given17 is odd\n",
      "the given18 is even\n",
      "the given19 is odd\n",
      "the given20 is even\n"
     ]
    }
   ],
   "source": [
    "i=10\n",
    "while i<21:\n",
    "\n",
    "    if i%2==0:\n",
    "        print('the given{} is even'.format(i))\n",
    "    else:\n",
    "        print('the given{} is odd'.format(i))\n",
    "        \n",
    "    i=i+1"
   ]
  },
  {
   "cell_type": "code",
   "execution_count": 37,
   "id": "4ad6b6b1",
   "metadata": {},
   "outputs": [
    {
     "name": "stdout",
     "output_type": "stream",
     "text": [
      "the frist 10 natrual number is: 1\n",
      "the frist 10 natrual number is: 3\n",
      "the frist 10 natrual number is: 6\n",
      "the frist 10 natrual number is: 10\n",
      "the frist 10 natrual number is: 15\n",
      "the frist 10 natrual number is: 21\n",
      "the frist 10 natrual number is: 28\n",
      "the frist 10 natrual number is: 36\n",
      "the frist 10 natrual number is: 45\n",
      "the frist 10 natrual number is: 55\n"
     ]
    }
   ],
   "source": [
    "#print sum of frist 10 natural number\n",
    "#ans =55\n",
    "sumn=0\n",
    "for i in range(1,11):\n",
    "    sumn=sumn+i\n",
    "    print('the frist 10 natrual number is:',sumn)"
   ]
  },
  {
   "cell_type": "code",
   "execution_count": 40,
   "id": "f9887c76",
   "metadata": {},
   "outputs": [
    {
     "name": "stdout",
     "output_type": "stream",
     "text": [
      "1\n",
      "3\n",
      "6\n",
      "10\n",
      "15\n",
      "21\n",
      "28\n",
      "36\n",
      "45\n",
      "55\n"
     ]
    }
   ],
   "source": [
    "i=1\n",
    "summ=0\n",
    "while i<11:\n",
    "    summ+=i\n",
    "    i=i+1\n",
    "    \n",
    "    print(summ)"
   ]
  },
  {
   "cell_type": "code",
   "execution_count": null,
   "id": "8fe5fa59",
   "metadata": {},
   "outputs": [],
   "source": [
    "#wap get 10 random number :between 1 to 100\n",
    "#and sum those numbers"
   ]
  },
  {
   "cell_type": "code",
   "execution_count": 42,
   "id": "9eafe16a",
   "metadata": {},
   "outputs": [
    {
     "name": "stdout",
     "output_type": "stream",
     "text": [
      "642\n"
     ]
    }
   ],
   "source": [
    "import random\n",
    "summ=0\n",
    "for i in range(10):\n",
    "    r=random.randint(1,100)\n",
    "    summ=summ+r\n",
    "print(summ)"
   ]
  },
  {
   "cell_type": "code",
   "execution_count": 55,
   "id": "d1115eca",
   "metadata": {},
   "outputs": [
    {
     "name": "stdout",
     "output_type": "stream",
     "text": [
      "489\n"
     ]
    }
   ],
   "source": [
    "import random\n",
    "i=0\n",
    "summ=0\n",
    "while i<10:\n",
    "    num=random.randint(1,100)\n",
    "    summ=summ+num\n",
    "    i=i+1\n",
    "print(summ)"
   ]
  },
  {
   "cell_type": "code",
   "execution_count": null,
   "id": "7666e672",
   "metadata": {},
   "outputs": [],
   "source": [
    "# wap ask the user get a 10 random number betwwen 10 to 100\n",
    "#count hoe many are greater than 50"
   ]
  },
  {
   "cell_type": "code",
   "execution_count": 47,
   "id": "f22ee44a",
   "metadata": {},
   "outputs": [
    {
     "name": "stdout",
     "output_type": "stream",
     "text": [
      "60 51 88 73 77 58 54 81 63 95 96 65 55 85 95 92 73 82 77 74 79 85 60 52 67 97 96 91 83 93 65 90 74 69 61 90 89 59 73 92 92 71 77 73 71 81 60 64 68 99 91 95 61 69 62 99 85 89 /\n",
      "58\n"
     ]
    }
   ],
   "source": [
    "i=0\n",
    "count=0\n",
    "while i<100:\n",
    "    num=random.randint(10,100)\n",
    "    if num>50:\n",
    "        print(num,end=' ')\n",
    "        count+=1\n",
    "    i=i+1\n",
    "print('/')\n",
    "print(count)"
   ]
  },
  {
   "cell_type": "code",
   "execution_count": null,
   "id": "e04b9c1c",
   "metadata": {},
   "outputs": [],
   "source": [
    "#wap ask the user get a 10 random number between0 to 10\n",
    "#count how many are greater then 5 and equal=0"
   ]
  },
  {
   "cell_type": "code",
   "execution_count": 48,
   "id": "94e5a591",
   "metadata": {},
   "outputs": [
    {
     "name": "stdout",
     "output_type": "stream",
     "text": [
      "7 0 66 23 57 19 43 90 17 98 10\n"
     ]
    }
   ],
   "source": [
    "i=0\n",
    "count=0\n",
    "while i<10:\n",
    "    num=random.randint(0,100)\n",
    "    if num>5 or num==0:\n",
    "        print(num,end=' ')\n",
    "        count+=1\n",
    "    i=i+1\n",
    "print(count)"
   ]
  },
  {
   "cell_type": "code",
   "execution_count": null,
   "id": "964430f1",
   "metadata": {},
   "outputs": [],
   "source": [
    "#wap ask the user get a 10 random number between0 to 10\n",
    "# twocount how many are greater then 5 \n",
    "# how many are equal=0"
   ]
  },
  {
   "cell_type": "code",
   "execution_count": 51,
   "id": "23aff8ac",
   "metadata": {},
   "outputs": [
    {
     "name": "stdout",
     "output_type": "stream",
     "text": [
      "48 58 20 57 97 19 46 35 86 "
     ]
    }
   ],
   "source": [
    "#i=0\n",
    "#count_5=0\n",
    "#count_0=0\n",
    "i=count_5=count_0=0\n",
    "while i<10:\n",
    "    num=random.randint(0,100)\n",
    "    if num>5:\n",
    "        \n",
    "        print(num,end=' ')\n",
    "        count_5+=1\n",
    "    elif num==0:\n",
    "        print(num,end=' ')\n",
    "        count_0+=1\n",
    "    i=i+1"
   ]
  },
  {
   "cell_type": "code",
   "execution_count": null,
   "id": "b22867a6",
   "metadata": {},
   "outputs": [],
   "source": [
    "#========== you need to repeat 3 times ===========\n",
    "#ask the user enter a number between 1 to10\n",
    "#if the number==random number:\n",
    "#          print('you won')\n",
    "#else\n",
    "#    print(you lost)           #with   while condition"
   ]
  },
  {
   "cell_type": "code",
   "execution_count": 7,
   "id": "b61639b3",
   "metadata": {},
   "outputs": [
    {
     "name": "stdout",
     "output_type": "stream",
     "text": [
      "enter number between 1 and 10:8\n",
      "you lost\n",
      "enter number between 1 and 10:8\n",
      "you lost\n",
      "enter number between 1 and 10:8\n",
      "you lost\n"
     ]
    }
   ],
   "source": [
    "i=0\n",
    "import random\n",
    "while i<3:\n",
    "    random_num=random.randint(1,10)\n",
    "    user_num=eval(input('enter number between 1 and 10:'))\n",
    "    if user_num==random_num:\n",
    "        print('you won')\n",
    "        break\n",
    "    else:\n",
    "        print('you lost')\n",
    "        i=i+1"
   ]
  },
  {
   "cell_type": "code",
   "execution_count": null,
   "id": "e2c498da",
   "metadata": {},
   "outputs": [],
   "source": []
  },
  {
   "cell_type": "code",
   "execution_count": null,
   "id": "46327571",
   "metadata": {},
   "outputs": [],
   "source": []
  },
  {
   "cell_type": "code",
   "execution_count": null,
   "id": "18537939",
   "metadata": {},
   "outputs": [],
   "source": []
  }
 ],
 "metadata": {
  "kernelspec": {
   "display_name": "Python 3 (ipykernel)",
   "language": "python",
   "name": "python3"
  },
  "language_info": {
   "codemirror_mode": {
    "name": "ipython",
    "version": 3
   },
   "file_extension": ".py",
   "mimetype": "text/x-python",
   "name": "python",
   "nbconvert_exporter": "python",
   "pygments_lexer": "ipython3",
   "version": "3.11.5"
  }
 },
 "nbformat": 4,
 "nbformat_minor": 5
}
