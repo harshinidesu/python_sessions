{
 "cells": [
  {
   "cell_type": "code",
   "execution_count": 1,
   "id": "df7ab63b",
   "metadata": {},
   "outputs": [
    {
     "data": {
      "text/plain": [
       "30"
      ]
     },
     "execution_count": 1,
     "metadata": {},
     "output_type": "execute_result"
    }
   ],
   "source": [
    "def add(x):\n",
    "    return(x+10)\n",
    "add(20)"
   ]
  },
  {
   "cell_type": "code",
   "execution_count": 2,
   "id": "5819cc96",
   "metadata": {},
   "outputs": [
    {
     "data": {
      "text/plain": [
       "30"
      ]
     },
     "execution_count": 2,
     "metadata": {},
     "output_type": "execute_result"
    }
   ],
   "source": [
    "def add(x):\n",
    "    summ=x+10\n",
    "    return(summ)\n",
    "add(20)"
   ]
  },
  {
   "cell_type": "code",
   "execution_count": null,
   "id": "a8c88fb7",
   "metadata": {},
   "outputs": [],
   "source": [
    "def add(x):\n",
    "    return(x+10)\n",
    "add(20)\n",
    "\n",
    "\n",
    "#how many arguments are present?   x\n",
    "#what you are returning?:    x+10\n",
    "\n",
    "\n",
    "lambda<argument>:<output>"
   ]
  },
  {
   "cell_type": "code",
   "execution_count": 3,
   "id": "839a9f57",
   "metadata": {},
   "outputs": [
    {
     "data": {
      "text/plain": [
       "40"
      ]
     },
     "execution_count": 3,
     "metadata": {},
     "output_type": "execute_result"
    }
   ],
   "source": [
    "add=lambda x:x+10\n",
    "add(30)"
   ]
  },
  {
   "cell_type": "markdown",
   "id": "0b6924f3",
   "metadata": {},
   "source": [
    "*one argument*"
   ]
  },
  {
   "cell_type": "code",
   "execution_count": 4,
   "id": "46e8cf7a",
   "metadata": {},
   "outputs": [
    {
     "data": {
      "text/plain": [
       "484"
      ]
     },
     "execution_count": 4,
     "metadata": {},
     "output_type": "execute_result"
    }
   ],
   "source": [
    "square=lambda x:x*x\n",
    "square(22)"
   ]
  },
  {
   "cell_type": "code",
   "execution_count": 5,
   "id": "3493597d",
   "metadata": {},
   "outputs": [
    {
     "data": {
      "text/plain": [
       "512"
      ]
     },
     "execution_count": 5,
     "metadata": {},
     "output_type": "execute_result"
    }
   ],
   "source": [
    "cube=lambda a:a*a*a\n",
    "cube(8)"
   ]
  },
  {
   "cell_type": "markdown",
   "id": "3babff80",
   "metadata": {},
   "source": [
    "*two arguments*"
   ]
  },
  {
   "cell_type": "code",
   "execution_count": 6,
   "id": "61d08e03",
   "metadata": {},
   "outputs": [
    {
     "data": {
      "text/plain": [
       "53"
      ]
     },
     "execution_count": 6,
     "metadata": {},
     "output_type": "execute_result"
    }
   ],
   "source": [
    "add=lambda a,b:a+b\n",
    "add(20,33)"
   ]
  },
  {
   "cell_type": "code",
   "execution_count": 10,
   "id": "6a5883d9",
   "metadata": {},
   "outputs": [
    {
     "data": {
      "text/plain": [
       "4.333333333333333"
      ]
     },
     "execution_count": 10,
     "metadata": {},
     "output_type": "execute_result"
    }
   ],
   "source": [
    "avg=lambda a,b,c:(a+b+c)/3\n",
    "avg(5,3,5)"
   ]
  },
  {
   "cell_type": "code",
   "execution_count": 11,
   "id": "d7cd548e",
   "metadata": {},
   "outputs": [
    {
     "data": {
      "text/plain": [
       "12.666666666666666"
      ]
     },
     "execution_count": 11,
     "metadata": {},
     "output_type": "execute_result"
    }
   ],
   "source": [
    "#implement avg make c as default parameter\n",
    "avg=lambda a,b,c=30:(a+b+c)/3\n",
    "avg(5,3,)"
   ]
  },
  {
   "cell_type": "code",
   "execution_count": 12,
   "id": "1a47494a",
   "metadata": {},
   "outputs": [
    {
     "data": {
      "text/plain": [
       "(26.666666666666668, 2)"
      ]
     },
     "execution_count": 12,
     "metadata": {},
     "output_type": "execute_result"
    }
   ],
   "source": [
    "avg=lambda a,b,c=30:((a+b+c)/3,2)\n",
    "avg(20,30)"
   ]
  },
  {
   "cell_type": "code",
   "execution_count": 26,
   "id": "b1aeafc6",
   "metadata": {},
   "outputs": [
    {
     "data": {
      "text/plain": [
       "26.7"
      ]
     },
     "execution_count": 26,
     "metadata": {},
     "output_type": "execute_result"
    }
   ],
   "source": [
    "round(26.66666,1)"
   ]
  },
  {
   "cell_type": "markdown",
   "id": "d459793b",
   "metadata": {},
   "source": [
    "*if-else*"
   ]
  },
  {
   "cell_type": "code",
   "execution_count": 14,
   "id": "0cddcbf4",
   "metadata": {},
   "outputs": [
    {
     "data": {
      "text/plain": [
       "200"
      ]
     },
     "execution_count": 14,
     "metadata": {},
     "output_type": "execute_result"
    }
   ],
   "source": [
    "#create a function for finding greater number between two number\n",
    "def greater(a,b):\n",
    "    if a>b:\n",
    "        return(a)\n",
    "    else:\n",
    "        return(b)\n",
    "    \n",
    "greater(100,200)\n",
    "\n"
   ]
  },
  {
   "cell_type": "code",
   "execution_count": 17,
   "id": "d196c2f5",
   "metadata": {},
   "outputs": [
    {
     "data": {
      "text/plain": [
       "[200]"
      ]
     },
     "execution_count": 17,
     "metadata": {},
     "output_type": "execute_result"
    }
   ],
   "source": [
    "l1=[]\n",
    "def greater(a,b):\n",
    "    if a>b:\n",
    "        l1.append(a)\n",
    "    else:\n",
    "        l1.append(b)\n",
    "    \n",
    "greater(100,200)\n",
    "l1"
   ]
  },
  {
   "cell_type": "code",
   "execution_count": 18,
   "id": "3126a49c",
   "metadata": {},
   "outputs": [
    {
     "data": {
      "text/plain": [
       "200"
      ]
     },
     "execution_count": 18,
     "metadata": {},
     "output_type": "execute_result"
    }
   ],
   "source": [
    "greater=lambda a,b:(a if a>b else b)\n",
    "greater(100,200)"
   ]
  },
  {
   "cell_type": "code",
   "execution_count": 23,
   "id": "4ba55416",
   "metadata": {},
   "outputs": [
    {
     "data": {
      "text/plain": [
       "100"
      ]
     },
     "execution_count": 23,
     "metadata": {},
     "output_type": "execute_result"
    }
   ],
   "source": [
    "import random\n",
    "num=random.randint(10,100)\n",
    "even_odd=lambda even,odd:(even if num%2==0 else odd)\n",
    "even_odd(10,100)"
   ]
  },
  {
   "cell_type": "code",
   "execution_count": 27,
   "id": "f49bcb24",
   "metadata": {},
   "outputs": [
    {
     "data": {
      "text/plain": [
       "33"
      ]
     },
     "execution_count": 27,
     "metadata": {},
     "output_type": "execute_result"
    }
   ],
   "source": [
    "greater=lambda a,b,c:a if(a>b and a>c) else (b if b>c else c )\n",
    "greater(20,33,3)"
   ]
  },
  {
   "cell_type": "code",
   "execution_count": 28,
   "id": "21f0c89c",
   "metadata": {},
   "outputs": [
    {
     "data": {
      "text/plain": [
       "(81, 729)"
      ]
     },
     "execution_count": 28,
     "metadata": {},
     "output_type": "execute_result"
    }
   ],
   "source": [
    "def square(a):\n",
    "    return(a**2,a**3)\n",
    "square(9)"
   ]
  },
  {
   "cell_type": "code",
   "execution_count": 29,
   "id": "cbf10802",
   "metadata": {},
   "outputs": [
    {
     "data": {
      "text/plain": [
       "(100, 1000)"
      ]
     },
     "execution_count": 29,
     "metadata": {},
     "output_type": "execute_result"
    }
   ],
   "source": [
    "square=lambda a:(a**2,a**3)\n",
    "square(10)"
   ]
  },
  {
   "cell_type": "code",
   "execution_count": 30,
   "id": "ea0469a5",
   "metadata": {},
   "outputs": [
    {
     "name": "stdout",
     "output_type": "stream",
     "text": [
      "22 is even\n",
      "24 is even\n",
      "33 is odd\n",
      "53 is odd\n",
      "66 is even\n",
      "67 is odd\n"
     ]
    }
   ],
   "source": [
    "number=[22,24,33,53,66,67]\n",
    "for num in number:\n",
    "    if(lambda x: x%2==0)(num):\n",
    "        print(f'{num} is even')\n",
    "    else:\n",
    "        print(f'{num} is odd')"
   ]
  },
  {
   "cell_type": "code",
   "execution_count": 33,
   "id": "44dfe13c",
   "metadata": {},
   "outputs": [
    {
     "ename": "IndentationError",
     "evalue": "unexpected indent (3409939373.py, line 7)",
     "output_type": "error",
     "traceback": [
      "\u001b[1;36m  Cell \u001b[1;32mIn[33], line 7\u001b[1;36m\u001b[0m\n\u001b[1;33m    break\u001b[0m\n\u001b[1;37m    ^\u001b[0m\n\u001b[1;31mIndentationError\u001b[0m\u001b[1;31m:\u001b[0m unexpected indent\n"
     ]
    }
   ],
   "source": [
    "import random\n",
    "for i in range(5):\n",
    "    num=random.randint(10,30)\n",
    "    for i in range(num):\n",
    "        if (lambda x: x%2==0)(num):\n",
    "            print(f'{num} is even')\n",
    "             break\n",
    "        else:\n",
    "            print(f'{num} is odd')\n",
    "              break"
   ]
  },
  {
   "cell_type": "markdown",
   "id": "3c940fb1",
   "metadata": {},
   "source": [
    "*24-11-2023*"
   ]
  },
  {
   "cell_type": "code",
   "execution_count": 4,
   "id": "84a88156",
   "metadata": {},
   "outputs": [
    {
     "name": "stdout",
     "output_type": "stream",
     "text": [
      "['Hyd', 'Mumbai', 'Chennai']\n"
     ]
    },
    {
     "data": {
      "text/plain": [
       "['Hyd', 'Mumbai', 'Chennai']"
      ]
     },
     "execution_count": 4,
     "metadata": {},
     "output_type": "execute_result"
    }
   ],
   "source": [
    "list1=['hyd','mumbai','chennai']\n",
    "#output: ['hyd','mumbai','chennai']\n",
    "# m-1: use append method\n",
    "# m-2: use list comprhenshion\n",
    "list2=[]\n",
    "for i in list1:\n",
    "    list2.append(i.capitalize())\n",
    "print(list2)\n",
    "#use list comprhenshion\n",
    "[i.capitalize() for i in list1]"
   ]
  },
  {
   "cell_type": "code",
   "execution_count": null,
   "id": "4e34942f",
   "metadata": {},
   "outputs": [],
   "source": [
    "lambda<arguments>: <output>,<iterator>"
   ]
  },
  {
   "cell_type": "code",
   "execution_count": 6,
   "id": "da8b7fd7",
   "metadata": {},
   "outputs": [
    {
     "data": {
      "text/plain": [
       "<map at 0x14c57d39e40>"
      ]
     },
     "execution_count": 6,
     "metadata": {},
     "output_type": "execute_result"
    }
   ],
   "source": [
    "list1=['hyd','mumbai','chennai']\n",
    "map(lambda i:i.captalize(),list1)"
   ]
  },
  {
   "cell_type": "markdown",
   "id": "c79d1d1d",
   "metadata": {},
   "source": [
    "- store the output\n",
    "- frist make a lambda function\n",
    "- second add your iterator\n",
    "- map both function and iterator\n",
    "- save the result in a list"
   ]
  },
  {
   "cell_type": "code",
   "execution_count": 7,
   "id": "698e84bc",
   "metadata": {},
   "outputs": [
    {
     "data": {
      "text/plain": [
       "['Hyd', 'Mumbai', 'Chennai']"
      ]
     },
     "execution_count": 7,
     "metadata": {},
     "output_type": "execute_result"
    }
   ],
   "source": [
    "list(map(lambda i:i.capitalize(),list1))\n",
    "\n"
   ]
  },
  {
   "cell_type": "code",
   "execution_count": 8,
   "id": "5b9d68e2",
   "metadata": {},
   "outputs": [
    {
     "data": {
      "text/plain": [
       "['Hyd', 'Mumbai', 'Chennai']"
      ]
     },
     "execution_count": 8,
     "metadata": {},
     "output_type": "execute_result"
    }
   ],
   "source": [
    "list1=['hyd','mumbai','chennai']\n",
    "lambda i:i.captalize(),list1\n",
    "map(lambda i:i.captalize(),list1)\n",
    "list(map(lambda i:i.capitalize(),list1))\n"
   ]
  },
  {
   "cell_type": "code",
   "execution_count": 15,
   "id": "4e509c23",
   "metadata": {},
   "outputs": [
    {
     "ename": "IndentationError",
     "evalue": "unexpected indent (3040264008.py, line 3)",
     "output_type": "error",
     "traceback": [
      "\u001b[1;36m  Cell \u001b[1;32mIn[15], line 3\u001b[1;36m\u001b[0m\n\u001b[1;33m    for i in map(lambda i:i*i,list1):\u001b[0m\n\u001b[1;37m    ^\u001b[0m\n\u001b[1;31mIndentationError\u001b[0m\u001b[1;31m:\u001b[0m unexpected indent\n"
     ]
    }
   ],
   "source": [
    "list1=[1,2,3,4,5]\n",
    "lambda i:i*i,list1\n",
    "      for i in map(lambda i:i*i,list1):\n",
    "           print(i)\n"
   ]
  },
  {
   "cell_type": "code",
   "execution_count": null,
   "id": "06e74a29",
   "metadata": {},
   "outputs": [],
   "source": [
    "-next thing is map input and output"
   ]
  },
  {
   "cell_type": "code",
   "execution_count": 16,
   "id": "2ccf87cf",
   "metadata": {},
   "outputs": [
    {
     "data": {
      "text/plain": [
       "[1, 4, 9, 16, 25]"
      ]
     },
     "execution_count": 16,
     "metadata": {},
     "output_type": "execute_result"
    }
   ],
   "source": [
    "lambda i:i*i,list1\n",
    "map(lambda i:i*i,list1)\n",
    "list(map(lambda i:i*i,list1))"
   ]
  },
  {
   "cell_type": "code",
   "execution_count": 18,
   "id": "612fd8d8",
   "metadata": {},
   "outputs": [
    {
     "name": "stdout",
     "output_type": "stream",
     "text": [
      "12\n",
      "24\n",
      "36\n"
     ]
    }
   ],
   "source": [
    "list1=[1,2,3]\n",
    "list2=[11,22,33]\n",
    "for i,j in zip(list1,list2):\n",
    "        print(i+j)"
   ]
  },
  {
   "cell_type": "code",
   "execution_count": 19,
   "id": "5bf0fa7e",
   "metadata": {},
   "outputs": [
    {
     "data": {
      "text/plain": [
       "[12, 24, 36]"
      ]
     },
     "execution_count": 19,
     "metadata": {},
     "output_type": "execute_result"
    }
   ],
   "source": [
    "lambda i,j:i+j,list1,list2\n",
    "map(lambda i,j:i+j,list1,list2)\n",
    "list(map(lambda i,j:i+j,list1,list2))"
   ]
  },
  {
   "cell_type": "code",
   "execution_count": 25,
   "id": "43ad285b",
   "metadata": {},
   "outputs": [
    {
     "name": "stdout",
     "output_type": "stream",
     "text": [
      "['h#d', 'mum#bai']\n"
     ]
    },
    {
     "data": {
      "text/plain": [
       "['h#d', 'mum#bai']"
      ]
     },
     "execution_count": 25,
     "metadata": {},
     "output_type": "execute_result"
    }
   ],
   "source": [
    "list1=['h#d','mum#bai','chennai']\n",
    "#['h#d','mum#bai']\n",
    "list2=[]\n",
    "for i in list1:\n",
    "    if '#' in i:\n",
    "        list2.append(i)\n",
    "print(list2)\n",
    "\n",
    "[i for i in list1 if '#' in i]"
   ]
  },
  {
   "cell_type": "code",
   "execution_count": 23,
   "id": "513c6458",
   "metadata": {},
   "outputs": [
    {
     "data": {
      "text/plain": [
       "[True, True, False]"
      ]
     },
     "execution_count": 23,
     "metadata": {},
     "output_type": "execute_result"
    }
   ],
   "source": [
    "list1=['h#d','mum#bai','chennai']\n",
    "lambda i: '#' in i,list1\n",
    "map(lambda i: '#' in i,list1)\n",
    "list(map(lambda i: '#' in i,list1))"
   ]
  },
  {
   "cell_type": "code",
   "execution_count": 24,
   "id": "6c10c840",
   "metadata": {},
   "outputs": [
    {
     "data": {
      "text/plain": [
       "['h#d', 'mum#bai']"
      ]
     },
     "execution_count": 24,
     "metadata": {},
     "output_type": "execute_result"
    }
   ],
   "source": [
    "list(filter(lambda i: '#' in i,list1))"
   ]
  },
  {
   "cell_type": "code",
   "execution_count": null,
   "id": "ecf092cb",
   "metadata": {},
   "outputs": [],
   "source": [
    "lambda<argument>:<condition>,<iterator>"
   ]
  },
  {
   "cell_type": "code",
   "execution_count": null,
   "id": "59274781",
   "metadata": {},
   "outputs": [],
   "source": [
    "#connect chat gpt through python\n",
    "#we connect maker suite"
   ]
  }
 ],
 "metadata": {
  "kernelspec": {
   "display_name": "Python 3 (ipykernel)",
   "language": "python",
   "name": "python3"
  },
  "language_info": {
   "codemirror_mode": {
    "name": "ipython",
    "version": 3
   },
   "file_extension": ".py",
   "mimetype": "text/x-python",
   "name": "python",
   "nbconvert_exporter": "python",
   "pygments_lexer": "ipython3",
   "version": "3.11.5"
  }
 },
 "nbformat": 4,
 "nbformat_minor": 5
}
