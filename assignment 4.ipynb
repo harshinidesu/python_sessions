{
 "cells": [
  {
   "cell_type": "code",
   "execution_count": 1,
   "id": "645acbc6",
   "metadata": {},
   "outputs": [
    {
     "name": "stdout",
     "output_type": "stream",
     "text": [
      "enter the firm pay employee8\n",
      "the firm should pay the empolyee12 and37 is444\n"
     ]
    }
   ],
   "source": [
    "\n",
    "# 1 answer\n",
    "firm_pay=eval(input('enter the firm pay employee'))\n",
    "hourly_rate=12\n",
    "hours_worked=37\n",
    "total=hourly_rate*hours_worked\n",
    "print('the firm should pay the empolyee{} and{} is{}'.format(hourly_rate,hours_worked,total))\n"
   ]
  },
  {
   "cell_type": "markdown",
   "id": "d762d25b",
   "metadata": {},
   "source": [
    "#### Problem 2\n",
    "How about prompting the user for the number of hours and using the input value to compute the\n",
    "total pay? (Above problem use eval concept and sep concept)"
   ]
  },
  {
   "cell_type": "code",
   "execution_count": 3,
   "id": "963aa841",
   "metadata": {},
   "outputs": [
    {
     "name": "stdout",
     "output_type": "stream",
     "text": [
      "enter the amount of hours worked by the employee:8\n",
      "the amount to be paid by the firm to the employee is{} dollars\n",
      "12 8\n"
     ]
    }
   ],
   "source": [
    "rpa =12\n",
    "wph=eval(input('enter the amount of hours worked by the employee:'))\n",
    "pay=rpa*wph\n",
    "print('the amount to be paid by the firm to the employee is{} dollars')\n",
    "print(rpa,wph,sep=' ')"
   ]
  },
  {
   "cell_type": "markdown",
   "id": "993b96a3",
   "metadata": {},
   "source": [
    "For a certain academic subject the students are evaluated based on five tests - * Quiz 1 (20 marks - 10% Weight), * Quiz 2 (20 marks - 10% Weight), * Class test (50 marks - 25% Weight), * Assignment (100 marks - 25% weight) and\n",
    "* Project (200 marks - 30% weight).\n",
    "\n",
    "Design a program that will prompt the user for marks for each of the tests and calculate the overall\n",
    "marks (out of 100)."
   ]
  },
  {
   "cell_type": "code",
   "execution_count": 4,
   "id": "a2e8e124",
   "metadata": {},
   "outputs": [
    {
     "name": "stdout",
     "output_type": "stream",
     "text": [
      "enter the quiz1 is 20:17\n",
      "enter the quiz2 is 20:18\n",
      "enter the classtext is 50:44\n",
      "enter the assignment is 100:88\n",
      "enter the project is 200188\n",
      "the overall marks of the student out of 100 are92.9\n"
     ]
    }
   ],
   "source": [
    "#3 answer\n",
    "quiz1=eval(input('enter the quiz1 is 20:'))\n",
    "quiz2=eval(input('enter the quiz2 is 20:'))\n",
    "class_text=eval(input('enter the classtext is 50:'))\n",
    "assignment=eval(input('enter the assignment is 100:'))\n",
    "project=eval(input('enter the project is 200'))\n",
    "a=quiz1*10/100\n",
    "b=quiz2*10/100\n",
    "c=class_text*25/100\n",
    "d=assignment*25/100\n",
    "e=project*30/100\n",
    "total=a+b+c+d+e\n",
    "print(\"the overall marks of the student out of 100 are{}\".format(total))"
   ]
  },
  {
   "cell_type": "code",
   "execution_count": 5,
   "id": "e56146e3",
   "metadata": {},
   "outputs": [
    {
     "name": "stdout",
     "output_type": "stream",
     "text": [
      "enter any five digit number:45789\n",
      "the sim of the digits in the five digit number is32\n"
     ]
    }
   ],
   "source": [
    "#4 answer\n",
    "#If a five-digit number is input through the keyboard, write a program to calculate the sum of its\n",
    "#digits.\n",
    "\n",
    "digit= eval(input('enter any five digit number:'))\n",
    "rem1=0\n",
    "rem2=0\n",
    "rem3=0\n",
    "rem4=0\n",
    "rem5=0\n",
    "sumn=0\n",
    "rem1= digit%10\n",
    "digit=digit//10\n",
    "if digit!=0:\n",
    "    rem2=digit%10\n",
    "    sumn=sumn+rem2\n",
    "    if digit!=0:\n",
    "        rem3=digit%10\n",
    "        sumn=sumn+rem3\n",
    "        if digit!=0:\n",
    "            rem4=digit%10\n",
    "            sumn=sumn+rem4\n",
    "        if digit!=0:\n",
    "            rem5=digit%10\n",
    "            sumn=sumn+rem5\n",
    "            print('the sim of the digits in the five digit number is{}'.format(sumn))"
   ]
  },
  {
   "cell_type": "code",
   "execution_count": 2,
   "id": "316df4a8",
   "metadata": {},
   "outputs": [
    {
     "name": "stdout",
     "output_type": "stream",
     "text": [
      "enter a five digit number:67895\n",
      "the new number by adding one to each digit is: 78906\n"
     ]
    }
   ],
   "source": [
    "#5 answer\n",
    "#If a five-digit number is input through the keyboard, write a program to print a new number by\n",
    "#adding one to each of its digits. For example if the number that is input is 12371 then the output\n",
    "#should be displayed as 23482.\n",
    "number =eval(input('enter a five digit number:'))\n",
    "digit1 =number//10000\n",
    "digit2=number//1000%10\n",
    "digit3=number//100%10\n",
    "digit4=number//10%10\n",
    "digit5=number%10 \n",
    "\n",
    "if digit1==9:\n",
    "    digit1 =0\n",
    "else:\n",
    "    digit1+=1\n",
    "    \n",
    "if  digit2==9:\n",
    "    digit2 =0\n",
    "else:\n",
    "    digit2+=1\n",
    "    \n",
    "if digit3==9:\n",
    "    digit3 =0\n",
    "else:\n",
    "    digit3+=1\n",
    "    \n",
    "if  digit4==9:\n",
    "    digit4 =0\n",
    "else:\n",
    "    digit4+=1\n",
    "    \n",
    "if  digit5==9:\n",
    "    digit5 =0\n",
    "else:\n",
    "    digit5+=1\n",
    "    new_number=digit1*10000+digit2*1000+digit3*100+digit4*10+digit5\n",
    "    print('the new number by adding one to each digit is:',new_number)\n",
    "\n"
   ]
  },
  {
   "cell_type": "code",
   "execution_count": 3,
   "id": "f5dfb82b",
   "metadata": {},
   "outputs": [
    {
     "name": "stdout",
     "output_type": "stream",
     "text": [
      "enter the quiz1 is 20:13\n",
      "enter the quiz2 is 20:12\n",
      "enter the classtext is 50:44\n",
      "enter the assignment is 100:77\n",
      "enter the project is 200122\n",
      "the overall marks of the student out of 100 are69.35\n",
      "the grade scored by the student in frist class\n"
     ]
    }
   ],
   "source": [
    "#6 answer\n",
    "quiz1=eval(input('enter the quiz1 is 20:'))\n",
    "quiz2=eval(input('enter the quiz2 is 20:'))\n",
    "class_text=eval(input('enter the classtext is 50:'))\n",
    "assignment=eval(input('enter the assignment is 100:'))\n",
    "project=eval(input('enter the project is 200'))\n",
    "a=quiz1*10/100\n",
    "b=quiz2*10/100\n",
    "c=class_text*25/100\n",
    "d=assignment*25/100\n",
    "e=project*30/100\n",
    "total=a+b+c+d+e\n",
    "print(\"the overall marks of the student out of 100 are{}\".format(total))\n",
    "if total>=60:\n",
    "    print('the grade scored by the student in frist class')\n",
    "elif total>=40:\n",
    "    print('the grade scored by the student in second class')\n",
    "else:\n",
    "    print('the student has failed')\n",
    "        \n"
   ]
  },
  {
   "cell_type": "markdown",
   "id": "f093013a",
   "metadata": {},
   "source": [
    "How about prompting the user for the number of hours and using the input value to compute the\n",
    "total pay?"
   ]
  },
  {
   "cell_type": "code",
   "execution_count": 4,
   "id": "ed758e32",
   "metadata": {},
   "outputs": [
    {
     "name": "stdout",
     "output_type": "stream",
     "text": [
      "enter the amount of hours worked by the employee:8\n",
      "the amount to be paid by the firm to the employee is{} dollars\n"
     ]
    }
   ],
   "source": [
    "# 7 answer\n",
    "rpa =12\n",
    "wph=eval(input('enter the amount of hours worked by the employee:'))\n",
    "pay=rpa*wph\n",
    "print('the amount to be paid by the firm to the employee is{} dollars')"
   ]
  },
  {
   "cell_type": "markdown",
   "id": "30f4cd83",
   "metadata": {},
   "source": [
    "Rewrite the pay program (refer problem 2) using try and expect so that the program handles non-\n",
    "numeric input gracefully by printing a message and exiting the program. The following shows two\n",
    "\n",
    "executions of the program:\n",
    "\n",
    "Enter hours: 20\n",
    "Enter rate: nine\n",
    "Error, please enter numeric input"
   ]
  },
  {
   "cell_type": "code",
   "execution_count": 4,
   "id": "c788bc05",
   "metadata": {},
   "outputs": [
    {
     "name": "stdout",
     "output_type": "stream",
     "text": [
      "enter the number of hours of employee working:11\n",
      "enter the rate per hour:49\n",
      "the total amount to be given to the employee is 539 dollers\n"
     ]
    }
   ],
   "source": [
    "#8 answer\n",
    "try:\n",
    "    hours= eval(input('enter the number of hours of employee working:'))\n",
    "    rate=eval(input('enter the rate per hour:'))\n",
    "    total=hours*rate\n",
    "    print(\"the total amount to be given to the employee is {} dollers\".format(total))\n",
    "except Exception as e:\n",
    "        print('error,please enter numeric value')"
   ]
  },
  {
   "cell_type": "markdown",
   "id": "e71e19a0",
   "metadata": {},
   "source": [
    "Write a program that asks the user to enter a length in centimeters. If the user enters a negative\n",
    "length, the program should tell the user that the entry is invalid. Otherwise, the program should\n",
    "convert the length to inches and print out the result. There are 2.54 centimeters in an inch."
   ]
  },
  {
   "cell_type": "code",
   "execution_count": 8,
   "id": "d2fa8e25",
   "metadata": {},
   "outputs": [
    {
     "name": "stdout",
     "output_type": "stream",
     "text": [
      "enter the length in centimeters:6\n",
      "the value of the length in iches is 2.36\n"
     ]
    }
   ],
   "source": [
    "#9 answer \n",
    "l=eval(input('enter the length in centimeters:'))\n",
    "if l>0:\n",
    "    i=round(l/2.54,2)\n",
    "    print('the value of the length in iches is {}'.format(i))\n",
    "else:\n",
    "    print('entry is invalid')"
   ]
  },
  {
   "cell_type": "markdown",
   "id": "b9c43cb5",
   "metadata": {},
   "source": [
    "Ask the user for a temperature. Then ask them what units, Celsius or Fahrenheit, the temperature is\n",
    "in. Your program should convert the temperature to the other unit. The conversions are F = 9 5 C +\n",
    "32 and C = 5 9 (F − 32)."
   ]
  },
  {
   "cell_type": "code",
   "execution_count": 10,
   "id": "542a7224",
   "metadata": {},
   "outputs": [
    {
     "name": "stdout",
     "output_type": "stream",
     "text": [
      "enter if the temperature is in C or FC\n",
      "enter the temperature:13\n",
      "the temperature in farhenheit is 57.6\n"
     ]
    }
   ],
   "source": [
    "#10 answer\n",
    "F=0\n",
    "C=0\n",
    "units=input('enter if the temperature is in C or F')\n",
    "temp=eval(input('enter the temperature:'))\n",
    "if units=='C':\n",
    "    F=9*(C+32)/5\n",
    "    print('the temperature in farhenheit is {}'.format(F))\n",
    "else:\n",
    "    C=5*(f-32)/5\n",
    "    print('the temperature in centigrade is {}'.format(C))"
   ]
  },
  {
   "cell_type": "markdown",
   "id": "c425f8d8",
   "metadata": {},
   "source": [
    "Ask the user to enter a temperature in Celsius. The program should print a message based on the\n",
    "temperature: \n",
    "• If the temperature is less than -273.15, print that the temperature is invalid because it is\n",
    "below absolute zero. \n",
    "• If it is exactly -273.15, print that the temperature is absolute 0. \n",
    "• If the temperature is between -273.15 and 0, print that the temperature is below freezing."
   ]
  },
  {
   "cell_type": "code",
   "execution_count": 12,
   "id": "d8d9c06d",
   "metadata": {},
   "outputs": [
    {
     "name": "stdout",
     "output_type": "stream",
     "text": [
      "enter the temperature in celsius:11\n",
      "the temperature is11 degree celsius\n"
     ]
    }
   ],
   "source": [
    "#11 answer\n",
    " \n",
    "temp=eval(input('enter the temperature in celsius:'))\n",
    "if temp<-273.15:\n",
    "    print('temperature is invalid as it is below absolute zero')\n",
    "elif temp ==-273.15:\n",
    "    print('temperature is absolute 0')\n",
    "else:\n",
    "    print('the temperature is{} degree celsius'.format(temp))\n",
    "    "
   ]
  },
  {
   "cell_type": "markdown",
   "id": "1570e9f1",
   "metadata": {},
   "source": [
    "Write a program that asks the user how many credits they have taken. If they have taken 23 or less,\n",
    "print that the student is a freshman. If they have taken between 24 and 53, print that they are a\n",
    "sophomore. The range for juniors is 54 to 83, and for seniors it is 84 and over."
   ]
  },
  {
   "cell_type": "code",
   "execution_count": 13,
   "id": "32213cf1",
   "metadata": {},
   "outputs": [
    {
     "name": "stdout",
     "output_type": "stream",
     "text": [
      "enter the number of credits taken:30\n",
      "the student is a sophomore\n"
     ]
    }
   ],
   "source": [
    "#12 answer\n",
    "credits=eval(input('enter the number of credits taken:'))\n",
    "if credits<23:\n",
    "    print('the student is a freshman')\n",
    "elif 24<credits<53:\n",
    "    print('the student is a sophomore')\n",
    "elif 54<credits<83:\n",
    "    print('the student is a junior')\n",
    "else:\n",
    "    print('the student is a senior')"
   ]
  },
  {
   "cell_type": "markdown",
   "id": "62dcb6dd",
   "metadata": {},
   "source": [
    "Generate a random number between 1 and 10. Ask the user to guess the number and print a\n",
    "message based on whether they get it right or not."
   ]
  },
  {
   "cell_type": "code",
   "execution_count": 14,
   "id": "a21ac7e0",
   "metadata": {},
   "outputs": [
    {
     "name": "stdout",
     "output_type": "stream",
     "text": [
      "enter a random number between 1 and 10;6\n",
      "9\n",
      "your guess is wrong\n"
     ]
    }
   ],
   "source": [
    "#13 answer\n",
    "import random\n",
    "number=eval(input('enter a random number between 1 and 10;'))\n",
    "randomm=random.randint(1,10)\n",
    "print(randomm)\n",
    "if number==randomm:\n",
    "    print('your guess is correct')\n",
    "else:\n",
    "    print('your guess is wrong')"
   ]
  },
  {
   "cell_type": "markdown",
   "id": "aa2a4f58",
   "metadata": {},
   "source": [
    "A store charges $12 per item if you buy less than 10 items. If you buy between 10 and 99 items, the\n",
    "cost is $10 per item. If you buy 100 or more items, the cost is $7 per item. Write a program that asks\n",
    "the user how many items they are buying and prints the total cost."
   ]
  },
  {
   "cell_type": "code",
   "execution_count": 21,
   "id": "7977815a",
   "metadata": {},
   "outputs": [
    {
     "name": "stdout",
     "output_type": "stream",
     "text": [
      "enter the number of items:8\n",
      "the total number of items are {} and the total bill is {} dollars\n"
     ]
    }
   ],
   "source": [
    "#14 answer\n",
    "\n",
    "items=eval(input('enter the number of items:'))\n",
    "total=0\n",
    "if total<10:\n",
    "    total=12*items\n",
    "    print(\"the total number of items are {} and the total bill is {} dollars\")\n",
    "elif 10<items<99:\n",
    "    total=10*items\n",
    "    print(\"the total number of items are {} and the total bill is {} dollars\")\n",
    "else:\n",
    "    total=7*items\n",
    "    print(\"the total number of items are {} and the total bill is {} dollars\".format(total,items))\n",
    "\n"
   ]
  },
  {
   "cell_type": "markdown",
   "id": "fc0ea5e8",
   "metadata": {},
   "source": [
    "Write a program that asks the user for two numbers and prints Close if the numbers are within .001\n",
    "of each other and Not close otherwise."
   ]
  },
  {
   "cell_type": "code",
   "execution_count": 17,
   "id": "fd068a83",
   "metadata": {},
   "outputs": [
    {
     "name": "stdout",
     "output_type": "stream",
     "text": [
      "enter a number:124\n",
      "enter another number:122\n",
      "not close\n"
     ]
    }
   ],
   "source": [
    "#15 answer\n",
    "num1=eval(input('enter a number:'))\n",
    "num2=eval(input('enter another number:'))\n",
    "if num1-num2<=0.001:\n",
    "    print('close')\n",
    "else:\n",
    "    print('not close')"
   ]
  },
  {
   "cell_type": "markdown",
   "id": "8888269d",
   "metadata": {},
   "source": [
    "A year is a leap year if it is divisible by 4, except that years divisible by 100 are not leap years unless\n",
    "they are also divisible by 400. Write a program that asks the user for a year and prints out whether it\n",
    "is a leap year or not."
   ]
  },
  {
   "cell_type": "code",
   "execution_count": 18,
   "id": "187266ca",
   "metadata": {},
   "outputs": [
    {
     "name": "stdout",
     "output_type": "stream",
     "text": [
      "enter the year:1700\n",
      "it is not a leap year\n"
     ]
    }
   ],
   "source": [
    "#16 answer\n",
    "year=eval(input('enter the year:'))\n",
    "if year%4==0 and year%400==0:\n",
    "    print('it is a leap year')\n",
    "else:\n",
    "    print(\"it is not a leap year\")"
   ]
  },
  {
   "cell_type": "markdown",
   "id": "27f2ad3c",
   "metadata": {},
   "source": [
    "Write a program that asks the user to enter a number and prints out all the divisors of that number.\n",
    "[Hint: the % operator is used to tell if a number is divisible by something."
   ]
  },
  {
   "cell_type": "code",
   "execution_count": 20,
   "id": "b683ed9a",
   "metadata": {},
   "outputs": [
    {
     "name": "stdout",
     "output_type": "stream",
     "text": [
      "enter any number:18\n",
      "the divisiors are:\n",
      "1\n",
      "2\n",
      "3\n",
      "6\n",
      "9\n"
     ]
    }
   ],
   "source": [
    "#17 answer \n",
    "num=eval(input('enter any number:'))\n",
    "divisior=1\n",
    "print('the divisiors are:')\n",
    "if num%1==0:\n",
    "    print(1)\n",
    "if num%2==0:\n",
    "    print(2)\n",
    "if num%3==0:\n",
    "    print(3)\n",
    "if num%4==0:\n",
    "    print(4)\n",
    "if num%5==0:\n",
    "    print(5)\n",
    "if num%6==0:\n",
    "    print(6)\n",
    "if num%7==0:\n",
    "    print(7)\n",
    "if num%8==0:\n",
    "    print(8)\n",
    "if num%9==0:\n",
    "    print(9)"
   ]
  },
  {
   "cell_type": "markdown",
   "id": "f02cbe7a",
   "metadata": {},
   "source": [
    "Write a program that asks the user for an hour between 1 and 12, asks them to enter am or pm, and\n",
    "asks them how many hours into the future they want to go.\n",
    "Print out what the hour will be that many hours into the future, printing am or pm as appropriate.\n",
    "An example is shown below.\n",
    "Enter hour: 8"
   ]
  },
  {
   "cell_type": "code",
   "execution_count": 3,
   "id": "0dfe76b6",
   "metadata": {},
   "outputs": [
    {
     "ename": "SyntaxError",
     "evalue": "invalid syntax (47690340.py, line 22)",
     "output_type": "error",
     "traceback": [
      "\u001b[1;36m  Cell \u001b[1;32mIn[3], line 22\u001b[1;36m\u001b[0m\n\u001b[1;33m    else:\u001b[0m\n\u001b[1;37m    ^\u001b[0m\n\u001b[1;31mSyntaxError\u001b[0m\u001b[1;31m:\u001b[0m invalid syntax\n"
     ]
    }
   ],
   "source": [
    "# 18 answer\n",
    "\n",
    "hour=int(input('enter an hour between 1 to 12:'))\n",
    "if 0<hour<=12:\n",
    "    hour_ahead=int(input('enter the number of hours you want to go ahead:'))\n",
    "    \n",
    "    new_hour=(hour+hour_ahead)%12\n",
    "    \n",
    "    if new_hour==0:\n",
    "        new_hour=12\n",
    "    if hour_ahead%24==0:\n",
    "        am_pm=am_pm\n",
    "        \n",
    "    elif(hour+ hour_ahead)>=12:\n",
    "        am_pm=3-am_pm\n",
    "    if am_pm==1:\n",
    "        print('new hour is {new hour}AM')\n",
    "    elif am_pm==2:\n",
    "         print('new hour is {new hour}PM')\n",
    "    else:\n",
    "        print('please enter 1 for AM or 2 for PM.')\n",
    "    else:\n",
    "        print('enter a vaild hour between 1 and 12.')"
   ]
  },
  {
   "cell_type": "code",
   "execution_count": null,
   "id": "df67bc56",
   "metadata": {},
   "outputs": [],
   "source": []
  }
 ],
 "metadata": {
  "kernelspec": {
   "display_name": "Python 3 (ipykernel)",
   "language": "python",
   "name": "python3"
  },
  "language_info": {
   "codemirror_mode": {
    "name": "ipython",
    "version": 3
   },
   "file_extension": ".py",
   "mimetype": "text/x-python",
   "name": "python",
   "nbconvert_exporter": "python",
   "pygments_lexer": "ipython3",
   "version": "3.11.5"
  }
 },
 "nbformat": 4,
 "nbformat_minor": 5
}
