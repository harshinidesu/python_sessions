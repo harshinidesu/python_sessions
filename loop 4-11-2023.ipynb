{
 "cells": [
  {
   "cell_type": "markdown",
   "id": "c52f4143",
   "metadata": {},
   "source": [
    "**for loop**"
   ]
  },
  {
   "cell_type": "markdown",
   "id": "096b72b7",
   "metadata": {},
   "source": [
    "- you will be in the loop \n",
    "-when you will enter into the loop\n",
    "- how much time you will stay in the loop\n",
    "- how you will come out of the form the loop"
   ]
  },
  {
   "cell_type": "markdown",
   "id": "cfe70ea4",
   "metadata": {},
   "source": [
    "-you will in the loop\n",
    "\n",
    "\n",
    "-intialization\n",
    "-increment/decrement\n",
    "-condition to stop the loop"
   ]
  },
  {
   "cell_type": "code",
   "execution_count": null,
   "id": "5889a8c7",
   "metadata": {},
   "outputs": [],
   "source": [
    "# i want to print frist 10 numbers\n",
    "#intial point:0\n",
    "#increment\n",
    "#cond=10"
   ]
  },
  {
   "cell_type": "code",
   "execution_count": null,
   "id": "99e528fc",
   "metadata": {},
   "outputs": [],
   "source": [
    "i=0\n",
    "i=1\n",
    "i=2\n",
    "i=3\n",
    "i=4"
   ]
  },
  {
   "cell_type": "markdown",
   "id": "e0cc7f78",
   "metadata": {},
   "source": [
    "**pattern-1**"
   ]
  },
  {
   "cell_type": "markdown",
   "id": "211a7b40",
   "metadata": {},
   "source": [
    "**for i in range(stop):**"
   ]
  },
  {
   "cell_type": "code",
   "execution_count": null,
   "id": "be0aa0b3",
   "metadata": {},
   "outputs": [],
   "source": [
    "-in the bracket if we have only single value that is consider as stop value\n",
    "-the default start value is =0\n",
    "-python index always start with:0\n",
    "- if direction sign is not mentioned: increment(+)sign\n",
    "-if direction is postive side then end=stop-1"
   ]
  },
  {
   "cell_type": "code",
   "execution_count": 1,
   "id": "a345d81a",
   "metadata": {},
   "outputs": [
    {
     "name": "stdout",
     "output_type": "stream",
     "text": [
      "0\n",
      "1\n",
      "2\n",
      "3\n",
      "4\n",
      "5\n",
      "6\n",
      "7\n",
      "8\n",
      "9\n",
      "10\n",
      "11\n",
      "12\n",
      "13\n",
      "14\n",
      "15\n",
      "16\n",
      "17\n",
      "18\n",
      "19\n"
     ]
    }
   ],
   "source": [
    "for i in range(20):\n",
    "    print(i)\n",
    "    \n",
    "\n",
    "#start=0\n",
    "#direc=+\n",
    "#end=stop-1=20-1=19"
   ]
  },
  {
   "cell_type": "code",
   "execution_count": 3,
   "id": "f4961495",
   "metadata": {},
   "outputs": [
    {
     "name": "stdout",
     "output_type": "stream",
     "text": [
      "0 1 2\n"
     ]
    }
   ],
   "source": [
    "print(0,end=' ')\n",
    "print(1,end=' ')\n",
    "print(2)      # 0 1 2\n",
    "\n",
    "#print(i,end='')"
   ]
  },
  {
   "cell_type": "code",
   "execution_count": 5,
   "id": "02d0b785",
   "metadata": {},
   "outputs": [
    {
     "name": "stdout",
     "output_type": "stream",
     "text": [
      "0 1 2 3 4 5 6 7 8 9 10 11 12 13 14 15 16 17 18 19 "
     ]
    }
   ],
   "source": [
    "for i in range(20):\n",
    "    print(i,end=' ')"
   ]
  },
  {
   "cell_type": "markdown",
   "id": "331860f7",
   "metadata": {},
   "source": [
    "**pattern-2**"
   ]
  },
  {
   "cell_type": "markdown",
   "id": "98ceb11a",
   "metadata": {},
   "source": [
    "**for i in range(start,stop)**"
   ]
  },
  {
   "cell_type": "code",
   "execution_count": null,
   "id": "0efe81da",
   "metadata": {},
   "outputs": [],
   "source": [
    "-start: start of the loop,intial point\n",
    "-direction sign not mentioned:+ve direction i.e.increment\n",
    "-end=stop-1"
   ]
  },
  {
   "cell_type": "code",
   "execution_count": 6,
   "id": "5dab2712",
   "metadata": {},
   "outputs": [
    {
     "name": "stdout",
     "output_type": "stream",
     "text": [
      "2 3 4 5 6 "
     ]
    }
   ],
   "source": [
    "for i in range(2,7):\n",
    "    print(i,end=' ')\n",
    "    \n",
    "#start =2 pos  end=2-1=6"
   ]
  },
  {
   "cell_type": "code",
   "execution_count": 7,
   "id": "152cebbc",
   "metadata": {},
   "outputs": [
    {
     "name": "stdout",
     "output_type": "stream",
     "text": [
      "2 3 4 5 6 7 8 9 10 11 12 13 14 15 16 17 18 "
     ]
    }
   ],
   "source": [
    "for i in range(2,19):\n",
    "    print(i,end=' ')"
   ]
  },
  {
   "cell_type": "markdown",
   "id": "a1b642e9",
   "metadata": {},
   "source": [
    "**pattern-3**"
   ]
  },
  {
   "cell_type": "markdown",
   "id": "6451fc5c",
   "metadata": {},
   "source": [
    "**for i in range(start,stop,step)**"
   ]
  },
  {
   "cell_type": "code",
   "execution_count": null,
   "id": "3b55fe94",
   "metadata": {},
   "outputs": [],
   "source": [
    "- start:start of the loop,intial point\n",
    "-direction: what is sign of step value,that is the direction\n",
    "          - direction will not decide by start and stop value\n",
    "          -direction eill provided by step value\n",
    "-if step size is postive direction\n",
    "                  end=stop-1\n",
    "-if step size in negative direction\n",
    "                  end=stop+1"
   ]
  },
  {
   "cell_type": "code",
   "execution_count": 8,
   "id": "37b61972",
   "metadata": {},
   "outputs": [
    {
     "name": "stdout",
     "output_type": "stream",
     "text": [
      "2 4 6 8 10 12 14 16 18 "
     ]
    }
   ],
   "source": [
    "for i in range(2,20,2):             #(start,stop,step)\n",
    "    print(i, end=' ')"
   ]
  },
  {
   "cell_type": "code",
   "execution_count": 9,
   "id": "bbd2d73e",
   "metadata": {},
   "outputs": [
    {
     "name": "stdout",
     "output_type": "stream",
     "text": [
      "-1 -2 -3 -4 -5 -6 -7 -8 -9 "
     ]
    }
   ],
   "source": [
    "for i in range(-1,-10,-1):             \n",
    "    print(i, end=' ')"
   ]
  },
  {
   "cell_type": "code",
   "execution_count": 11,
   "id": "55b98383",
   "metadata": {},
   "outputs": [],
   "source": [
    "for i in range(-1,-10,1):             \n",
    "    print(i, end=' ')        # not works"
   ]
  },
  {
   "cell_type": "code",
   "execution_count": null,
   "id": "6d6b5450",
   "metadata": {},
   "outputs": [],
   "source": [
    "range(3,25,3)           #pos\n",
    "range(3,25,-3)          #not pos\n",
    "range(3,-25,3)         # not pos\n",
    "range(3,-25,-3)        #pos\n",
    "range(-3,25,3)        #pos\n",
    "range(-3,-25,3)        #not pos\n",
    "range(-3,25,-3)       #not pos\n",
    "range(-3,-25,-3)      #pos"
   ]
  },
  {
   "cell_type": "code",
   "execution_count": 12,
   "id": "8b985c60",
   "metadata": {},
   "outputs": [
    {
     "name": "stdout",
     "output_type": "stream",
     "text": [
      "3 0 -3 -6 -9 -12 -15 -18 -21 -24 "
     ]
    }
   ],
   "source": [
    "for i in range(3,-25,-3): print(i,end=' ')"
   ]
  },
  {
   "cell_type": "code",
   "execution_count": 14,
   "id": "455afc93",
   "metadata": {},
   "outputs": [
    {
     "name": "stdout",
     "output_type": "stream",
     "text": [
      "-3 -6 -9 -12 -15 -18 -21 -24 "
     ]
    }
   ],
   "source": [
    "for i in range(-3,-25,-3):\n",
    "    print(i,end=' ')"
   ]
  },
  {
   "cell_type": "code",
   "execution_count": null,
   "id": "82ad3b4b",
   "metadata": {},
   "outputs": [],
   "source": [
    "#wap print:hello 3times======>loop for"
   ]
  },
  {
   "cell_type": "code",
   "execution_count": 16,
   "id": "04ad60ad",
   "metadata": {},
   "outputs": [
    {
     "name": "stdout",
     "output_type": "stream",
     "text": [
      "hello\n",
      "hello\n",
      "hello\n"
     ]
    }
   ],
   "source": [
    "for i in range(3):\n",
    "    print('hello')"
   ]
  },
  {
   "cell_type": "code",
   "execution_count": 17,
   "id": "1f61b302",
   "metadata": {},
   "outputs": [
    {
     "name": "stdout",
     "output_type": "stream",
     "text": [
      "hai\n",
      "hello\n",
      "how do you do\n",
      "hello\n",
      "how do you do\n",
      "hello\n",
      "how do you do\n"
     ]
    }
   ],
   "source": [
    "print('hai')\n",
    "for i in range(3):\n",
    "    print('hello')\n",
    "    print('how do you do')"
   ]
  },
  {
   "cell_type": "code",
   "execution_count": 18,
   "id": "e596a4fc",
   "metadata": {},
   "outputs": [
    {
     "name": "stdout",
     "output_type": "stream",
     "text": [
      "A\n",
      "A\n",
      "A\n",
      "B\n",
      "B\n",
      "C\n",
      "C\n",
      "C\n"
     ]
    }
   ],
   "source": [
    "#A\n",
    "#A\n",
    "#A\n",
    "#B\n",
    "#B\n",
    "#C\n",
    "#C\n",
    "#C\n",
    "\n",
    "for i in range(3):\n",
    "    print('A')\n",
    "for i in range(2):\n",
    "    print('B')\n",
    "for i in range(3):\n",
    "    print('C')"
   ]
  },
  {
   "cell_type": "code",
   "execution_count": 19,
   "id": "fe58b27d",
   "metadata": {},
   "outputs": [
    {
     "name": "stdout",
     "output_type": "stream",
     "text": [
      "A\n",
      "B\n",
      "A\n",
      "B\n",
      "A\n",
      "B\n",
      "C\n",
      "C\n",
      "C\n"
     ]
    }
   ],
   "source": [
    "#A\n",
    "#B\n",
    "#A\n",
    "#B\n",
    "#A\n",
    "#B\n",
    "#C\n",
    "#C\n",
    "#C\n",
    "for i in range(3):\n",
    "    print('A')\n",
    "    print('B')\n",
    "for i in range(3):\n",
    "    print('C')"
   ]
  },
  {
   "cell_type": "code",
   "execution_count": 20,
   "id": "c581267f",
   "metadata": {},
   "outputs": [
    {
     "name": "stdout",
     "output_type": "stream",
     "text": [
      "the square of 10 is 100\n",
      "the square of 11 is 121\n",
      "the square of 12 is 144\n",
      "the square of 13 is 169\n",
      "the square of 14 is 196\n",
      "the square of 15 is 225\n"
     ]
    }
   ],
   "source": [
    "#wap ask user to get the square of the numbers\n",
    "#between 10 to 15\n",
    "#square of 10 is 100\n",
    "#square of 11 is 121\n",
    "\n",
    "for i in range(10,16):\n",
    "    print('the square of {} is {}'.format(i,i*i))"
   ]
  },
  {
   "cell_type": "code",
   "execution_count": 21,
   "id": "0f2ce3dd",
   "metadata": {},
   "outputs": [
    {
     "name": "stdout",
     "output_type": "stream",
     "text": [
      "enter start number10\n",
      "enter stop number16\n",
      "the square of10 is100\n",
      "the square of11 is121\n",
      "the square of12 is144\n",
      "the square of13 is169\n",
      "the square of14 is196\n",
      "the square of15 is225\n"
     ]
    }
   ],
   "source": [
    "# the  same above question\n",
    "#take the numbers from keyboard\n",
    "#num1=eval(input())     10\n",
    "#num2=eval(input())     16\n",
    "#replace 10,16 in for loop with vairables num1,num2\n",
    "\n",
    "\n",
    "num1=eval(input('enter start number'))\n",
    "num2=eval(input('enter stop number'))\n",
    "\n",
    "\n",
    "for i in range(num1,num2):\n",
    "    print('the square of{} is{}'.format(i,i*i))\n"
   ]
  },
  {
   "cell_type": "code",
   "execution_count": 22,
   "id": "45c6b1f4",
   "metadata": {},
   "outputs": [
    {
     "name": "stdout",
     "output_type": "stream",
     "text": [
      "the square of 10 is100\n",
      "the square of 11 is121\n",
      "the square of 12 is144\n",
      "the square of 13 is169\n",
      "the square of 14 is196\n",
      "the square of 15 is225\n",
      "the square of 16 is256\n"
     ]
    }
   ],
   "source": [
    "num1=10\n",
    "num2=17\n",
    "for i  in range(num1,num2):\n",
    "    print('the square of {} is{}'.format(i,i*i))"
   ]
  },
  {
   "cell_type": "code",
   "execution_count": 28,
   "id": "2d7f1efd",
   "metadata": {},
   "outputs": [
    {
     "name": "stdout",
     "output_type": "stream",
     "text": [
      "enter start number10\n",
      "enter stop number14\n",
      "the square of 10 is 100\n",
      "the square of 11 is 121\n",
      "the square of 12 is 144\n",
      "the square of 13 is 169\n"
     ]
    }
   ],
   "source": [
    "#without argument\n",
    "def square1():\n",
    "    num1=eval(input('enter start number'))\n",
    "    num2=eval(input('enter stop number'))\n",
    "    \n",
    "    for i in range(num1,num2):\n",
    "        print('the square of {} is {}'.format(i,i*i))\n",
    "              \n",
    "square1()"
   ]
  },
  {
   "cell_type": "code",
   "execution_count": 29,
   "id": "6b240fd3",
   "metadata": {},
   "outputs": [
    {
     "name": "stdout",
     "output_type": "stream",
     "text": [
      "the square of10 is100\n",
      "the square of11 is121\n",
      "the square of12 is144\n",
      "the square of13 is169\n",
      "the square of14 is196\n"
     ]
    }
   ],
   "source": [
    "#with arguments\n",
    "def square(num1,num2):\n",
    "    for i in range(num1,num2):\n",
    "        print('the square of{} is{}'.format(i,i*i))\n",
    "        \n",
    "square(10,15)"
   ]
  },
  {
   "cell_type": "code",
   "execution_count": 30,
   "id": "be35192e",
   "metadata": {},
   "outputs": [
    {
     "name": "stdout",
     "output_type": "stream",
     "text": [
      "enter a number:10\n",
      "the square of 10 is100\n",
      "enter a number:11\n",
      "the square of 11 is121\n",
      "enter a number:12\n",
      "the square of 12 is144\n",
      "enter a number:13\n",
      "the square of 13 is169\n",
      "enter a number:14\n",
      "the square of 14 is196\n"
     ]
    }
   ],
   "source": [
    "#wap ask the user to print square of the five numbers\n",
    "#and these five numbers you need ask user every time\n",
    "for i in range(5):\n",
    "    num=eval(input('enter a number:'))\n",
    "    print('the square of {} is{}'.format(num,num*num))"
   ]
  },
  {
   "cell_type": "code",
   "execution_count": 31,
   "id": "500cd6f5",
   "metadata": {},
   "outputs": [
    {
     "name": "stdout",
     "output_type": "stream",
     "text": [
      "the square of0 is 0\n",
      "the square of1 is 1\n",
      "the square of2 is 4\n",
      "the square of3 is 9\n",
      "the square of4 is 16\n"
     ]
    }
   ],
   "source": [
    "for i in range(5):\n",
    "    print('the square of{} is {}'.format(i,i*i))"
   ]
  },
  {
   "cell_type": "code",
   "execution_count": null,
   "id": "5cf037c6",
   "metadata": {},
   "outputs": [],
   "source": [
    "#wap ask the user to print square of the five numbers\n",
    "#and these five numbers you need ask user every time\n",
    "#for i in range(5):\n",
    "       #num=eval(input('enter the number:'))\n",
    "        #print('the square of {} is{}'.format(num,num*num))\n",
    "        \n",
    "#wap ask the user to print five times square of a number\n",
    "#this time you need to take every time a random number between 1 to 20"
   ]
  },
  {
   "cell_type": "code",
   "execution_count": 32,
   "id": "7a1669bd",
   "metadata": {},
   "outputs": [
    {
     "name": "stdout",
     "output_type": "stream",
     "text": [
      "the square of16 is 256\n",
      "the square of2 is 4\n",
      "the square of14 is 196\n",
      "the square of17 is 289\n",
      "the square of8 is 64\n"
     ]
    }
   ],
   "source": [
    "import random\n",
    "for i in range(5):\n",
    "    num=random.randint(1,20)\n",
    "    print('the square of{} is {}'.format(num,num*num))"
   ]
  },
  {
   "cell_type": "code",
   "execution_count": null,
   "id": "0404b530",
   "metadata": {},
   "outputs": [],
   "source": [
    "#wap ask the user print the given number is even or odd\n",
    "#you need to take the number betwwen 10 30\n",
    "# literate the loop between 10 and 30\n",
    "#every time apply if i%2==0: print even\n",
    "#             else  : print odd"
   ]
  },
  {
   "cell_type": "code",
   "execution_count": 33,
   "id": "2765e121",
   "metadata": {},
   "outputs": [
    {
     "name": "stdout",
     "output_type": "stream",
     "text": [
      "the given10 is even\n",
      "the given11 is odd\n",
      "the given12 is even\n",
      "the given13 is odd\n",
      "the given14 is even\n",
      "the given15 is odd\n",
      "the given16 is even\n",
      "the given17 is odd\n",
      "the given18 is even\n",
      "the given19 is odd\n",
      "the given20 is even\n",
      "the given21 is odd\n",
      "the given22 is even\n",
      "the given23 is odd\n",
      "the given24 is even\n",
      "the given25 is odd\n",
      "the given26 is even\n",
      "the given27 is odd\n",
      "the given28 is even\n",
      "the given29 is odd\n",
      "the given30 is even\n"
     ]
    }
   ],
   "source": [
    "for i in range(10,31):\n",
    "    if i%2==0:\n",
    "        print('the given{} is even'.format(i))\n",
    "    else:\n",
    "        print('the given{} is odd'.format(i))"
   ]
  },
  {
   "cell_type": "code",
   "execution_count": 38,
   "id": "6495608f",
   "metadata": {},
   "outputs": [
    {
     "name": "stdout",
     "output_type": "stream",
     "text": [
      "the given20 is even\n",
      "the given13 is odd\n",
      "the given28 is even\n",
      "the given16 is even\n",
      "the given16 is even\n"
     ]
    }
   ],
   "source": [
    "import random\n",
    "\n",
    "for i in range(5):\n",
    "    num=random.randint(10,30)\n",
    "    if num%2==0:\n",
    "        print('the given{} is even'.format(num))\n",
    "    else:\n",
    "        print('the given{} is odd'.format(num))"
   ]
  },
  {
   "cell_type": "code",
   "execution_count": 42,
   "id": "e2e21ac9",
   "metadata": {},
   "outputs": [
    {
     "name": "stdout",
     "output_type": "stream",
     "text": [
      "the given16 is even\n",
      "the given10 is even\n",
      "the given13 is odd\n",
      "the given19 is odd\n",
      "the given18 is even\n"
     ]
    }
   ],
   "source": [
    "def even_odd(num):\n",
    "        if num%2==0:\n",
    "            print('the given{} is even'.format(num))\n",
    "        else:\n",
    "            print('the given{} is odd'.format(num))\n",
    "    \n",
    "import random\n",
    "for i in range(5):\n",
    "    num=random.randint(10,20)\n",
    "    even_odd(num)"
   ]
  },
  {
   "cell_type": "code",
   "execution_count": null,
   "id": "605c9d60",
   "metadata": {},
   "outputs": [],
   "source": [
    "#5 lines\n",
    "# take a random number from random package betwwen 1 to 10\n",
    "\n",
    "#========== you need to repeat 3 times ===========\n",
    "#ask the user enter a number between 1 to10\n",
    "#if the number==random numkber:\n",
    "#          print('you won')\n",
    "#else\n",
    "#    print(you lost)"
   ]
  },
  {
   "cell_type": "code",
   "execution_count": 44,
   "id": "49c71b69",
   "metadata": {},
   "outputs": [
    {
     "name": "stdout",
     "output_type": "stream",
     "text": [
      "3\n",
      "enter number between 1 and 10:5\n",
      "you lost\n",
      "enter number between 1 and 10:9\n",
      "you lost\n",
      "enter number between 1 and 10:3\n",
      "you won\n"
     ]
    }
   ],
   "source": [
    "import random\n",
    "random_num=random.randint(1,10)\n",
    "print(random_num)\n",
    "for i in range(3):\n",
    "    user_num=eval(input('enter number between 1 and 10:'))\n",
    "    if user_num==random_num:\n",
    "        print('you won')\n",
    "        break\n",
    "    else:\n",
    "        print('you lost')"
   ]
  },
  {
   "cell_type": "code",
   "execution_count": 45,
   "id": "e6b1ff47",
   "metadata": {},
   "outputs": [
    {
     "name": "stdout",
     "output_type": "stream",
     "text": [
      "4\n",
      "enter number between 1 and 10:3\n",
      "you lost\n",
      "the number of chances left is: 2\n",
      "enter number between 1 and 10:3\n",
      "you lost\n",
      "the number of chances left is: 1\n",
      "enter number between 1 and 10:3\n",
      "you lost\n",
      "the number of chances left is: 0\n"
     ]
    }
   ],
   "source": [
    "import random\n",
    "random_num=random.randint(1,10)\n",
    "print(random_num)\n",
    "for i in range(3):\n",
    "    user_num=eval(input('enter number between 1 and 10:'))\n",
    "    if user_num==random_num:\n",
    "        print('you won')\n",
    "        break\n",
    "    else:\n",
    "        print('you lost')\n",
    "        print('the number of chances left is:',3-1-i)"
   ]
  },
  {
   "cell_type": "code",
   "execution_count": 46,
   "id": "da53f8f6",
   "metadata": {},
   "outputs": [
    {
     "name": "stdout",
     "output_type": "stream",
     "text": [
      "1\n",
      "enter number between 1 and 10:1\n",
      "you won\n"
     ]
    }
   ],
   "source": [
    "import random\n",
    "random_num=random.randint(1,10)\n",
    "print(random_num)\n",
    "for i in range(3):\n",
    "    user_num=eval(input('enter number between 1 and 10:'))\n",
    "    if user_num==random_num:\n",
    "        print('you won')\n",
    "        break\n",
    "    else:\n",
    "        print('you lost')\n",
    "        print('the number of chances left is:',3-1-i)"
   ]
  },
  {
   "cell_type": "code",
   "execution_count": 47,
   "id": "4ca4ee78",
   "metadata": {},
   "outputs": [
    {
     "name": "stdout",
     "output_type": "stream",
     "text": [
      "2\n",
      "enter how many chances you want:3\n",
      "enter number between 1 and 10:6\n",
      "you lost\n",
      "the number of chances left is: 2\n",
      "enter number between 1 and 10:6\n",
      "you lost\n",
      "the number of chances left is: 1\n",
      "enter number between 1 and 10:6\n",
      "you lost\n",
      "the number of chances left is: 0\n"
     ]
    }
   ],
   "source": [
    "import random\n",
    "random_num=random.randint(1,10)\n",
    "print(random_num)\n",
    "chances=eval(input('enter how many chances you want:'))\n",
    "for i in range(chances):\n",
    "    user_num=eval(input('enter number between 1 and 10:'))\n",
    "    if user_num==random_num:\n",
    "        print('you won')\n",
    "        break\n",
    "    else:\n",
    "        print('you lost')\n",
    "        print('the number of chances left is:',chances-1-i)"
   ]
  },
  {
   "cell_type": "code",
   "execution_count": null,
   "id": "c10d9ad0",
   "metadata": {},
   "outputs": [],
   "source": [
    "#improvise above code\n",
    "#whenever the user lost all the chances\n",
    "#it should print all the chances are over\n",
    "#print('plz try again after 10 mins')\n",
    "\n",
    "#Hint:\n",
    "#you need to provide one more condition"
   ]
  },
  {
   "cell_type": "code",
   "execution_count": 48,
   "id": "6f08dd93",
   "metadata": {},
   "outputs": [
    {
     "name": "stdout",
     "output_type": "stream",
     "text": [
      "2\n",
      "enter how many chances you want:5\n",
      "enter number between 1 and 10:4\n",
      "you lost\n",
      "the number of chances left is: 4\n",
      "----------------------------------------------\n",
      "enter number between 1 and 10:4\n",
      "you lost\n",
      "the number of chances left is: 3\n",
      "----------------------------------------------\n",
      "enter number between 1 and 10:4\n",
      "you lost\n",
      "the number of chances left is: 2\n",
      "----------------------------------------------\n",
      "enter number between 1 and 10:4\n",
      "you lost\n",
      "the number of chances left is: 1\n",
      "----------------------------------------------\n",
      "enter number between 1 and 10:4\n",
      "you lost\n",
      "all chances are over\n",
      "plz try again\n"
     ]
    }
   ],
   "source": [
    "import random\n",
    "random_num=random.randint(1,10)\n",
    "print(random_num)\n",
    "chances=eval(input('enter how many chances you want:'))\n",
    "for i in range(chances):\n",
    "    user_num=eval(input('enter number between 1 and 10:'))\n",
    "    if user_num==random_num:\n",
    "        print('you won')\n",
    "        break\n",
    "    elif chances-1-i==0:\n",
    "        print('you lost')\n",
    "        print('all chances are over')\n",
    "        print('plz try again')\n",
    "    else:\n",
    "        print('you lost')\n",
    "        print('the number of chances left is:',chances-1-i)\n",
    "        print('----------------------------------------------')"
   ]
  },
  {
   "cell_type": "markdown",
   "id": "506e041a",
   "metadata": {},
   "source": [
    "**7-11-2023 nov**"
   ]
  },
  {
   "cell_type": "code",
   "execution_count": 1,
   "id": "be1f4778",
   "metadata": {},
   "outputs": [
    {
     "name": "stdout",
     "output_type": "stream",
     "text": [
      "the 10 natural number is 1\n",
      "the 10 natural number is 3\n",
      "the 10 natural number is 6\n",
      "the 10 natural number is 10\n",
      "the 10 natural number is 15\n",
      "the 10 natural number is 21\n",
      "the 10 natural number is 28\n",
      "the 10 natural number is 36\n",
      "the 10 natural number is 45\n",
      "the 10 natural number is 55\n"
     ]
    }
   ],
   "source": [
    "#wap ask the user the sum of 10 natural numbers\n",
    "#1+2+3+4+5+6+7+8+9+10\n",
    "sum=0\n",
    "for i in range(1,11):                            #\n",
    "    sum=sum+i\n",
    "    print('the 10 natural number is',sum)\n",
    "    \n",
    "    "
   ]
  },
  {
   "cell_type": "code",
   "execution_count": 4,
   "id": "b1166aef",
   "metadata": {},
   "outputs": [
    {
     "name": "stdout",
     "output_type": "stream",
     "text": [
      "55+1 is:\n",
      "1\n",
      "the sum of firat 10 natural numbers is: 1\n",
      "55+2 is:\n",
      "3\n",
      "the sum of firat 10 natural numbers is: 3\n",
      "55+3 is:\n",
      "6\n",
      "the sum of firat 10 natural numbers is: 6\n",
      "55+4 is:\n",
      "10\n",
      "the sum of firat 10 natural numbers is: 10\n",
      "55+5 is:\n",
      "15\n",
      "the sum of firat 10 natural numbers is: 15\n",
      "55+6 is:\n",
      "21\n",
      "the sum of firat 10 natural numbers is: 21\n",
      "55+7 is:\n",
      "28\n",
      "the sum of firat 10 natural numbers is: 28\n",
      "55+8 is:\n",
      "36\n",
      "the sum of firat 10 natural numbers is: 36\n",
      "55+9 is:\n",
      "45\n",
      "the sum of firat 10 natural numbers is: 45\n",
      "55+10 is:\n",
      "55\n",
      "the sum of firat 10 natural numbers is: 55\n"
     ]
    }
   ],
   "source": [
    "summ=0\n",
    "for i in range(1,11):\n",
    "    print('{}+{} is:'.format(sum,i))\n",
    "    summ=summ+i\n",
    "    print(summ)\n",
    "    print('the sum of firat 10 natural numbers is:',summ)"
   ]
  },
  {
   "cell_type": "code",
   "execution_count": 3,
   "id": "d7635237",
   "metadata": {},
   "outputs": [
    {
     "name": "stdout",
     "output_type": "stream",
     "text": [
      "0\n",
      "1\n",
      "2\n",
      "3\n",
      "4\n",
      "5\n",
      "6\n",
      "7\n",
      "8\n",
      "9\n"
     ]
    },
    {
     "data": {
      "text/plain": [
       "9"
      ]
     },
     "execution_count": 3,
     "metadata": {},
     "output_type": "execute_result"
    }
   ],
   "source": [
    "for i in range(10):\n",
    "    print(i)\n",
    "    \n",
    "i"
   ]
  },
  {
   "cell_type": "code",
   "execution_count": null,
   "id": "fd4b5e1e",
   "metadata": {},
   "outputs": [],
   "source": [
    "-whenever if you want implement counter program\n",
    "-summ program\n",
    "-intialize the variable with zero\n",
    "- like: summ=0 or count=0\n",
    "-inside the loop based on the problem update the variable\n",
    "-like: summ=summ+i  or count=count+i\n",
    "-like:  summ+=i  or count+=i"
   ]
  },
  {
   "cell_type": "code",
   "execution_count": 6,
   "id": "6c08aad4",
   "metadata": {},
   "outputs": [
    {
     "name": "stdout",
     "output_type": "stream",
     "text": [
      "the given10 is even\n",
      "the given11 is odd\n",
      "the given12 is even\n",
      "the given13 is odd\n",
      "the given14 is even\n",
      "the given15 is odd\n",
      "the given16 is even\n",
      "the given17 is odd\n",
      "the given18 is even\n",
      "the given19 is odd\n"
     ]
    }
   ],
   "source": [
    "#\n",
    "\n",
    "for i in range(10,20):\n",
    "    count=0\n",
    "    num=0\n",
    "    if i%2==0:\n",
    "        count=count+1\n",
    "        print('the given{} is even'.format(i))\n",
    "    else:\n",
    "        print('the given{} is odd'.format(i))"
   ]
  },
  {
   "cell_type": "code",
   "execution_count": 10,
   "id": "758a9c03",
   "metadata": {},
   "outputs": [
    {
     "name": "stdout",
     "output_type": "stream",
     "text": [
      "74\n",
      "74\n",
      "74\n",
      "74\n",
      "74\n",
      "74\n",
      "74\n",
      "74\n",
      "74\n",
      "74\n",
      "74\n"
     ]
    }
   ],
   "source": [
    "#wap ask the user take a number betwwen 1 to 99\n",
    "# iterate the loop 10 times\n",
    "#count how many times a number is coming and greater than 50\n",
    "\n",
    "import random\n",
    "count=0\n",
    "num=random.randint(1,99)\n",
    "\n",
    "print(num)\n",
    "for i in range(10):\n",
    "    if num>50:\n",
    "        print(num)\n",
    "        count=count+1\n",
    "    "
   ]
  },
  {
   "cell_type": "code",
   "execution_count": 14,
   "id": "3b7943b2",
   "metadata": {},
   "outputs": [
    {
     "name": "stdout",
     "output_type": "stream",
     "text": [
      "enter which number divisiors what to know:10\n",
      "10 is divisible by 1\n",
      "10 is divisible by 2\n",
      "10 is divisible by 5\n",
      "10 is divisible by 10\n",
      "the number of divisiors are: 4\n"
     ]
    }
   ],
   "source": [
    "# number of divisiors program \n",
    "#10 is divisible by what numbers\n",
    "count=0\n",
    "num=eval(input('enter which number divisiors what to know:'))\n",
    "for i in range(1,num+1):\n",
    "    if num%i==0:\n",
    "        print('{} is divisible by {}'.format(num,i))\n",
    "        count=count+1\n",
    "    \n",
    "print(\"the number of divisiors are:\",count)\n"
   ]
  },
  {
   "cell_type": "code",
   "execution_count": 18,
   "id": "2194fb40",
   "metadata": {},
   "outputs": [
    {
     "name": "stdout",
     "output_type": "stream",
     "text": [
      "enter which number divisiors what to know:10\n",
      "10 is divisible by 1\n",
      "10 is divisible by 2\n",
      "10 is divisible by 5\n",
      "10 is divisible by 10\n",
      "the number of divisiors are: 0\n",
      "the number of non divisors count is: 6\n"
     ]
    }
   ],
   "source": [
    "d_count=0\n",
    "nd_count=0\n",
    "num=eval(input('enter which number divisiors what to know:'))\n",
    "for i in range(1,num+1):\n",
    "    if num%i==0:\n",
    "        print('{} is divisible by {}'.format(num,i))\n",
    "        d_count=d_count+1\n",
    "    else:\n",
    "        nd_count=nd_count+1\n",
    "    \n",
    "print(\"the number of divisiors are:\",count)\n",
    "print('the number of non divisors count is:',(nd_count))"
   ]
  },
  {
   "cell_type": "code",
   "execution_count": 35,
   "id": "0c7f0d38",
   "metadata": {},
   "outputs": [
    {
     "name": "stdout",
     "output_type": "stream",
     "text": [
      "enter which number divisiors what to know:10\n",
      "10 is divisible by 1\n"
     ]
    },
    {
     "ename": "UnboundLocalError",
     "evalue": "cannot access local variable 'd_count' where it is not associated with a value",
     "output_type": "error",
     "traceback": [
      "\u001b[1;31m---------------------------------------------------------------------------\u001b[0m",
      "\u001b[1;31mUnboundLocalError\u001b[0m                         Traceback (most recent call last)",
      "Cell \u001b[1;32mIn[35], line 15\u001b[0m\n\u001b[0;32m     12\u001b[0m         nd_count\u001b[38;5;241m=\u001b[39mnd_count\u001b[38;5;241m+\u001b[39m\u001b[38;5;241m1\u001b[39m\n\u001b[0;32m     13\u001b[0m         \u001b[38;5;28;01mreturn\u001b[39;00m(d_count,nd_count)\n\u001b[1;32m---> 15\u001b[0m counter()\n",
      "Cell \u001b[1;32mIn[35], line 10\u001b[0m, in \u001b[0;36mcounter\u001b[1;34m()\u001b[0m\n\u001b[0;32m      8\u001b[0m     \u001b[38;5;28;01mif\u001b[39;00m num\u001b[38;5;241m%\u001b[39mi\u001b[38;5;241m==\u001b[39m\u001b[38;5;241m0\u001b[39m:\n\u001b[0;32m      9\u001b[0m         \u001b[38;5;28mprint\u001b[39m(\u001b[38;5;124m'\u001b[39m\u001b[38;5;132;01m{}\u001b[39;00m\u001b[38;5;124m is divisible by \u001b[39m\u001b[38;5;132;01m{}\u001b[39;00m\u001b[38;5;124m'\u001b[39m\u001b[38;5;241m.\u001b[39mformat(num,i))\n\u001b[1;32m---> 10\u001b[0m         d_count\u001b[38;5;241m=\u001b[39md_count\u001b[38;5;241m+\u001b[39m\u001b[38;5;241m1\u001b[39m\n\u001b[0;32m     11\u001b[0m \u001b[38;5;28;01melse\u001b[39;00m:\n\u001b[0;32m     12\u001b[0m     nd_count\u001b[38;5;241m=\u001b[39mnd_count\u001b[38;5;241m+\u001b[39m\u001b[38;5;241m1\u001b[39m\n",
      "\u001b[1;31mUnboundLocalError\u001b[0m: cannot access local variable 'd_count' where it is not associated with a value"
     ]
    }
   ],
   "source": [
    "# create a function above the program\n",
    "d_count=0\n",
    "nd_count=0\n",
    "num=eval(input('enter which number divisiors what to know:'))\n",
    "def counter():\n",
    "    \n",
    "    for i in range(1,num+1):\n",
    "        if num%i==0:\n",
    "            print('{} is divisible by {}'.format(num,i))\n",
    "            d_count=d_count+1\n",
    "    else:\n",
    "        nd_count=nd_count+1\n",
    "        return(d_count,nd_count)\n",
    "\n",
    "counter()\n",
    "\n"
   ]
  },
  {
   "cell_type": "code",
   "execution_count": 24,
   "id": "fc2e74a4",
   "metadata": {},
   "outputs": [
    {
     "name": "stdout",
     "output_type": "stream",
     "text": [
      "enter which number divisiors what to know:10\n"
     ]
    },
    {
     "ename": "SyntaxError",
     "evalue": "'return' outside function (267171420.py, line 12)",
     "output_type": "error",
     "traceback": [
      "\u001b[1;36m  Cell \u001b[1;32mIn[24], line 12\u001b[1;36m\u001b[0m\n\u001b[1;33m    return(d_count,nd_count)\u001b[0m\n\u001b[1;37m    ^\u001b[0m\n\u001b[1;31mSyntaxError\u001b[0m\u001b[1;31m:\u001b[0m 'return' outside function\n"
     ]
    }
   ],
   "source": [
    "def counter2():\n",
    "    d_count=0\n",
    "    nd_count=0\n",
    "num=eval(input('enter which number divisiors what to know:'))\n",
    "for i in range(1,num+1):\n",
    "    if num%i==0:\n",
    "        print('{} is divisible by {}'.format(num,i))\n",
    "        d_count=d_count+1\n",
    "    else:\n",
    "        nd_count=nd_count+1\n",
    "         \n",
    "    return(d_count,nd_count)\n",
    "    \n",
    "val1,val2=connter2()\n",
    "print(val1,val2)"
   ]
  },
  {
   "cell_type": "code",
   "execution_count": null,
   "id": "1eb03aec",
   "metadata": {},
   "outputs": [],
   "source": [
    "def condition(num,d_count,nd_count,i):\n",
    "    "
   ]
  },
  {
   "cell_type": "code",
   "execution_count": null,
   "id": "bcb28139",
   "metadata": {},
   "outputs": [],
   "source": []
  }
 ],
 "metadata": {
  "kernelspec": {
   "display_name": "Python 3 (ipykernel)",
   "language": "python",
   "name": "python3"
  },
  "language_info": {
   "codemirror_mode": {
    "name": "ipython",
    "version": 3
   },
   "file_extension": ".py",
   "mimetype": "text/x-python",
   "name": "python",
   "nbconvert_exporter": "python",
   "pygments_lexer": "ipython3",
   "version": "3.11.5"
  }
 },
 "nbformat": 4,
 "nbformat_minor": 5
}
